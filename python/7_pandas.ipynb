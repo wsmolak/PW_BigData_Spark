{
 "cells": [
  {
   "cell_type": "markdown",
   "metadata": {},
   "source": [
    "![](imgs/logo.png)\n",
    "\n",
    "# Przetwarzanie Big Data z użyciem Apache Spark\n",
    "\n",
    "Autor notebooka: Jakub Nowacki.\n",
    "\n",
    "## Pandas\n",
    "\n",
    "[Pandas](http://pandas.pydata.org/) to biblioteka dostarczająca wygodne w użyciu struktury danych i narzędzia do ich analizy. Inspirowane tutorialem [10 minutes to Pandas](http://pandas.pydata.org/pandas-docs/stable/10min.html). Zobacz też [dokumentację](http://pandas.pydata.org/pandas-docs/stable/index.html) oraz [Pandas Cheat Sheet](https://github.com/pandas-dev/pandas/blob/master/doc/cheatsheet/Pandas_Cheat_Sheet.pdf)\n",
    "\n",
    "Pandas importujemy używając nazwy `pandas`, najlepiej w całości jako pakiet. Często stosowany jest alias `pd`."
   ]
  },
  {
   "cell_type": "code",
   "execution_count": 1,
   "metadata": {
    "collapsed": false
   },
   "outputs": [],
   "source": [
    "import pandas as pd\n",
    "import numpy as np # Nie wymagane, użyjemy tylko elementów"
   ]
  },
  {
   "cell_type": "markdown",
   "metadata": {},
   "source": [
    "Podstawowymi strukturami danych w Pandas jest Series (seria) i DataFrame (obiekt tabeli); zobacz [dokumentacje](http://pandas.pydata.org/pandas-docs/stable/dsintro.html) po więcej informacji."
   ]
  },
  {
   "cell_type": "markdown",
   "metadata": {},
   "source": [
    "## Series\n",
    "\n",
    "Series jest to jednowymiarowa struktura danych podobna do `ndarray`. Serię tworzymy za pomocą polecena `Series`; jako dane możemy przekazać wiele kolekcji:"
   ]
  },
  {
   "cell_type": "code",
   "execution_count": 2,
   "metadata": {
    "collapsed": false
   },
   "outputs": [
    {
     "data": {
      "text/plain": [
       "0    1.0\n",
       "1    3.0\n",
       "2    5.0\n",
       "3    NaN\n",
       "4    6.0\n",
       "5    8.0\n",
       "dtype: float64"
      ]
     },
     "execution_count": 2,
     "metadata": {},
     "output_type": "execute_result"
    }
   ],
   "source": [
    "l = [1,3,5,np.nan,6,8]\n",
    "s = pd.Series(l)\n",
    "s"
   ]
  },
  {
   "cell_type": "markdown",
   "metadata": {},
   "source": [
    "Series posiada indeks, który będzie stworzony automatycznie jeżeli nie został przekazany lub można go stworzyć:"
   ]
  },
  {
   "cell_type": "code",
   "execution_count": 3,
   "metadata": {
    "collapsed": false
   },
   "outputs": [
    {
     "data": {
      "text/plain": [
       "DatetimeIndex(['2017-01-01', '2017-01-02', '2017-01-03', '2017-01-04',\n",
       "               '2017-01-05', '2017-01-06'],\n",
       "              dtype='datetime64[ns]', freq='D')"
      ]
     },
     "execution_count": 3,
     "metadata": {},
     "output_type": "execute_result"
    }
   ],
   "source": [
    "daty = pd.date_range('20170101', periods=6)\n",
    "daty"
   ]
  },
  {
   "cell_type": "code",
   "execution_count": 4,
   "metadata": {
    "collapsed": false
   },
   "outputs": [
    {
     "data": {
      "text/plain": [
       "2017-01-01    1.0\n",
       "2017-01-02    3.0\n",
       "2017-01-03    5.0\n",
       "2017-01-04    NaN\n",
       "2017-01-05    6.0\n",
       "2017-01-06    8.0\n",
       "Freq: D, dtype: float64"
      ]
     },
     "execution_count": 4,
     "metadata": {},
     "output_type": "execute_result"
    }
   ],
   "source": [
    "s = pd.Series(l, index=daty)\n",
    "s"
   ]
  },
  {
   "cell_type": "markdown",
   "metadata": {},
   "source": [
    "Niemniej, może to być każda seria która jest przynajmniej tak długa jak dane:"
   ]
  },
  {
   "cell_type": "code",
   "execution_count": 9,
   "metadata": {
    "collapsed": false
   },
   "outputs": [
    {
     "data": {
      "text/plain": [
       "a   -1.386650\n",
       "b   -0.124889\n",
       "c    0.035596\n",
       "d   -0.183479\n",
       "e   -0.436986\n",
       "dtype: float64"
      ]
     },
     "execution_count": 9,
     "metadata": {},
     "output_type": "execute_result"
    }
   ],
   "source": [
    "#index to jakakolwiek kolekcja, moze byc np List(\"abcde\")\n",
    "s = pd.Series(np.random.randn(5), index=['a','b','c','d','e'])\n",
    "s"
   ]
  },
  {
   "cell_type": "markdown",
   "metadata": {},
   "source": [
    "Pobierać dane z Series możemy jak w Numpy:"
   ]
  },
  {
   "cell_type": "code",
   "execution_count": 10,
   "metadata": {
    "collapsed": false
   },
   "outputs": [
    {
     "name": "stdout",
     "output_type": "stream",
     "text": [
      "s[1] = \n",
      "-0.124888565862\n",
      "s[2:] = \n",
      "c    0.035596\n",
      "d   -0.183479\n",
      "e   -0.436986\n",
      "dtype: float64\n",
      "s[1:-2] = \n",
      "b   -0.124889\n",
      "c    0.035596\n",
      "dtype: float64\n"
     ]
    }
   ],
   "source": [
    "print('s[1] = \\n{}'.format(s[1]))\n",
    "print('s[2:] = \\n{}'.format(s[2:]))\n",
    "print('s[1:-2] = \\n{}'.format(s[1:-2]))"
   ]
  },
  {
   "cell_type": "markdown",
   "metadata": {},
   "source": [
    "Możemy też robić to jak w słowniku (lub lepiej), jeżeli indeks na to pozwala:"
   ]
  },
  {
   "cell_type": "code",
   "execution_count": 11,
   "metadata": {
    "collapsed": false
   },
   "outputs": [
    {
     "name": "stdout",
     "output_type": "stream",
     "text": [
      "s[\"b\"] = \n",
      "-0.124888565862\n",
      "s[\"c\":] = \n",
      "c    0.035596\n",
      "d   -0.183479\n",
      "e   -0.436986\n",
      "dtype: float64\n",
      "s[\"b\":\"c\"] = \n",
      "b   -0.124889\n",
      "c    0.035596\n",
      "dtype: float64\n"
     ]
    }
   ],
   "source": [
    "print('s[\"b\"] = \\n{}'.format(s[\"b\"]))\n",
    "print('s[\"c\":] = \\n{}'.format(s[\"c\":]))\n",
    "print('s[\"b\":\"c\"] = \\n{}'.format(s[\"b\":\"c\"]))"
   ]
  },
  {
   "cell_type": "markdown",
   "metadata": {},
   "source": [
    "Można też wykonywać operacje na serii:"
   ]
  },
  {
   "cell_type": "code",
   "execution_count": 12,
   "metadata": {
    "collapsed": false
   },
   "outputs": [
    {
     "name": "stdout",
     "output_type": "stream",
     "text": [
      "s*5 = \n",
      "a   -6.933248\n",
      "b   -0.624443\n",
      "c    0.177980\n",
      "d   -0.917395\n",
      "e   -2.184929\n",
      "dtype: float64\n",
      "s**3 = \n",
      "a   -2.666246\n",
      "b   -0.001948\n",
      "c    0.000045\n",
      "d   -0.006177\n",
      "e   -0.083445\n",
      "dtype: float64\n",
      "s*s = \n",
      "a    1.922797\n",
      "b    0.015597\n",
      "c    0.001267\n",
      "d    0.033665\n",
      "e    0.190957\n",
      "dtype: float64\n",
      "s+s = \n",
      "a   -2.773299\n",
      "b   -0.249777\n",
      "c    0.071192\n",
      "d   -0.366958\n",
      "e   -0.873971\n",
      "dtype: float64\n"
     ]
    }
   ],
   "source": [
    "print('s*5 = \\n{}'.format(s*5))\n",
    "print('s**3 = \\n{}'.format(s**3))\n",
    "print('s*s = \\n{}'.format(s*s))\n",
    "print('s+s = \\n{}'.format(s+s))"
   ]
  },
  {
   "cell_type": "markdown",
   "metadata": {},
   "source": [
    "## DataFrame\n",
    "\n",
    "DataFrame jest obiektem dwuwymiarowym, który w obsłudze przypomina tabelę. Każda kolumna ma nazwę i jest serią danych (Series). Wszystkie kolumny mają wspólny indeks. Operacje można wykonywać na całych kolumnach lub wierszach. DataFrame tworzymy operacją `DataFrame`:"
   ]
  },
  {
   "cell_type": "code",
   "execution_count": 13,
   "metadata": {
    "collapsed": false
   },
   "outputs": [
    {
     "data": {
      "text/html": [
       "<div>\n",
       "<table border=\"1\" class=\"dataframe\">\n",
       "  <thead>\n",
       "    <tr style=\"text-align: right;\">\n",
       "      <th></th>\n",
       "      <th>A</th>\n",
       "      <th>B</th>\n",
       "      <th>C</th>\n",
       "      <th>D</th>\n",
       "    </tr>\n",
       "  </thead>\n",
       "  <tbody>\n",
       "    <tr>\n",
       "      <th>2017-01-01</th>\n",
       "      <td>1.880968</td>\n",
       "      <td>0.399949</td>\n",
       "      <td>0.161039</td>\n",
       "      <td>0.225513</td>\n",
       "    </tr>\n",
       "    <tr>\n",
       "      <th>2017-01-02</th>\n",
       "      <td>0.395422</td>\n",
       "      <td>1.824773</td>\n",
       "      <td>0.174324</td>\n",
       "      <td>2.385170</td>\n",
       "    </tr>\n",
       "    <tr>\n",
       "      <th>2017-01-03</th>\n",
       "      <td>0.024649</td>\n",
       "      <td>0.207175</td>\n",
       "      <td>-0.420581</td>\n",
       "      <td>0.714171</td>\n",
       "    </tr>\n",
       "    <tr>\n",
       "      <th>2017-01-04</th>\n",
       "      <td>0.758169</td>\n",
       "      <td>-0.174576</td>\n",
       "      <td>0.662936</td>\n",
       "      <td>-0.674693</td>\n",
       "    </tr>\n",
       "    <tr>\n",
       "      <th>2017-01-05</th>\n",
       "      <td>0.273499</td>\n",
       "      <td>1.584938</td>\n",
       "      <td>-0.301835</td>\n",
       "      <td>0.772814</td>\n",
       "    </tr>\n",
       "    <tr>\n",
       "      <th>2017-01-06</th>\n",
       "      <td>0.012442</td>\n",
       "      <td>0.690055</td>\n",
       "      <td>-0.698111</td>\n",
       "      <td>0.567882</td>\n",
       "    </tr>\n",
       "  </tbody>\n",
       "</table>\n",
       "</div>"
      ],
      "text/plain": [
       "                   A         B         C         D\n",
       "2017-01-01  1.880968  0.399949  0.161039  0.225513\n",
       "2017-01-02  0.395422  1.824773  0.174324  2.385170\n",
       "2017-01-03  0.024649  0.207175 -0.420581  0.714171\n",
       "2017-01-04  0.758169 -0.174576  0.662936 -0.674693\n",
       "2017-01-05  0.273499  1.584938 -0.301835  0.772814\n",
       "2017-01-06  0.012442  0.690055 -0.698111  0.567882"
      ]
     },
     "execution_count": 13,
     "metadata": {},
     "output_type": "execute_result"
    }
   ],
   "source": [
    "df = pd.DataFrame(np.random.randn(6,4), index=daty, columns=list('ABCD'))\n",
    "df"
   ]
  },
  {
   "cell_type": "markdown",
   "metadata": {},
   "source": [
    "Można też przekazać słownik:"
   ]
  },
  {
   "cell_type": "code",
   "execution_count": 18,
   "metadata": {
    "collapsed": false
   },
   "outputs": [
    {
     "data": {
      "text/html": [
       "<div>\n",
       "<table border=\"1\" class=\"dataframe\">\n",
       "  <thead>\n",
       "    <tr style=\"text-align: right;\">\n",
       "      <th></th>\n",
       "      <th>A</th>\n",
       "      <th>B</th>\n",
       "      <th>C</th>\n",
       "      <th>D</th>\n",
       "      <th>E</th>\n",
       "      <th>F</th>\n",
       "    </tr>\n",
       "  </thead>\n",
       "  <tbody>\n",
       "    <tr>\n",
       "      <th>0</th>\n",
       "      <td>0</td>\n",
       "      <td>2013-01-02</td>\n",
       "      <td>1.0</td>\n",
       "      <td>3</td>\n",
       "      <td>test</td>\n",
       "      <td>foo</td>\n",
       "    </tr>\n",
       "    <tr>\n",
       "      <th>1</th>\n",
       "      <td>1</td>\n",
       "      <td>2013-01-02</td>\n",
       "      <td>1.0</td>\n",
       "      <td>3</td>\n",
       "      <td>train</td>\n",
       "      <td>foo</td>\n",
       "    </tr>\n",
       "    <tr>\n",
       "      <th>2</th>\n",
       "      <td>2</td>\n",
       "      <td>2013-01-02</td>\n",
       "      <td>1.0</td>\n",
       "      <td>3</td>\n",
       "      <td>test</td>\n",
       "      <td>foo</td>\n",
       "    </tr>\n",
       "    <tr>\n",
       "      <th>3</th>\n",
       "      <td>3</td>\n",
       "      <td>2013-01-02</td>\n",
       "      <td>1.0</td>\n",
       "      <td>3</td>\n",
       "      <td>train</td>\n",
       "      <td>foo</td>\n",
       "    </tr>\n",
       "  </tbody>\n",
       "</table>\n",
       "</div>"
      ],
      "text/plain": [
       "   A          B    C  D      E    F\n",
       "0  0 2013-01-02  1.0  3   test  foo\n",
       "1  1 2013-01-02  1.0  3  train  foo\n",
       "2  2 2013-01-02  1.0  3   test  foo\n",
       "3  3 2013-01-02  1.0  3  train  foo"
      ]
     },
     "execution_count": 18,
     "metadata": {},
     "output_type": "execute_result"
    }
   ],
   "source": [
    "df2 = pd.DataFrame({ 'A' : np.arange(0,4),\n",
    "                     'B' : pd.Timestamp('20130102'),\n",
    "                     'C' : pd.Series(1,index=list(range(4)),dtype='float32'),\n",
    "                     'D' : np.array([3] * 4,dtype='int32'),\n",
    "                     'E' : pd.Categorical([\"test\",\"train\",\"test\",\"train\"]),\n",
    "                     'F' : 'foo' })\n",
    "df2"
   ]
  },
  {
   "cell_type": "markdown",
   "metadata": {},
   "source": [
    "Albo kolekcji słowników:"
   ]
  },
  {
   "cell_type": "code",
   "execution_count": 19,
   "metadata": {
    "collapsed": false,
    "scrolled": true
   },
   "outputs": [
    {
     "data": {
      "text/html": [
       "<div>\n",
       "<table border=\"1\" class=\"dataframe\">\n",
       "  <thead>\n",
       "    <tr style=\"text-align: right;\">\n",
       "      <th></th>\n",
       "      <th>A</th>\n",
       "      <th>B</th>\n",
       "      <th>C</th>\n",
       "    </tr>\n",
       "  </thead>\n",
       "  <tbody>\n",
       "    <tr>\n",
       "      <th>0</th>\n",
       "      <td>1.0</td>\n",
       "      <td>2.0</td>\n",
       "      <td>NaN</td>\n",
       "    </tr>\n",
       "    <tr>\n",
       "      <th>1</th>\n",
       "      <td>NaN</td>\n",
       "      <td>NaN</td>\n",
       "      <td>3.0</td>\n",
       "    </tr>\n",
       "  </tbody>\n",
       "</table>\n",
       "</div>"
      ],
      "text/plain": [
       "     A    B    C\n",
       "0  1.0  2.0  NaN\n",
       "1  NaN  NaN  3.0"
      ]
     },
     "execution_count": 19,
     "metadata": {},
     "output_type": "execute_result"
    }
   ],
   "source": [
    "df3 = pd.DataFrame([{'A': 1, 'B': 2}, {'C': 3}])\n",
    "df3"
   ]
  },
  {
   "cell_type": "markdown",
   "metadata": {},
   "source": [
    "Istneje też wiele innych metod tworzenia i czytania DataFrame, które zostały opicane w [dokumentacji](http://pandas.pydata.org/pandas-docs/stable/dsintro.html).\n",
    "\n",
    "Pobierać dane można jak w serii i innych kolekcjach Pythonowych:"
   ]
  },
  {
   "cell_type": "code",
   "execution_count": 20,
   "metadata": {
    "collapsed": false
   },
   "outputs": [
    {
     "name": "stdout",
     "output_type": "stream",
     "text": [
      "df['A'] = \n",
      "2017-01-01    1.880968\n",
      "2017-01-02    0.395422\n",
      "2017-01-03    0.024649\n",
      "2017-01-04    0.758169\n",
      "2017-01-05    0.273499\n",
      "2017-01-06    0.012442\n",
      "Freq: D, Name: A, dtype: float64\n",
      "df[1:3] = \n",
      "                   A         B         C         D\n",
      "2017-01-02  0.395422  1.824773  0.174324  2.385170\n",
      "2017-01-03  0.024649  0.207175 -0.420581  0.714171\n"
     ]
    }
   ],
   "source": [
    "print(\"df['A'] = \\n{}\".format(df['A'])) # Kolumna\n",
    "print(\"df[1:3] = \\n{}\".format(df[1:3]))"
   ]
  },
  {
   "cell_type": "markdown",
   "metadata": {},
   "source": [
    "Niemniej zalecane jest używanie zoptymalizowanych funkcji Pandas:"
   ]
  },
  {
   "cell_type": "code",
   "execution_count": 21,
   "metadata": {
    "collapsed": false
   },
   "outputs": [
    {
     "name": "stdout",
     "output_type": "stream",
     "text": [
      "df.loc[:,'A']) = \n",
      "2017-01-01    1.880968\n",
      "2017-01-02    0.395422\n",
      "2017-01-03    0.024649\n",
      "2017-01-04    0.758169\n",
      "2017-01-05    0.273499\n",
      "2017-01-06    0.012442\n",
      "Freq: D, Name: A, dtype: float64\n",
      "df.loc[daty[0],'A'] = \n",
      "1.88096828947\n",
      "df.at[daty[0],'A'] = \n",
      "1.88096828947\n",
      "df.iloc[:,0]] = \n",
      "2017-01-01    1.880968\n",
      "2017-01-02    0.395422\n",
      "2017-01-03    0.024649\n",
      "2017-01-04    0.758169\n",
      "2017-01-05    0.273499\n",
      "2017-01-06    0.012442\n",
      "Freq: D, Name: A, dtype: float64\n",
      "df.iloc[0,0] = \n",
      "1.88096828947\n",
      "df.iat[0,0] = \n",
      "1.88096828947\n",
      "df.ix[0,0] = \n",
      "1.88096828947\n"
     ]
    }
   ],
   "source": [
    "print(\"df.loc[:,'A']) = \\n{}\".format(df.loc[:,'A'])) \n",
    "print(\"df.loc[daty[0],'A'] = \\n{}\".format(df.loc[daty[0],'A'])) \n",
    "print(\"df.at[daty[0],'A'] = \\n{}\".format(df.at[daty[0],'A'])) # Pobiera skalar szybciej\n",
    "print(\"df.iloc[:,0]] = \\n{}\".format(df.iloc[:,0])) \n",
    "print(\"df.iloc[0,0] = \\n{}\".format(df.iloc[0,0])) \n",
    "print(\"df.iat[0,0] = \\n{}\".format(df.iat[0,0])) # Pobiera skalar szybciej\n",
    "print(\"df.ix[0,0] = \\n{}\".format(df.iat[0,0]))"
   ]
  },
  {
   "cell_type": "markdown",
   "metadata": {},
   "source": [
    "Można też używać wyrażeń boolowskich do filtrowania wyników:"
   ]
  },
  {
   "cell_type": "code",
   "execution_count": 24,
   "metadata": {
    "collapsed": false
   },
   "outputs": [
    {
     "data": {
      "text/html": [
       "<div>\n",
       "<table border=\"1\" class=\"dataframe\">\n",
       "  <thead>\n",
       "    <tr style=\"text-align: right;\">\n",
       "      <th></th>\n",
       "      <th>A</th>\n",
       "      <th>B</th>\n",
       "      <th>C</th>\n",
       "      <th>D</th>\n",
       "    </tr>\n",
       "  </thead>\n",
       "  <tbody>\n",
       "    <tr>\n",
       "      <th>2017-01-02</th>\n",
       "      <td>0.395422</td>\n",
       "      <td>1.824773</td>\n",
       "      <td>0.174324</td>\n",
       "      <td>2.385170</td>\n",
       "    </tr>\n",
       "    <tr>\n",
       "      <th>2017-01-05</th>\n",
       "      <td>0.273499</td>\n",
       "      <td>1.584938</td>\n",
       "      <td>-0.301835</td>\n",
       "      <td>0.772814</td>\n",
       "    </tr>\n",
       "    <tr>\n",
       "      <th>2017-01-06</th>\n",
       "      <td>0.012442</td>\n",
       "      <td>0.690055</td>\n",
       "      <td>-0.698111</td>\n",
       "      <td>0.567882</td>\n",
       "    </tr>\n",
       "  </tbody>\n",
       "</table>\n",
       "</div>"
      ],
      "text/plain": [
       "                   A         B         C         D\n",
       "2017-01-02  0.395422  1.824773  0.174324  2.385170\n",
       "2017-01-05  0.273499  1.584938 -0.301835  0.772814\n",
       "2017-01-06  0.012442  0.690055 -0.698111  0.567882"
      ]
     },
     "execution_count": 24,
     "metadata": {},
     "output_type": "execute_result"
    }
   ],
   "source": [
    "df[df.B > 0.5]\n"
   ]
  },
  {
   "cell_type": "markdown",
   "metadata": {},
   "source": [
    "Jest też dostęp do poszczególnych elementów takich jak:"
   ]
  },
  {
   "cell_type": "code",
   "execution_count": 25,
   "metadata": {
    "collapsed": false
   },
   "outputs": [
    {
     "name": "stdout",
     "output_type": "stream",
     "text": [
      "Indeks:\n",
      "DatetimeIndex(['2017-01-01', '2017-01-02', '2017-01-03', '2017-01-04',\n",
      "               '2017-01-05', '2017-01-06'],\n",
      "              dtype='datetime64[ns]', freq='D')\n",
      "Kolumny:\n",
      "Index([u'A', u'B', u'C', u'D'], dtype='object')\n",
      "Początek:\n",
      "                   A         B         C         D\n",
      "2017-01-01  1.880968  0.399949  0.161039  0.225513\n",
      "2017-01-02  0.395422  1.824773  0.174324  2.385170\n",
      "Koniec:\n",
      "                   A         B         C         D\n",
      "2017-01-04  0.758169 -0.174576  0.662936 -0.674693\n",
      "2017-01-05  0.273499  1.584938 -0.301835  0.772814\n",
      "2017-01-06  0.012442  0.690055 -0.698111  0.567882\n"
     ]
    }
   ],
   "source": [
    "print('Indeks:\\n{}'.format(df.index))\n",
    "print('Kolumny:\\n{}'.format(df.columns))\n",
    "print('Początek:\\n{}'.format(df.head(2)))\n",
    "print('Koniec:\\n{}'.format(df.tail(3)))"
   ]
  },
  {
   "cell_type": "markdown",
   "metadata": {},
   "source": [
    "Dane można też sortować po indeksie:"
   ]
  },
  {
   "cell_type": "code",
   "execution_count": 36,
   "metadata": {
    "collapsed": false
   },
   "outputs": [
    {
     "data": {
      "text/html": [
       "<div>\n",
       "<table border=\"1\" class=\"dataframe\">\n",
       "  <thead>\n",
       "    <tr style=\"text-align: right;\">\n",
       "      <th></th>\n",
       "      <th>A</th>\n",
       "      <th>B</th>\n",
       "      <th>C</th>\n",
       "      <th>D</th>\n",
       "    </tr>\n",
       "  </thead>\n",
       "  <tbody>\n",
       "    <tr>\n",
       "      <th>67</th>\n",
       "      <td>-0.553046</td>\n",
       "      <td>0.119585</td>\n",
       "      <td>0.671251</td>\n",
       "      <td>-2.094164</td>\n",
       "    </tr>\n",
       "    <tr>\n",
       "      <th>62</th>\n",
       "      <td>0.512592</td>\n",
       "      <td>-0.028891</td>\n",
       "      <td>0.417297</td>\n",
       "      <td>-1.964113</td>\n",
       "    </tr>\n",
       "    <tr>\n",
       "      <th>5</th>\n",
       "      <td>-0.520253</td>\n",
       "      <td>1.019338</td>\n",
       "      <td>1.144938</td>\n",
       "      <td>-1.807068</td>\n",
       "    </tr>\n",
       "    <tr>\n",
       "      <th>68</th>\n",
       "      <td>0.132317</td>\n",
       "      <td>-0.331333</td>\n",
       "      <td>-0.893269</td>\n",
       "      <td>-1.734896</td>\n",
       "    </tr>\n",
       "    <tr>\n",
       "      <th>8</th>\n",
       "      <td>0.487894</td>\n",
       "      <td>1.704513</td>\n",
       "      <td>-0.883980</td>\n",
       "      <td>-1.592005</td>\n",
       "    </tr>\n",
       "    <tr>\n",
       "      <th>55</th>\n",
       "      <td>0.280422</td>\n",
       "      <td>0.675912</td>\n",
       "      <td>0.313279</td>\n",
       "      <td>-1.545301</td>\n",
       "    </tr>\n",
       "    <tr>\n",
       "      <th>25</th>\n",
       "      <td>-0.602793</td>\n",
       "      <td>0.974928</td>\n",
       "      <td>0.362788</td>\n",
       "      <td>-1.485061</td>\n",
       "    </tr>\n",
       "    <tr>\n",
       "      <th>69</th>\n",
       "      <td>0.281303</td>\n",
       "      <td>0.577300</td>\n",
       "      <td>0.948886</td>\n",
       "      <td>-1.432805</td>\n",
       "    </tr>\n",
       "    <tr>\n",
       "      <th>40</th>\n",
       "      <td>0.677443</td>\n",
       "      <td>-0.813131</td>\n",
       "      <td>0.415935</td>\n",
       "      <td>-1.368647</td>\n",
       "    </tr>\n",
       "    <tr>\n",
       "      <th>73</th>\n",
       "      <td>-0.872816</td>\n",
       "      <td>0.568329</td>\n",
       "      <td>-0.275964</td>\n",
       "      <td>-1.339239</td>\n",
       "    </tr>\n",
       "    <tr>\n",
       "      <th>89</th>\n",
       "      <td>1.530280</td>\n",
       "      <td>-0.391850</td>\n",
       "      <td>0.039087</td>\n",
       "      <td>-1.313842</td>\n",
       "    </tr>\n",
       "    <tr>\n",
       "      <th>59</th>\n",
       "      <td>-1.621284</td>\n",
       "      <td>-1.153374</td>\n",
       "      <td>0.112161</td>\n",
       "      <td>-1.283937</td>\n",
       "    </tr>\n",
       "    <tr>\n",
       "      <th>30</th>\n",
       "      <td>-0.311863</td>\n",
       "      <td>0.458272</td>\n",
       "      <td>1.593334</td>\n",
       "      <td>-1.197630</td>\n",
       "    </tr>\n",
       "    <tr>\n",
       "      <th>88</th>\n",
       "      <td>-2.118292</td>\n",
       "      <td>2.027562</td>\n",
       "      <td>-0.756588</td>\n",
       "      <td>-1.195204</td>\n",
       "    </tr>\n",
       "    <tr>\n",
       "      <th>81</th>\n",
       "      <td>0.418976</td>\n",
       "      <td>0.154846</td>\n",
       "      <td>0.405741</td>\n",
       "      <td>-1.155630</td>\n",
       "    </tr>\n",
       "    <tr>\n",
       "      <th>7</th>\n",
       "      <td>-0.696516</td>\n",
       "      <td>-0.805475</td>\n",
       "      <td>-1.188798</td>\n",
       "      <td>-1.113491</td>\n",
       "    </tr>\n",
       "    <tr>\n",
       "      <th>75</th>\n",
       "      <td>0.294719</td>\n",
       "      <td>2.104555</td>\n",
       "      <td>0.746424</td>\n",
       "      <td>-1.071768</td>\n",
       "    </tr>\n",
       "    <tr>\n",
       "      <th>54</th>\n",
       "      <td>0.970941</td>\n",
       "      <td>0.623528</td>\n",
       "      <td>0.910955</td>\n",
       "      <td>-1.050641</td>\n",
       "    </tr>\n",
       "    <tr>\n",
       "      <th>50</th>\n",
       "      <td>-1.009520</td>\n",
       "      <td>-0.269700</td>\n",
       "      <td>1.382410</td>\n",
       "      <td>-1.032445</td>\n",
       "    </tr>\n",
       "    <tr>\n",
       "      <th>37</th>\n",
       "      <td>-0.603785</td>\n",
       "      <td>0.005662</td>\n",
       "      <td>0.532178</td>\n",
       "      <td>-1.021808</td>\n",
       "    </tr>\n",
       "  </tbody>\n",
       "</table>\n",
       "</div>"
      ],
      "text/plain": [
       "           A         B         C         D\n",
       "67 -0.553046  0.119585  0.671251 -2.094164\n",
       "62  0.512592 -0.028891  0.417297 -1.964113\n",
       "5  -0.520253  1.019338  1.144938 -1.807068\n",
       "68  0.132317 -0.331333 -0.893269 -1.734896\n",
       "8   0.487894  1.704513 -0.883980 -1.592005\n",
       "55  0.280422  0.675912  0.313279 -1.545301\n",
       "25 -0.602793  0.974928  0.362788 -1.485061\n",
       "69  0.281303  0.577300  0.948886 -1.432805\n",
       "40  0.677443 -0.813131  0.415935 -1.368647\n",
       "73 -0.872816  0.568329 -0.275964 -1.339239\n",
       "89  1.530280 -0.391850  0.039087 -1.313842\n",
       "59 -1.621284 -1.153374  0.112161 -1.283937\n",
       "30 -0.311863  0.458272  1.593334 -1.197630\n",
       "88 -2.118292  2.027562 -0.756588 -1.195204\n",
       "81  0.418976  0.154846  0.405741 -1.155630\n",
       "7  -0.696516 -0.805475 -1.188798 -1.113491\n",
       "75  0.294719  2.104555  0.746424 -1.071768\n",
       "54  0.970941  0.623528  0.910955 -1.050641\n",
       "50 -1.009520 -0.269700  1.382410 -1.032445\n",
       "37 -0.603785  0.005662  0.532178 -1.021808"
      ]
     },
     "execution_count": 36,
     "metadata": {},
     "output_type": "execute_result"
    }
   ],
   "source": [
    "df = pd.DataFrame(np.random.randn(100,4),columns=list('ABCD'))\n",
    "#df.sort_index(ascending=True)\n",
    "df.sort_values('D').head(20)\n"
   ]
  },
  {
   "cell_type": "code",
   "execution_count": 38,
   "metadata": {
    "collapsed": false
   },
   "outputs": [
    {
     "data": {
      "text/plain": [
       "0.11958531125661095"
      ]
     },
     "execution_count": 38,
     "metadata": {},
     "output_type": "execute_result"
    }
   ],
   "source": [
    "#pobranie wartosci z pozycji argumenty sa etykietami tabeli\n",
    "df.loc[67,'B']"
   ]
  },
  {
   "cell_type": "code",
   "execution_count": 40,
   "metadata": {
    "collapsed": false
   },
   "outputs": [
    {
     "data": {
      "text/plain": [
       "0.11958531125661095"
      ]
     },
     "execution_count": 40,
     "metadata": {},
     "output_type": "execute_result"
    }
   ],
   "source": [
    "#pobranie wartosci z pozycji argumenty sa indeksem jak w normalnej tablicy\n",
    "df.iloc[67,1]"
   ]
  },
  {
   "cell_type": "markdown",
   "metadata": {},
   "source": [
    "Po kolumnach:"
   ]
  },
  {
   "cell_type": "code",
   "execution_count": 29,
   "metadata": {
    "collapsed": false
   },
   "outputs": [
    {
     "data": {
      "text/html": [
       "<div>\n",
       "<table border=\"1\" class=\"dataframe\">\n",
       "  <thead>\n",
       "    <tr style=\"text-align: right;\">\n",
       "      <th></th>\n",
       "      <th>D</th>\n",
       "      <th>C</th>\n",
       "      <th>B</th>\n",
       "      <th>A</th>\n",
       "    </tr>\n",
       "  </thead>\n",
       "  <tbody>\n",
       "    <tr>\n",
       "      <th>2017-01-01</th>\n",
       "      <td>0.225513</td>\n",
       "      <td>0.161039</td>\n",
       "      <td>0.399949</td>\n",
       "      <td>1.880968</td>\n",
       "    </tr>\n",
       "    <tr>\n",
       "      <th>2017-01-02</th>\n",
       "      <td>2.385170</td>\n",
       "      <td>0.174324</td>\n",
       "      <td>1.824773</td>\n",
       "      <td>0.395422</td>\n",
       "    </tr>\n",
       "    <tr>\n",
       "      <th>2017-01-03</th>\n",
       "      <td>0.714171</td>\n",
       "      <td>-0.420581</td>\n",
       "      <td>0.207175</td>\n",
       "      <td>0.024649</td>\n",
       "    </tr>\n",
       "    <tr>\n",
       "      <th>2017-01-04</th>\n",
       "      <td>-0.674693</td>\n",
       "      <td>0.662936</td>\n",
       "      <td>-0.174576</td>\n",
       "      <td>0.758169</td>\n",
       "    </tr>\n",
       "    <tr>\n",
       "      <th>2017-01-05</th>\n",
       "      <td>0.772814</td>\n",
       "      <td>-0.301835</td>\n",
       "      <td>1.584938</td>\n",
       "      <td>0.273499</td>\n",
       "    </tr>\n",
       "    <tr>\n",
       "      <th>2017-01-06</th>\n",
       "      <td>0.567882</td>\n",
       "      <td>-0.698111</td>\n",
       "      <td>0.690055</td>\n",
       "      <td>0.012442</td>\n",
       "    </tr>\n",
       "  </tbody>\n",
       "</table>\n",
       "</div>"
      ],
      "text/plain": [
       "                   D         C         B         A\n",
       "2017-01-01  0.225513  0.161039  0.399949  1.880968\n",
       "2017-01-02  2.385170  0.174324  1.824773  0.395422\n",
       "2017-01-03  0.714171 -0.420581  0.207175  0.024649\n",
       "2017-01-04 -0.674693  0.662936 -0.174576  0.758169\n",
       "2017-01-05  0.772814 -0.301835  1.584938  0.273499\n",
       "2017-01-06  0.567882 -0.698111  0.690055  0.012442"
      ]
     },
     "execution_count": 29,
     "metadata": {},
     "output_type": "execute_result"
    }
   ],
   "source": [
    "df.sort_index(axis=1, ascending=False)"
   ]
  },
  {
   "cell_type": "markdown",
   "metadata": {},
   "source": [
    "Lub po wartościach:"
   ]
  },
  {
   "cell_type": "code",
   "execution_count": null,
   "metadata": {
    "collapsed": false
   },
   "outputs": [],
   "source": [
    "df.sort_values('B')"
   ]
  },
  {
   "cell_type": "markdown",
   "metadata": {},
   "source": [
    "Można też tabelę transponować:"
   ]
  },
  {
   "cell_type": "code",
   "execution_count": null,
   "metadata": {
    "collapsed": false
   },
   "outputs": [],
   "source": [
    "df.T"
   ]
  },
  {
   "cell_type": "markdown",
   "metadata": {},
   "source": [
    "Nową kolumnę dodajemy przez przypisanie:"
   ]
  },
  {
   "cell_type": "code",
   "execution_count": null,
   "metadata": {
    "collapsed": false
   },
   "outputs": [],
   "source": [
    "df3['Z'] = ['aa', 'bb']\n",
    "df3"
   ]
  },
  {
   "cell_type": "markdown",
   "metadata": {},
   "source": [
    "Zmiana pojedynczej wartości może być również zrobiona przez przypisanie; używamy wtedy komend lokalizacyjnych, np:"
   ]
  },
  {
   "cell_type": "code",
   "execution_count": 41,
   "metadata": {
    "collapsed": false
   },
   "outputs": [
    {
     "data": {
      "text/html": [
       "<div>\n",
       "<table border=\"1\" class=\"dataframe\">\n",
       "  <thead>\n",
       "    <tr style=\"text-align: right;\">\n",
       "      <th></th>\n",
       "      <th>A</th>\n",
       "      <th>B</th>\n",
       "      <th>C</th>\n",
       "    </tr>\n",
       "  </thead>\n",
       "  <tbody>\n",
       "    <tr>\n",
       "      <th>0</th>\n",
       "      <td>1.0</td>\n",
       "      <td>2.0</td>\n",
       "      <td>33.0</td>\n",
       "    </tr>\n",
       "    <tr>\n",
       "      <th>1</th>\n",
       "      <td>NaN</td>\n",
       "      <td>NaN</td>\n",
       "      <td>3.0</td>\n",
       "    </tr>\n",
       "  </tbody>\n",
       "</table>\n",
       "</div>"
      ],
      "text/plain": [
       "     A    B     C\n",
       "0  1.0  2.0  33.0\n",
       "1  NaN  NaN   3.0"
      ]
     },
     "execution_count": 41,
     "metadata": {},
     "output_type": "execute_result"
    }
   ],
   "source": [
    "df3.at[0, 'C'] = 33\n",
    "df3"
   ]
  },
  {
   "cell_type": "code",
   "execution_count": 42,
   "metadata": {
    "collapsed": false
   },
   "outputs": [
    {
     "data": {
      "text/html": [
       "<div>\n",
       "<table border=\"1\" class=\"dataframe\">\n",
       "  <thead>\n",
       "    <tr style=\"text-align: right;\">\n",
       "      <th></th>\n",
       "      <th>A</th>\n",
       "      <th>B</th>\n",
       "      <th>C</th>\n",
       "    </tr>\n",
       "  </thead>\n",
       "  <tbody>\n",
       "    <tr>\n",
       "      <th>0</th>\n",
       "      <td>1.0</td>\n",
       "      <td>2.0</td>\n",
       "      <td>33.0</td>\n",
       "    </tr>\n",
       "    <tr>\n",
       "      <th>1</th>\n",
       "      <td>NaN</td>\n",
       "      <td>NaN</td>\n",
       "      <td>3.0</td>\n",
       "    </tr>\n",
       "    <tr>\n",
       "      <th>2</th>\n",
       "      <td>NaN</td>\n",
       "      <td>NaN</td>\n",
       "      <td>NaN</td>\n",
       "    </tr>\n",
       "  </tbody>\n",
       "</table>\n",
       "</div>"
      ],
      "text/plain": [
       "     A    B     C\n",
       "0  1.0  2.0  33.0\n",
       "1  NaN  NaN   3.0\n",
       "2  NaN  NaN   NaN"
      ]
     },
     "execution_count": 42,
     "metadata": {},
     "output_type": "execute_result"
    }
   ],
   "source": [
    "df3.at[2,:] = np.nan\n",
    "df3"
   ]
  },
  {
   "cell_type": "markdown",
   "metadata": {},
   "source": [
    "Pandas posiada również metody radzenia sobie z brakującymi danymi:"
   ]
  },
  {
   "cell_type": "code",
   "execution_count": 43,
   "metadata": {
    "collapsed": false
   },
   "outputs": [
    {
     "data": {
      "text/html": [
       "<div>\n",
       "<table border=\"1\" class=\"dataframe\">\n",
       "  <thead>\n",
       "    <tr style=\"text-align: right;\">\n",
       "      <th></th>\n",
       "      <th>A</th>\n",
       "      <th>B</th>\n",
       "      <th>C</th>\n",
       "    </tr>\n",
       "  </thead>\n",
       "  <tbody>\n",
       "    <tr>\n",
       "      <th>0</th>\n",
       "      <td>1.0</td>\n",
       "      <td>2.0</td>\n",
       "      <td>33.0</td>\n",
       "    </tr>\n",
       "  </tbody>\n",
       "</table>\n",
       "</div>"
      ],
      "text/plain": [
       "     A    B     C\n",
       "0  1.0  2.0  33.0"
      ]
     },
     "execution_count": 43,
     "metadata": {},
     "output_type": "execute_result"
    }
   ],
   "source": [
    "df3.dropna(how='any')"
   ]
  },
  {
   "cell_type": "code",
   "execution_count": 44,
   "metadata": {
    "collapsed": false
   },
   "outputs": [
    {
     "data": {
      "text/html": [
       "<div>\n",
       "<table border=\"1\" class=\"dataframe\">\n",
       "  <thead>\n",
       "    <tr style=\"text-align: right;\">\n",
       "      <th></th>\n",
       "      <th>A</th>\n",
       "      <th>B</th>\n",
       "      <th>C</th>\n",
       "    </tr>\n",
       "  </thead>\n",
       "  <tbody>\n",
       "    <tr>\n",
       "      <th>0</th>\n",
       "      <td>1.0</td>\n",
       "      <td>2.0</td>\n",
       "      <td>33.0</td>\n",
       "    </tr>\n",
       "    <tr>\n",
       "      <th>1</th>\n",
       "      <td>NaN</td>\n",
       "      <td>NaN</td>\n",
       "      <td>3.0</td>\n",
       "    </tr>\n",
       "  </tbody>\n",
       "</table>\n",
       "</div>"
      ],
      "text/plain": [
       "     A    B     C\n",
       "0  1.0  2.0  33.0\n",
       "1  NaN  NaN   3.0"
      ]
     },
     "execution_count": 44,
     "metadata": {},
     "output_type": "execute_result"
    }
   ],
   "source": [
    "df3.dropna(how='all')"
   ]
  },
  {
   "cell_type": "code",
   "execution_count": 45,
   "metadata": {
    "collapsed": false
   },
   "outputs": [
    {
     "data": {
      "text/html": [
       "<div>\n",
       "<table border=\"1\" class=\"dataframe\">\n",
       "  <thead>\n",
       "    <tr style=\"text-align: right;\">\n",
       "      <th></th>\n",
       "      <th>A</th>\n",
       "      <th>B</th>\n",
       "      <th>C</th>\n",
       "    </tr>\n",
       "  </thead>\n",
       "  <tbody>\n",
       "    <tr>\n",
       "      <th>0</th>\n",
       "      <td>1.0</td>\n",
       "      <td>2.0</td>\n",
       "      <td>33.0</td>\n",
       "    </tr>\n",
       "    <tr>\n",
       "      <th>1</th>\n",
       "      <td>-100.0</td>\n",
       "      <td>-100.0</td>\n",
       "      <td>3.0</td>\n",
       "    </tr>\n",
       "    <tr>\n",
       "      <th>2</th>\n",
       "      <td>-100.0</td>\n",
       "      <td>-100.0</td>\n",
       "      <td>-100.0</td>\n",
       "    </tr>\n",
       "  </tbody>\n",
       "</table>\n",
       "</div>"
      ],
      "text/plain": [
       "       A      B      C\n",
       "0    1.0    2.0   33.0\n",
       "1 -100.0 -100.0    3.0\n",
       "2 -100.0 -100.0 -100.0"
      ]
     },
     "execution_count": 45,
     "metadata": {},
     "output_type": "execute_result"
    }
   ],
   "source": [
    "df3.fillna(-100)"
   ]
  },
  {
   "cell_type": "markdown",
   "metadata": {},
   "source": [
    "Dostępne są również funkcje statystyczne, np:"
   ]
  },
  {
   "cell_type": "code",
   "execution_count": null,
   "metadata": {
    "collapsed": false
   },
   "outputs": [],
   "source": [
    "df.describe()"
   ]
  },
  {
   "cell_type": "code",
   "execution_count": 46,
   "metadata": {
    "collapsed": false
   },
   "outputs": [
    {
     "data": {
      "text/plain": [
       "A   -0.060772\n",
       "B    0.112204\n",
       "C   -0.095164\n",
       "D   -0.008847\n",
       "dtype: float64"
      ]
     },
     "execution_count": 46,
     "metadata": {},
     "output_type": "execute_result"
    }
   ],
   "source": [
    "df.mean()"
   ]
  },
  {
   "cell_type": "markdown",
   "metadata": {},
   "source": [
    "Dodatkowo, można używać funkcji znanych z baz danych jak grupowanie czy złączenie (join):"
   ]
  },
  {
   "cell_type": "code",
   "execution_count": 49,
   "metadata": {
    "collapsed": false
   },
   "outputs": [
    {
     "data": {
      "text/plain": [
       "E\n",
       "test     2\n",
       "train    2\n",
       "dtype: int64"
      ]
     },
     "execution_count": 49,
     "metadata": {},
     "output_type": "execute_result"
    }
   ],
   "source": [
    "df2.groupby('E').size()"
   ]
  },
  {
   "cell_type": "code",
   "execution_count": null,
   "metadata": {
    "collapsed": false
   },
   "outputs": [],
   "source": [
    "df2.groupby('E').mean()"
   ]
  },
  {
   "cell_type": "code",
   "execution_count": 48,
   "metadata": {
    "collapsed": false
   },
   "outputs": [
    {
     "data": {
      "text/html": [
       "<div>\n",
       "<table border=\"1\" class=\"dataframe\">\n",
       "  <thead>\n",
       "    <tr style=\"text-align: right;\">\n",
       "      <th></th>\n",
       "      <th>A</th>\n",
       "      <th>B</th>\n",
       "      <th>C</th>\n",
       "      <th>D</th>\n",
       "      <th>E</th>\n",
       "      <th>F</th>\n",
       "      <th>A_3</th>\n",
       "      <th>B_3</th>\n",
       "      <th>C_3</th>\n",
       "    </tr>\n",
       "  </thead>\n",
       "  <tbody>\n",
       "    <tr>\n",
       "      <th>0</th>\n",
       "      <td>0</td>\n",
       "      <td>2013-01-02</td>\n",
       "      <td>1.0</td>\n",
       "      <td>3</td>\n",
       "      <td>test</td>\n",
       "      <td>foo</td>\n",
       "      <td>1.0</td>\n",
       "      <td>2.0</td>\n",
       "      <td>33.0</td>\n",
       "    </tr>\n",
       "    <tr>\n",
       "      <th>1</th>\n",
       "      <td>1</td>\n",
       "      <td>2013-01-02</td>\n",
       "      <td>1.0</td>\n",
       "      <td>3</td>\n",
       "      <td>train</td>\n",
       "      <td>foo</td>\n",
       "      <td>NaN</td>\n",
       "      <td>NaN</td>\n",
       "      <td>3.0</td>\n",
       "    </tr>\n",
       "    <tr>\n",
       "      <th>2</th>\n",
       "      <td>2</td>\n",
       "      <td>2013-01-02</td>\n",
       "      <td>1.0</td>\n",
       "      <td>3</td>\n",
       "      <td>test</td>\n",
       "      <td>foo</td>\n",
       "      <td>NaN</td>\n",
       "      <td>NaN</td>\n",
       "      <td>NaN</td>\n",
       "    </tr>\n",
       "  </tbody>\n",
       "</table>\n",
       "</div>"
      ],
      "text/plain": [
       "   A          B    C  D      E    F  A_3  B_3   C_3\n",
       "0  0 2013-01-02  1.0  3   test  foo  1.0  2.0  33.0\n",
       "1  1 2013-01-02  1.0  3  train  foo  NaN  NaN   3.0\n",
       "2  2 2013-01-02  1.0  3   test  foo  NaN  NaN   NaN"
      ]
     },
     "execution_count": 48,
     "metadata": {},
     "output_type": "execute_result"
    }
   ],
   "source": [
    "df2.join(df3, how='right', rsuffix='_3')"
   ]
  },
  {
   "cell_type": "markdown",
   "metadata": {},
   "source": [
    "## Zadanie\n",
    "\n",
    "Należy stworzyć DataFrame `samochody` z losową kolumną liczb całkowitych `przebieg` z przedziału [0, 200 000] oraz `spalanie` z przedziału [2, 20]. \n",
    "* dodaj kolumne `marka`\n",
    "    * jeżeli samochód ma spalanie [0, 5] marka to VW\n",
    "    * jeżeli samochód ma spalanie [6, 10] marka to Ford\n",
    "    * jeżeli samochód ma spalanie 11 i więcej, marka to UAZ\n",
    "* dodaj kolumne `pochodzenie`:\n",
    "    * jeżeli przebieg poniżej 100 km, pochodzenie `nowy`\n",
    "    * jeżeli przebieg powyżej 100 km, pochodzenie `uzywany`\n",
    "    * jeżeli przebieg powyżej 100 000 km, pochodzenie `z niemiec`\n",
    "* przeanalizuj dane statystycznie\n",
    "* ★ pogrupuj dane po `marce` i po `pochodzenie`:\n",
    "    * sprawdź liczność grup\n",
    "    * wykonaj analizę statystyczną"
   ]
  },
  {
   "cell_type": "code",
   "execution_count": 87,
   "metadata": {
    "collapsed": false
   },
   "outputs": [
    {
     "data": {
      "text/html": [
       "<div>\n",
       "<table border=\"1\" class=\"dataframe\">\n",
       "  <thead>\n",
       "    <tr style=\"text-align: right;\">\n",
       "      <th></th>\n",
       "      <th>przebieg</th>\n",
       "      <th>spalanie</th>\n",
       "      <th>marka</th>\n",
       "    </tr>\n",
       "  </thead>\n",
       "  <tbody>\n",
       "    <tr>\n",
       "      <th>0</th>\n",
       "      <td>157294</td>\n",
       "      <td>10.091690</td>\n",
       "      <td>Ford</td>\n",
       "    </tr>\n",
       "    <tr>\n",
       "      <th>1</th>\n",
       "      <td>70898</td>\n",
       "      <td>13.265133</td>\n",
       "      <td>UAZ</td>\n",
       "    </tr>\n",
       "    <tr>\n",
       "      <th>2</th>\n",
       "      <td>165096</td>\n",
       "      <td>10.678254</td>\n",
       "      <td>Ford</td>\n",
       "    </tr>\n",
       "    <tr>\n",
       "      <th>3</th>\n",
       "      <td>186818</td>\n",
       "      <td>6.387675</td>\n",
       "      <td>Ford</td>\n",
       "    </tr>\n",
       "    <tr>\n",
       "      <th>4</th>\n",
       "      <td>41026</td>\n",
       "      <td>16.937640</td>\n",
       "      <td>UAZ</td>\n",
       "    </tr>\n",
       "    <tr>\n",
       "      <th>5</th>\n",
       "      <td>193054</td>\n",
       "      <td>14.310653</td>\n",
       "      <td>UAZ</td>\n",
       "    </tr>\n",
       "    <tr>\n",
       "      <th>6</th>\n",
       "      <td>93932</td>\n",
       "      <td>10.056030</td>\n",
       "      <td>Ford</td>\n",
       "    </tr>\n",
       "    <tr>\n",
       "      <th>7</th>\n",
       "      <td>181423</td>\n",
       "      <td>4.603565</td>\n",
       "      <td>VW</td>\n",
       "    </tr>\n",
       "    <tr>\n",
       "      <th>8</th>\n",
       "      <td>59662</td>\n",
       "      <td>2.975203</td>\n",
       "      <td>VW</td>\n",
       "    </tr>\n",
       "    <tr>\n",
       "      <th>9</th>\n",
       "      <td>120712</td>\n",
       "      <td>9.046793</td>\n",
       "      <td>Ford</td>\n",
       "    </tr>\n",
       "  </tbody>\n",
       "</table>\n",
       "</div>"
      ],
      "text/plain": [
       "   przebieg   spalanie marka\n",
       "0    157294  10.091690  Ford\n",
       "1     70898  13.265133   UAZ\n",
       "2    165096  10.678254  Ford\n",
       "3    186818   6.387675  Ford\n",
       "4     41026  16.937640   UAZ\n",
       "5    193054  14.310653   UAZ\n",
       "6     93932  10.056030  Ford\n",
       "7    181423   4.603565    VW\n",
       "8     59662   2.975203    VW\n",
       "9    120712   9.046793  Ford"
      ]
     },
     "execution_count": 87,
     "metadata": {},
     "output_type": "execute_result"
    }
   ],
   "source": [
    "samochody = pd.DataFrame({ 'przebieg' : np.random.randint(0,200001,50),\n",
    "                     'spalanie' : np.random.rand(50)*18 +2})\n",
    "\n",
    "samochody.loc[samochody.spalanie <= 5,'marka'] = 'VW'\n",
    "samochody.loc[(samochody.spalanie > 5) & (samochody.spalanie < 11),'marka'] = 'Ford'\n",
    "samochody.loc[samochody.spalanie >= 11,'marka'] = 'UAZ'\n",
    "              \n",
    "samochody.head(10)\n"
   ]
  },
  {
   "cell_type": "code",
   "execution_count": 73,
   "metadata": {
    "collapsed": false
   },
   "outputs": [
    {
     "data": {
      "text/plain": [
       "12255"
      ]
     },
     "execution_count": 73,
     "metadata": {},
     "output_type": "execute_result"
    }
   ],
   "source": [
    "np.random.randint(0,200000)"
   ]
  },
  {
   "cell_type": "code",
   "execution_count": null,
   "metadata": {
    "collapsed": true
   },
   "outputs": [],
   "source": []
  }
 ],
 "metadata": {
  "anaconda-cloud": {},
  "kernelspec": {
   "display_name": "Python [conda root]",
   "language": "python",
   "name": "conda-root-py"
  },
  "language_info": {
   "codemirror_mode": {
    "name": "ipython",
    "version": 2
   },
   "file_extension": ".py",
   "mimetype": "text/x-python",
   "name": "python",
   "nbconvert_exporter": "python",
   "pygments_lexer": "ipython2",
   "version": "2.7.12"
  }
 },
 "nbformat": 4,
 "nbformat_minor": 0
}
