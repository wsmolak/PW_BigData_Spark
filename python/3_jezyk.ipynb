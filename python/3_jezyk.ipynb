{
 "cells": [
  {
   "cell_type": "markdown",
   "metadata": {},
   "source": [
    "![](imgs/logo.png)\n",
    "\n",
    "# Przetwarzanie Big Data z użyciem Apache Spark\n",
    "\n",
    "Autor notebooka: Jakub Nowacki.\n",
    "\n",
    "## Język\n",
    "\n",
    "Ogólna struktura i użycie [języka Python](https://www.python.org/). Inspirowane tutorialem [Learn Python in 10 minutes](https://www.stavros.io/tutorials/python/)."
   ]
  },
  {
   "cell_type": "markdown",
   "metadata": {},
   "source": [
    "## Zmienne\n",
    "\n",
    "Jako, że Python jest dynamicznie typowany, zmienne definiujemy bardzo prosto:"
   ]
  },
  {
   "cell_type": "code",
   "execution_count": 5,
   "metadata": {
    "collapsed": false
   },
   "outputs": [
    {
     "name": "stdout",
     "output_type": "stream",
     "text": [
      "Zmienna ma wartosc 7\n"
     ]
    }
   ],
   "source": [
    "zmienna = 2\n",
    "zmienna += 5\n",
    "print(\"Zmienna ma wartosc {}\".format(zmienna))"
   ]
  },
  {
   "cell_type": "code",
   "execution_count": 6,
   "metadata": {
    "collapsed": false
   },
   "outputs": [
    {
     "name": "stdout",
     "output_type": "stream",
     "text": [
      "Zmienna ma wartosc -6\n"
     ]
    }
   ],
   "source": [
    "zmienna -= 13\n",
    "print(\"Zmienna ma wartosc {}\".format(zmienna))"
   ]
  },
  {
   "cell_type": "code",
   "execution_count": 7,
   "metadata": {
    "collapsed": false
   },
   "outputs": [
    {
     "name": "stdout",
     "output_type": "stream",
     "text": [
      "Hello world.\n",
      "Hello world.\n"
     ]
    },
    {
     "data": {
      "text/plain": [
       "'Hello world.'"
      ]
     },
     "execution_count": 7,
     "metadata": {},
     "output_type": "execute_result"
    }
   ],
   "source": [
    "# Komentarz w jednej lini\n",
    "# Teraz zmienna tekstowa\n",
    "tekst = \"Hello\"\n",
    "tekst += \" world.\"\n",
    "# Tylko Python 2\n",
    "print tekst\n",
    "# Python 2(.7) i 3\n",
    "print(tekst)\n",
    "# albo w notebookach\n",
    "tekst"
   ]
  },
  {
   "cell_type": "code",
   "execution_count": 8,
   "metadata": {
    "collapsed": false
   },
   "outputs": [
    {
     "data": {
      "text/plain": [
       "(-6, 'Hello world.')"
      ]
     },
     "execution_count": 8,
     "metadata": {},
     "output_type": "execute_result"
    }
   ],
   "source": [
    "\"\"\"\n",
    "Komentarz w\n",
    "wie-\n",
    "lu\n",
    "linia-\n",
    "ch...\n",
    "Zamiana zmiennych, bo można\n",
    "\"\"\"\n",
    "tekst, zmienna = zmienna, tekst\n",
    "tekst, zmienna"
   ]
  },
  {
   "cell_type": "markdown",
   "metadata": {},
   "source": [
    "## Typy\n",
    "\n",
    "Python jest dynamicznie typowany, jak widać powyżej, niemniej ma typy. Podstawowe typy w Pythonie to (do rozpoznawania typów używamy komendy *type*):"
   ]
  },
  {
   "cell_type": "code",
   "execution_count": 9,
   "metadata": {
    "collapsed": false
   },
   "outputs": [
    {
     "name": "stdout",
     "output_type": "stream",
     "text": [
      "<type 'int'>\n",
      "<type 'float'>\n",
      "<type 'str'>\n",
      "<type 'unicode'>\n",
      "<type 'long'>\n",
      "<type 'complex'>\n",
      "<type 'bool'>\n",
      "<type 'NoneType'>\n"
     ]
    }
   ],
   "source": [
    "print(type(1))\n",
    "print(type(1.))\n",
    "print(type(\"1\"))\n",
    "print(type(u\"s\")) # W pythonie 3 str to unicode\n",
    "print(type(1l)) # W Pythonie 3 jest tylko int który ma zakres taki jak long\n",
    "print(type(1+2j))\n",
    "print(type(True))\n",
    "print(type(None))"
   ]
  },
  {
   "cell_type": "markdown",
   "metadata": {},
   "source": [
    "Ponadto Python ma typy złożone:"
   ]
  },
  {
   "cell_type": "code",
   "execution_count": 10,
   "metadata": {
    "collapsed": false
   },
   "outputs": [
    {
     "name": "stdout",
     "output_type": "stream",
     "text": [
      "<type 'list'>\n",
      "<type 'tuple'>\n",
      "<type 'set'>\n",
      "<type 'dict'>\n"
     ]
    }
   ],
   "source": [
    "print(type([1, \"dwa\", 3.0, 4l]))\n",
    "print(type((1, \"dwa\", 3.0, 4l)))\n",
    "print(type({1, \"dwa\", 3.0, 4l}))\n",
    "print(type({1: \"dwa\", 3.0: 4l}))"
   ]
  },
  {
   "cell_type": "markdown",
   "metadata": {},
   "source": [
    "Można też wymuszać typy, np:"
   ]
  },
  {
   "cell_type": "code",
   "execution_count": 11,
   "metadata": {
    "collapsed": false
   },
   "outputs": [
    {
     "name": "stdout",
     "output_type": "stream",
     "text": [
      "(1, <type 'int'>)\n",
      "(1, <type 'int'>)\n",
      "(1.0, <type 'float'>)\n",
      "(1.2, <type 'float'>)\n"
     ]
    },
    {
     "ename": "ValueError",
     "evalue": "invalid literal for int() with base 10: '1.2'",
     "output_type": "error",
     "traceback": [
      "\u001b[0;31m---------------------------------------------------------------------------\u001b[0m",
      "\u001b[0;31mValueError\u001b[0m                                Traceback (most recent call last)",
      "\u001b[0;32m<ipython-input-11-9e8e41082ae3>\u001b[0m in \u001b[0;36m<module>\u001b[0;34m()\u001b[0m\n\u001b[1;32m      8\u001b[0m \u001b[0;32mprint\u001b[0m\u001b[0;34m(\u001b[0m\u001b[0mi\u001b[0m\u001b[0;34m,\u001b[0m \u001b[0mtype\u001b[0m\u001b[0;34m(\u001b[0m\u001b[0mi\u001b[0m\u001b[0;34m)\u001b[0m\u001b[0;34m)\u001b[0m\u001b[0;34m\u001b[0m\u001b[0m\n\u001b[1;32m      9\u001b[0m \u001b[0;31m# ... ale już nie ...\u001b[0m\u001b[0;34m\u001b[0m\u001b[0;34m\u001b[0m\u001b[0m\n\u001b[0;32m---> 10\u001b[0;31m \u001b[0mi\u001b[0m \u001b[0;34m=\u001b[0m \u001b[0mint\u001b[0m\u001b[0;34m(\u001b[0m\u001b[0;34m'1.2'\u001b[0m\u001b[0;34m)\u001b[0m\u001b[0;34m\u001b[0m\u001b[0m\n\u001b[0m\u001b[1;32m     11\u001b[0m \u001b[0;32mprint\u001b[0m\u001b[0;34m(\u001b[0m\u001b[0mi\u001b[0m\u001b[0;34m,\u001b[0m \u001b[0mtype\u001b[0m\u001b[0;34m(\u001b[0m\u001b[0mi\u001b[0m\u001b[0;34m)\u001b[0m\u001b[0;34m)\u001b[0m\u001b[0;34m\u001b[0m\u001b[0m\n",
      "\u001b[0;31mValueError\u001b[0m: invalid literal for int() with base 10: '1.2'"
     ]
    }
   ],
   "source": [
    "i = int(1.2)\n",
    "print(i, type(i))\n",
    "i = int('1')\n",
    "print(i, type(i))\n",
    "i = float('1')\n",
    "print(i, type(i))\n",
    "i = float('1.2')\n",
    "print(i, type(i))\n",
    "# ... ale już nie ...\n",
    "i = int('1.2')\n",
    "print(i, type(i))"
   ]
  },
  {
   "cell_type": "markdown",
   "metadata": {},
   "source": [
    "## Kontrola przepływu\n",
    "\n",
    "Jak wiele języków Python posiada wyrażenia warunkowe *if ... else ...*, jak i pętle *while ...* i *for ...*"
   ]
  },
  {
   "cell_type": "code",
   "execution_count": 16,
   "metadata": {
    "collapsed": false
   },
   "outputs": [
    {
     "name": "stdout",
     "output_type": "stream",
     "text": [
      "[0, 1, 2, 3, 4, 5, 6, 7, 8, 9]\n",
      "0\n",
      "1\n",
      "2\n",
      "5\n",
      "6\n",
      "8\n",
      "petla sie zakonczyla i wypisala co powyzej\n",
      "Nie wiem\n",
      "0\n",
      "1\n",
      "2\n",
      "3\n",
      "4\n",
      "5\n",
      "6\n",
      "7\n",
      "8\n",
      "9\n"
     ]
    }
   ],
   "source": [
    "zakres = range(10)\n",
    "print(zakres)\n",
    "\n",
    "for numer in zakres:\n",
    "    # Sprawdź czy numer jest na liście\n",
    "    if numer in (3, 4, 7, 9):\n",
    "        # \"Break\" kończy pętle\n",
    "        continue\n",
    "    else:\n",
    "        # \"Continue\" zaczyna kolejną iteracje\n",
    "        print(numer)\n",
    "else:\n",
    "    # \"else\" jest opcjonalne i wykonywane tylko jak nie pojawi się \"break\".\n",
    "    print(\"petla sie zakonczyla i wypisala co powyzej\")\n",
    "\n",
    "if zakres[1] == 2:\n",
    "    print \"Drugi element listy to 2\"\n",
    "elif zakres[1] == 3:\n",
    "    print \"Drugi element listy to 3\"\n",
    "else:\n",
    "    print \"Nie wiem\"\n",
    "\n",
    "i = 0\n",
    "while i in zakres:\n",
    "    print(i)\n",
    "    i += 1"
   ]
  },
  {
   "cell_type": "markdown",
   "metadata": {},
   "source": [
    "## Funkcje\n",
    "\n",
    "Jak większość języków Python posiada funkcje. Podstawowa definicja funkcji to:"
   ]
  },
  {
   "cell_type": "code",
   "execution_count": 17,
   "metadata": {
    "collapsed": false
   },
   "outputs": [
    {
     "name": "stdout",
     "output_type": "stream",
     "text": [
      "Funkcja ma argument mój argument (opcjonalny: 2)\n",
      "Funkcja ma argument 1 (opcjonalny: 2)\n",
      "Funkcja ma argument 1.0 (opcjonalny: op)\n"
     ]
    }
   ],
   "source": [
    "def funkcja(argument, opcjonalny=2):\n",
    "    print(u\"Funkcja ma argument {} (opcjonalny: {})\".format(argument, opcjonalny))\n",
    "\n",
    "funkcja(u\"mój argument\")\n",
    "funkcja(1)\n",
    "funkcja(1.0, \"op\")"
   ]
  },
  {
   "cell_type": "markdown",
   "metadata": {},
   "source": [
    "Dostępne są też funkcje anonimowe, tzw. lambdy:"
   ]
  },
  {
   "cell_type": "code",
   "execution_count": 21,
   "metadata": {
    "collapsed": false
   },
   "outputs": [
    {
     "name": "stdout",
     "output_type": "stream",
     "text": [
      "20\n",
      "240\n"
     ]
    }
   ],
   "source": [
    "l = lambda x,y: x*y\n",
    "print(l(4,5))\n",
    "print(l(16l,15l))\n",
    "#print(l(1+1j))\n",
    "#print(l(1.2))\n",
    "# ... ale już nie ...\n",
    "#print(l('1'))"
   ]
  },
  {
   "cell_type": "markdown",
   "metadata": {},
   "source": [
    "Można też przekazywać funkcje jako argumenty:"
   ]
  },
  {
   "cell_type": "code",
   "execution_count": 22,
   "metadata": {
    "collapsed": false
   },
   "outputs": [
    {
     "name": "stdout",
     "output_type": "stream",
     "text": [
      "Wynik funkcji to 2\n",
      "Wynik funkcji to (1+4j)\n",
      "Wynik funkcji to 1.0\n"
     ]
    }
   ],
   "source": [
    "def funkcja_w_funkcji(wartosc, fun):\n",
    "    print(\"Wynik funkcji to {}\".format(fun(wartosc)))\n",
    "\n",
    "funkcja_w_funkcji(1, lambda x: x+1)\n",
    "funkcja_w_funkcji(1+3j, lambda x: x+1j)\n",
    "funkcja_w_funkcji(1, lambda x: float(x))"
   ]
  },
  {
   "cell_type": "markdown",
   "metadata": {},
   "source": [
    "W funkcjach można używać zmiennych globalnych jak pokazujemy poniżej:"
   ]
  },
  {
   "cell_type": "code",
   "execution_count": 23,
   "metadata": {
    "collapsed": false
   },
   "outputs": [
    {
     "name": "stdout",
     "output_type": "stream",
     "text": [
      "Zmienna globalna to 1\n",
      "Zmienna globalna to 1\n",
      "Ile? 2\n",
      "Zmienna globalna to 6\n",
      "Ile? 2\n"
     ]
    }
   ],
   "source": [
    "globalna = 1\n",
    "\n",
    "def funkcja_1():\n",
    "    print(\"Zmienna globalna to {}\".format(globalna))\n",
    "\n",
    "funkcja_1() \n",
    "    \n",
    "def funkcja_2():\n",
    "    global globalna\n",
    "    print(\"Zmienna globalna to {}\".format(globalna))\n",
    "    # Zmieniamy zmienna globalną\n",
    "    globalna = 2\n",
    "\n",
    "funkcja_2()\n",
    "print(\"Ile? {}\".format(globalna))\n",
    "\n",
    "def funkcja_3():\n",
    "    globalna = 6\n",
    "    print(\"Zmienna globalna to {}\".format(globalna))\n",
    "    # Zmieniamy zmienna globalną\n",
    "    \n",
    "\n",
    "funkcja_3()\n",
    "print(\"Ile? {}\".format(globalna))"
   ]
  },
  {
   "cell_type": "markdown",
   "metadata": {},
   "source": [
    "## Operacje na tekście\n",
    "\n",
    "Python zawiera dość bogaty zakres operacji na tekscie. Poniżej przedstawione są podstawowe metody typu *str*:"
   ]
  },
  {
   "cell_type": "code",
   "execution_count": 37,
   "metadata": {
    "collapsed": false
   },
   "outputs": [
    {
     "name": "stdout",
     "output_type": "stream",
     "text": [
      "Tekst   \n",
      "tekst   \n",
      "TEKST   \n",
      "2\n",
      "tekst   \n",
      "True\n",
      "False\n",
      "2\n",
      "(8, 5)\n",
      "False\n",
      "False\n",
      "True\n",
      "False\n",
      "False\n",
      "1;2;3\n"
     ]
    }
   ],
   "source": [
    "s = \"tekst   \"\n",
    "print(s.capitalize())\n",
    "print(s.lower())\n",
    "print(s.upper())\n",
    "print(s.count(\"t\"))\n",
    "print(s.encode('utf-8'))\n",
    "print(s.startswith('t'))\n",
    "print(s.endswith('t'))\n",
    "print(s.find('k'))\n",
    "print(len(s), len(s.strip()))\n",
    "print(s.isalnum())\n",
    "print(s.isdigit())\n",
    "print(s.islower())\n",
    "print(s.isspace())\n",
    "print(s.isupper())\n",
    "print(\";\".join(['1','2','3']))"
   ]
  },
  {
   "cell_type": "markdown",
   "metadata": {},
   "source": [
    "## Klasy\n",
    "\n",
    "Python posiada klasy i dziedziczenie. Klasę definiujemy jak poniżej:"
   ]
  },
  {
   "cell_type": "code",
   "execution_count": 44,
   "metadata": {
    "collapsed": false
   },
   "outputs": [
    {
     "name": "stdout",
     "output_type": "stream",
     "text": [
      "nazwa klasy MojaKlasa\n",
      "nazwa klasy MojaKlasa\n",
      "1\n",
      "1\n",
      "4\n",
      "33\n",
      "6\n",
      "35\n"
     ]
    }
   ],
   "source": [
    "class MojaKlasa(object):\n",
    "    statyczna = 1\n",
    "    nazwa = \"nazwa klasy MojaKlasa\"\n",
    "    \n",
    "    def __init__(self, w):\n",
    "        self.klasowa = w\n",
    "                \n",
    "    def suma(self, cos):\n",
    "        return self.statyczna + self.klasowa + cos\n",
    "    \n",
    "    def __str__(self):\n",
    "        return self.nazwa\n",
    "\n",
    "c1 = MojaKlasa(4)\n",
    "c2 = MojaKlasa(33)\n",
    "\n",
    "\n",
    "print(c1)\n",
    "print(c2)\n",
    "print(c1.statyczna)\n",
    "print(c2.statyczna)\n",
    "print(c1.klasowa)\n",
    "print(c2.klasowa)\n",
    "print(c1.suma(1))\n",
    "print(c2.suma(1))"
   ]
  },
  {
   "cell_type": "markdown",
   "metadata": {},
   "source": [
    "## Wyjątki\n",
    "\n",
    "Jak coś pójdzie nie tak, Python najczęściej rzuca wyjątkiem. Wyjątki to klasy. Możemy obsługiwać wyjątki jak poniżej:"
   ]
  },
  {
   "cell_type": "code",
   "execution_count": null,
   "metadata": {
    "collapsed": false
   },
   "outputs": [],
   "source": [
    "try:\n",
    "    1/0\n",
    "except ZeroDivisionError:\n",
    "    print(u\"Przez zero?!?\")\n",
    "else:\n",
    "    # Nie było wyjątku\n",
    "    pass\n",
    "finally:\n",
    "    print(u\"Tu znajdziemy się niezależnie od wyniku\")"
   ]
  },
  {
   "cell_type": "markdown",
   "metadata": {},
   "source": [
    "## Importowanie\n",
    "\n",
    "Python zawiera bardzo dużo przydatnych bibliotek, w tym bardzo rozbudowaną [bibliotekę standardową](https://docs.python.org/2/library/index.html). Biblioteki można importować jak poniżej:"
   ]
  },
  {
   "cell_type": "code",
   "execution_count": null,
   "metadata": {
    "collapsed": false
   },
   "outputs": [],
   "source": [
    "# Cała biblioteka\n",
    "import re \n",
    "re.findall('\\d', \"1a32vs\")"
   ]
  },
  {
   "cell_type": "code",
   "execution_count": 46,
   "metadata": {
    "collapsed": false
   },
   "outputs": [
    {
     "data": {
      "text/plain": [
       "['1', '3', '2']"
      ]
     },
     "execution_count": 46,
     "metadata": {},
     "output_type": "execute_result"
    }
   ],
   "source": [
    "# Pojedyncze elementy\n",
    "from re import findall \n",
    "findall('\\d', \"1a32vs\")"
   ]
  },
  {
   "cell_type": "markdown",
   "metadata": {},
   "source": [
    "##Zadanie\n",
    "\n",
    "Napisac funkcje, ktora dodaje liczbe do z z zakresu n do stringa:\n",
    "\n",
    "```\n",
    "def funkcja(tekst,n):\n",
    "    ...\n",
    "```"
   ]
  },
  {
   "cell_type": "code",
   "execution_count": 54,
   "metadata": {
    "collapsed": false
   },
   "outputs": [
    {
     "name": "stdout",
     "output_type": "stream",
     "text": [
      "0: W\n",
      "1: o\n",
      "2: j\n",
      "3: t\n",
      "4: e\n",
      "5: k\n"
     ]
    }
   ],
   "source": [
    "def funkcja(tekst):\n",
    "    for i in range(len(tekst)):\n",
    "        print(\"{}: {}\".format(i,tekst[i]))\n",
    "        \n",
    "funkcja(\"Wojtek\")"
   ]
  }
 ],
 "metadata": {
  "kernelspec": {
   "display_name": "Python [default]",
   "language": "python",
   "name": "python2"
  },
  "language_info": {
   "codemirror_mode": {
    "name": "ipython",
    "version": 2
   },
   "file_extension": ".py",
   "mimetype": "text/x-python",
   "name": "python",
   "nbconvert_exporter": "python",
   "pygments_lexer": "ipython2",
   "version": "2.7.12"
  }
 },
 "nbformat": 4,
 "nbformat_minor": 0
}
