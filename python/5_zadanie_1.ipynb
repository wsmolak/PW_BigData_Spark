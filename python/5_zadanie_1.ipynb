{
 "cells": [
  {
   "cell_type": "markdown",
   "metadata": {},
   "source": [
    "![](imgs/logo.png)\n",
    "\n",
    "# Przetwarzanie Big Data z użyciem Apache Spark\n",
    "\n",
    "Autor notebooka: Jakub Nowacki.\n",
    "\n",
    "## Zadanie 1\n",
    "\n",
    "Pobierz **The Dunwich Horror** *H. P. Lovecraft* z [tego adresu](http://www.gutenberg.org/cache/epub/50133/pg50133.txt) w [Projekcie Gutenberg](https://www.gutenberg.org/).\n",
    "\n",
    "Przeczytamy z [tego url](http://english-e-reader.net/download?link=dead-mans-chest-irene-trimble&format=txt)\n",
    "\n",
    "1. Przeczytaj plik używając Pythona; zobacz [przyjazną dokumentację](https://docs.python.org/2/tutorial/inputoutput.html))\n",
    "1. Policz unikalne słowa w utworze (podpowiedź: *split* i *lower* może się przydać)\n",
    "1. ★ Policz unikalne litery w utworze\n",
    "1. ★ Pobierz plik bezpośrednio z serwera (podpowiedź: [urllib2](https://docs.python.org/2/library/urllib2.html?highlight=urllib#module-urllib2) lub [requests](http://docs.python-requests.org/en/master/) mogą się przydać)"
   ]
  },
  {
   "cell_type": "code",
   "execution_count": 27,
   "metadata": {
    "collapsed": false
   },
   "outputs": [
    {
     "name": "stdout",
     "output_type": "stream",
     "text": [
      "<type 'str'>\n",
      "liczba unikalnych slow to 2241\n"
     ]
    },
    {
     "data": {
      "text/plain": [
       "{'!': 150,\n",
       " '\"': 1297,\n",
       " \"'\": 411,\n",
       " ',': 673,\n",
       " '-': 50,\n",
       " '.': 1540,\n",
       " '/': 3,\n",
       " ':': 3,\n",
       " ';': 1,\n",
       " '?': 158,\n",
       " 'a': 4280,\n",
       " 'b': 795,\n",
       " 'c': 1330,\n",
       " 'd': 2646,\n",
       " 'e': 6237,\n",
       " 'f': 772,\n",
       " 'g': 904,\n",
       " 'h': 3483,\n",
       " 'i': 3413,\n",
       " 'j': 444,\n",
       " 'k': 1035,\n",
       " 'l': 2459,\n",
       " 'm': 1106,\n",
       " 'n': 3253,\n",
       " 'o': 4010,\n",
       " 'p': 1053,\n",
       " 'q': 67,\n",
       " 'r': 2624,\n",
       " 's': 3231,\n",
       " 't': 4609,\n",
       " 'u': 1273,\n",
       " 'v': 329,\n",
       " 'w': 1444,\n",
       " 'x': 42,\n",
       " 'y': 1056,\n",
       " 'z': 93}"
      ]
     },
     "execution_count": 27,
     "metadata": {},
     "output_type": "execute_result"
    }
   ],
   "source": [
    "f = open('book.txt', 'r')\n",
    "data = f.read()\n",
    "#len(data)\n",
    "\n",
    "#a lits of words from the book\n",
    "lowercase = data.lower()\n",
    "cleanwords = lowercase.strip('abc')\n",
    "split = cleanwords.split()\n",
    "\n",
    "\n",
    "#set of uniques words from the list\n",
    "uniques = set(split)\n",
    "print(\"liczba unikalnych slow to {}\".format(len(uniques)))\n",
    "\n",
    "quantity = dict()\n",
    "for word in split:\n",
    "    if word in quantity:\n",
    "        quantity[word] += 1\n",
    "    else:\n",
    "        quantity[word] = 1\n",
    "        \n",
    "chars = dict()\n",
    "\n",
    "for word, n in quantity.iteritems():\n",
    "    for char in word:\n",
    "        if char in chars:\n",
    "            chars[char] += n\n",
    "        else:\n",
    "            chars[char] =n\n",
    "\n",
    "chars"
   ]
  }
 ],
 "metadata": {
  "kernelspec": {
   "display_name": "Python [default]",
   "language": "python",
   "name": "python2"
  },
  "language_info": {
   "codemirror_mode": {
    "name": "ipython",
    "version": 2
   },
   "file_extension": ".py",
   "mimetype": "text/x-python",
   "name": "python",
   "nbconvert_exporter": "python",
   "pygments_lexer": "ipython2",
   "version": "2.7.12"
  }
 },
 "nbformat": 4,
 "nbformat_minor": 1
}
