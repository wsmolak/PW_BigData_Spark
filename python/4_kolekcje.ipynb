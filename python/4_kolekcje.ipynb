{
 "cells": [
  {
   "cell_type": "markdown",
   "metadata": {},
   "source": [
    "![](imgs/logo.png)\n",
    "\n",
    "# Przetwarzanie Big Data z użyciem Apache Spark\n",
    "\n",
    "Autor notebooka: Jakub Nowacki.\n",
    "\n",
    "## Kolekcje\n",
    "\n",
    "Python posiada wiele wbudowanych typów bardzo przydatnych do pracy z danymi."
   ]
  },
  {
   "cell_type": "markdown",
   "metadata": {},
   "source": [
    "## Krotki (tuple)\n",
    "\n",
    "Ktorka jest uporządkowaną sekwencja obiektów, która jest niezmienna (immutable). Krotkę definiujemy za pomoca nawiasu okrągłego lub komendy *tuple*. "
   ]
  },
  {
   "cell_type": "code",
   "execution_count": 5,
   "metadata": {
    "collapsed": false
   },
   "outputs": [
    {
     "data": {
      "text/plain": [
       "(1, '2', 3.0, '6', 3, 6, 8)"
      ]
     },
     "execution_count": 5,
     "metadata": {},
     "output_type": "execute_result"
    }
   ],
   "source": [
    "t = (1, '2', 3.0)\n",
    "t2 = t+('6',3,6,8)\n",
    "t2\n",
    "a,b,c,d,e,f,g = t2\n",
    "a,b,c,d,e,f,g "
   ]
  },
  {
   "cell_type": "markdown",
   "metadata": {},
   "source": [
    "Przykład operacji na krotkach: "
   ]
  },
  {
   "cell_type": "code",
   "execution_count": null,
   "metadata": {
    "collapsed": false
   },
   "outputs": [],
   "source": [
    "# Pobranie elementu\n",
    "t[0]"
   ]
  },
  {
   "cell_type": "code",
   "execution_count": null,
   "metadata": {
    "collapsed": false
   },
   "outputs": [],
   "source": [
    "# Rozpakowywanie krotki\n",
    "a, b, c = t\n",
    "a, b, c"
   ]
  },
  {
   "cell_type": "code",
   "execution_count": null,
   "metadata": {
    "collapsed": false
   },
   "outputs": [],
   "source": [
    "# Nie możemy zmienić krotki ale możemy np złożyć dwie krotki co utworzy nową krotkę\n",
    "t+(4l,)"
   ]
  },
  {
   "cell_type": "markdown",
   "metadata": {},
   "source": [
    "Krotki można też przecinać (slice) wyciągając tylko pewne elementy:"
   ]
  },
  {
   "cell_type": "code",
   "execution_count": 7,
   "metadata": {
    "collapsed": false
   },
   "outputs": [
    {
     "name": "stdout",
     "output_type": "stream",
     "text": [
      "(1, 2, 3)\n",
      "(2, 3, 4)\n",
      "(4, 5)\n",
      "(1, 3, 5)\n",
      "5\n",
      "(2, 3, 4)\n",
      "(2, 3, 4)\n",
      "t\n"
     ]
    }
   ],
   "source": [
    "t = (1, 2, 3, 4, 5)\n",
    "print(t[:3]) # do 3\n",
    "print(t[1:4]) # od 1 do 4\n",
    "print(t[3:]) # od 3 do końca\n",
    "print(t[::2]) # co 2 \n",
    "print(t[-1]) # ostatni i ostatni element\n",
    "a, b = 1, 4\n",
    "print(t[slice(a,b)]) # definiowanie za pomocą komendy\n",
    "print(t[a:b]) # to samo\n",
    "\n",
    "s = \"est\"\n",
    "print(s[-1])"
   ]
  },
  {
   "cell_type": "markdown",
   "metadata": {},
   "source": [
    "## Lista\n",
    "\n",
    "Podobnie do krotki jest to typ opisujący sekwencje, ale tym razem może czyć zmieniany, np. możemy do listy obiekty dodwawać lub je usuwać. Listę tworzymy za pomoca nawiasów kwadratowych lub komendy *list*:"
   ]
  },
  {
   "cell_type": "code",
   "execution_count": 13,
   "metadata": {
    "collapsed": false
   },
   "outputs": [
    {
     "data": {
      "text/plain": [
       "[3.0, '2', 1]"
      ]
     },
     "execution_count": 13,
     "metadata": {},
     "output_type": "execute_result"
    }
   ],
   "source": [
    "l = [1, '2', 3.0]\n",
    "l.reverse()\n",
    "l"
   ]
  },
  {
   "cell_type": "markdown",
   "metadata": {},
   "source": [
    "Operacje na listach:"
   ]
  },
  {
   "cell_type": "code",
   "execution_count": null,
   "metadata": {
    "collapsed": false
   },
   "outputs": [],
   "source": [
    "l = [1, '2', 3.0]\n",
    "\n",
    "# Pobranie elementu\n",
    "l[1]"
   ]
  },
  {
   "cell_type": "code",
   "execution_count": null,
   "metadata": {
    "collapsed": false
   },
   "outputs": [],
   "source": [
    "# Dodanie elementu\n",
    "l.append(4)\n",
    "l"
   ]
  },
  {
   "cell_type": "code",
   "execution_count": null,
   "metadata": {
    "collapsed": false
   },
   "outputs": [],
   "source": [
    "# Usunięcie konkretnego elemetu\n",
    "l.remove(4)\n",
    "l"
   ]
  },
  {
   "cell_type": "code",
   "execution_count": null,
   "metadata": {
    "collapsed": false
   },
   "outputs": [],
   "source": [
    "# Pobranie elementu ostatniego (można tez przekazać indeks)\n",
    "p = l.pop()\n",
    "p, l"
   ]
  },
  {
   "cell_type": "code",
   "execution_count": 18,
   "metadata": {
    "collapsed": false
   },
   "outputs": [
    {
     "data": {
      "text/plain": [
       "9"
      ]
     },
     "execution_count": 18,
     "metadata": {},
     "output_type": "execute_result"
    }
   ],
   "source": [
    "# Rozszeżenie za pomocą sekwencji\n",
    "l.extend((5,6))\n",
    "l\n",
    "l.append([7,8,9])\n",
    "a = l.pop()[-1]\n",
    "a"
   ]
  },
  {
   "cell_type": "code",
   "execution_count": null,
   "metadata": {
    "collapsed": false
   },
   "outputs": [],
   "source": [
    "# Odwracanie w miejscu\n",
    "print(l)\n",
    "l.reverse()\n",
    "l"
   ]
  },
  {
   "cell_type": "code",
   "execution_count": null,
   "metadata": {
    "collapsed": false
   },
   "outputs": [],
   "source": [
    "# Sortowanie w miejscu\n",
    "print(l)\n",
    "l.sort()\n",
    "l"
   ]
  },
  {
   "cell_type": "code",
   "execution_count": null,
   "metadata": {
    "collapsed": false
   },
   "outputs": [],
   "source": [
    "# Sortowanie funkcyjne\n",
    "posortowana = sorted(l)\n",
    "print(posortowana)"
   ]
  },
  {
   "cell_type": "code",
   "execution_count": null,
   "metadata": {
    "collapsed": false
   },
   "outputs": [],
   "source": [
    "# Przecięcie nadal działa\n",
    "l[2:4]"
   ]
  },
  {
   "cell_type": "code",
   "execution_count": null,
   "metadata": {
    "collapsed": false
   },
   "outputs": [],
   "source": [
    "# Można też stworzyć listę list (macierz?)\n",
    "m = [[1,2],[3,4]]\n",
    "m"
   ]
  },
  {
   "cell_type": "code",
   "execution_count": null,
   "metadata": {
    "collapsed": false
   },
   "outputs": [],
   "source": [
    "# Najpierw adresujemy wiersz potem kolumnę\n",
    "m[1][0]"
   ]
  },
  {
   "cell_type": "code",
   "execution_count": null,
   "metadata": {
    "collapsed": false
   },
   "outputs": [],
   "source": [
    "# Zarówno krotka jak i lista ma poniższe właściwości\n",
    "print(len(l), len(m)) # Długość\n",
    "print([1,2]+[3,4]) # Złożenie\n",
    "print(1 in [1,2]) # Przynależność\n",
    "for i in [1,2,3]: # Można po nich iterować\n",
    "    print(i)"
   ]
  },
  {
   "cell_type": "markdown",
   "metadata": {},
   "source": [
    "## Zbiór\n",
    "\n",
    "Zbiór jest obiektem odwzorowujący zbiór matematyczny, w którym wszystkie elementy sa unikalne. Zbiór zachowuje się podobnie do krotki ale nie trzyma pozycji elementu. Zbiory są głównie wykorzystywane do zbierania elementów unikalnych i sprawdzania przynależności, gdyż dla zbioru jest to operacja dużo szybsza niż dla listy czy krotki, zobacz [wiki Pythona](https://wiki.python.org/moin/TimeComplexity). Krotkę definiujemy używając nawiasów klamrowych lub funkcji *set*:"
   ]
  },
  {
   "cell_type": "code",
   "execution_count": null,
   "metadata": {
    "collapsed": false
   },
   "outputs": [],
   "source": [
    "s = {1, 2, 3}\n",
    "s"
   ]
  },
  {
   "cell_type": "markdown",
   "metadata": {},
   "source": [
    "Operacje na zbiorach:"
   ]
  },
  {
   "cell_type": "code",
   "execution_count": null,
   "metadata": {
    "collapsed": false
   },
   "outputs": [],
   "source": [
    "# Można dodac element\n",
    "s.add(4)\n",
    "s"
   ]
  },
  {
   "cell_type": "code",
   "execution_count": null,
   "metadata": {
    "collapsed": false
   },
   "outputs": [],
   "source": [
    "# ... ale zawsze zbiór pozostanie unikalny\n",
    "s.add(4)\n",
    "s.add(4)\n",
    "s.add(3)\n",
    "s"
   ]
  },
  {
   "cell_type": "code",
   "execution_count": null,
   "metadata": {
    "collapsed": false
   },
   "outputs": [],
   "source": [
    "# Usuwanie elemntu\n",
    "s.remove(4)\n",
    "s"
   ]
  },
  {
   "cell_type": "code",
   "execution_count": null,
   "metadata": {
    "collapsed": false
   },
   "outputs": [],
   "source": [
    "# Zbór nie ma indeksu\n",
    "s[1]"
   ]
  },
  {
   "cell_type": "code",
   "execution_count": null,
   "metadata": {
    "collapsed": false
   },
   "outputs": [],
   "source": [
    "# Operacje na zbiorach\n",
    "print({1,2} - {2,3}) # Różnica\n",
    "print({1,2} | {2,3}) # Suma\n",
    "print({1,2} & {2,3}) # Iloczyn\n",
    "print({1,2} ^ {2,3}) # Różnica symetryczna"
   ]
  },
  {
   "cell_type": "code",
   "execution_count": null,
   "metadata": {
    "collapsed": false
   },
   "outputs": [],
   "source": [
    "# Podobnie, zbiór ma poniższe właściwości\n",
    "print(len(s)) # Długość\n",
    "print(1 in s) # Przynależność\n",
    "for i in s: # Można po nim iterować\n",
    "    print(i)\n",
    "print(s+{3,4}) # Ale już nie ma złożenia, są za to operacje na zbiorach"
   ]
  },
  {
   "cell_type": "markdown",
   "metadata": {},
   "source": [
    "## Słownik\n",
    "\n",
    "Słownik (dictionary) jest typem podobnym do listy ale zamiast bycia indeksowanym pozycją liczbową, jest indeksowany kluczami. Słownik tworzymy używając nawiasów klamrowych lub funkcją *dict*:"
   ]
  },
  {
   "cell_type": "code",
   "execution_count": 23,
   "metadata": {
    "collapsed": false
   },
   "outputs": [
    {
     "data": {
      "text/plain": [
       "{1: 'a', '2': 3.0}"
      ]
     },
     "execution_count": 23,
     "metadata": {},
     "output_type": "execute_result"
    }
   ],
   "source": [
    "d = {1: 'a', '2': 3.0}\n",
    "d"
   ]
  },
  {
   "cell_type": "code",
   "execution_count": 24,
   "metadata": {
    "collapsed": false
   },
   "outputs": [
    {
     "data": {
      "text/plain": [
       "{1: 'a', '2': 3.0}"
      ]
     },
     "execution_count": 24,
     "metadata": {},
     "output_type": "execute_result"
    }
   ],
   "source": [
    "# ... lub ...\n",
    "dict([(1,'a'), ('2', 3.0)])"
   ]
  },
  {
   "cell_type": "markdown",
   "metadata": {},
   "source": [
    "Operacje na słowniku:"
   ]
  },
  {
   "cell_type": "code",
   "execution_count": 25,
   "metadata": {
    "collapsed": false
   },
   "outputs": [
    {
     "name": "stdout",
     "output_type": "stream",
     "text": [
      "a\n",
      "3.0\n"
     ]
    },
    {
     "ename": "KeyError",
     "evalue": "5",
     "output_type": "error",
     "traceback": [
      "\u001b[0;31m---------------------------------------------------------------------------\u001b[0m",
      "\u001b[0;31mKeyError\u001b[0m                                  Traceback (most recent call last)",
      "\u001b[0;32m<ipython-input-25-4c52bbac7b7b>\u001b[0m in \u001b[0;36m<module>\u001b[0;34m()\u001b[0m\n\u001b[1;32m      2\u001b[0m \u001b[0;32mprint\u001b[0m\u001b[0;34m(\u001b[0m\u001b[0md\u001b[0m\u001b[0;34m[\u001b[0m\u001b[0;36m1\u001b[0m\u001b[0;34m]\u001b[0m\u001b[0;34m)\u001b[0m\u001b[0;34m\u001b[0m\u001b[0m\n\u001b[1;32m      3\u001b[0m \u001b[0;32mprint\u001b[0m\u001b[0;34m(\u001b[0m\u001b[0md\u001b[0m\u001b[0;34m[\u001b[0m\u001b[0;34m'2'\u001b[0m\u001b[0;34m]\u001b[0m\u001b[0;34m)\u001b[0m\u001b[0;34m\u001b[0m\u001b[0m\n\u001b[0;32m----> 4\u001b[0;31m \u001b[0;32mprint\u001b[0m\u001b[0;34m(\u001b[0m\u001b[0md\u001b[0m\u001b[0;34m[\u001b[0m\u001b[0;36m5\u001b[0m\u001b[0;34m]\u001b[0m\u001b[0;34m)\u001b[0m \u001b[0;31m# Błąd bo klucza nie ma\u001b[0m\u001b[0;34m\u001b[0m\u001b[0m\n\u001b[0m",
      "\u001b[0;31mKeyError\u001b[0m: 5"
     ]
    }
   ],
   "source": [
    "# Pobieranie wartości\n",
    "print(d[1])\n",
    "print(d['2'])\n",
    "print(d[5]) # Błąd bo klucza nie ma"
   ]
  },
  {
   "cell_type": "code",
   "execution_count": 26,
   "metadata": {
    "collapsed": false
   },
   "outputs": [
    {
     "data": {
      "text/plain": [
       "'niema'"
      ]
     },
     "execution_count": 26,
     "metadata": {},
     "output_type": "execute_result"
    }
   ],
   "source": [
    "# Można użyc metody 'get' żeby pobrać wartość lub, jak jej nie ma, zastąpić ją standardową\n",
    "d.get(5, 'niema')"
   ]
  },
  {
   "cell_type": "code",
   "execution_count": 27,
   "metadata": {
    "collapsed": false
   },
   "outputs": [
    {
     "data": {
      "text/plain": [
       "{1: 5, '2': 3.0}"
      ]
     },
     "execution_count": 27,
     "metadata": {},
     "output_type": "execute_result"
    }
   ],
   "source": [
    "# Zmiana wartości klucza\n",
    "d[1] = 5\n",
    "d"
   ]
  },
  {
   "cell_type": "code",
   "execution_count": 28,
   "metadata": {
    "collapsed": false
   },
   "outputs": [
    {
     "data": {
      "text/plain": [
       "[1, '2']"
      ]
     },
     "execution_count": 28,
     "metadata": {},
     "output_type": "execute_result"
    }
   ],
   "source": [
    "# Lista kluczy\n",
    "d.keys()"
   ]
  },
  {
   "cell_type": "code",
   "execution_count": null,
   "metadata": {
    "collapsed": false
   },
   "outputs": [],
   "source": [
    "# Lista wartości\n",
    "d.values()"
   ]
  },
  {
   "cell_type": "code",
   "execution_count": null,
   "metadata": {
    "collapsed": false
   },
   "outputs": [],
   "source": [
    "# Lista par klucz-wartość\n",
    "d.items()"
   ]
  },
  {
   "cell_type": "code",
   "execution_count": 31,
   "metadata": {
    "collapsed": false
   },
   "outputs": [
    {
     "name": "stdout",
     "output_type": "stream",
     "text": [
      "True\n",
      "False\n"
     ]
    }
   ],
   "source": [
    "# Można sprawdzić czy jest klucz\n",
    "print(1 in d)\n",
    "print(d.has_key(6))"
   ]
  },
  {
   "cell_type": "code",
   "execution_count": null,
   "metadata": {
    "collapsed": false
   },
   "outputs": [],
   "source": [
    "# Słownik ma poniższe właściwosći\n",
    "print(len(d)) # Długość\n",
    "print(1 in d) # Przynależność (obecnośc klucza)\n",
    "for i in d: # Można iterować po kluczach\n",
    "    print(i, d[i])\n",
    "for k, v in d.iteritems(): # Lub po parach klucz-wartość\n",
    "    print(k, v)"
   ]
  },
  {
   "cell_type": "markdown",
   "metadata": {},
   "source": [
    "## Wyrażenia generujące\n",
    "\n",
    "Python ma wygodny mechanizm generowania kolekcji używając wyrażeń generujących. Wyrażenia są złożeniem nawiasów tworzących kolekcje z pętlą *for* i wyrażeniem *if* (opcjonalne). Przykłady:"
   ]
  },
  {
   "cell_type": "code",
   "execution_count": 19,
   "metadata": {
    "collapsed": false
   },
   "outputs": [
    {
     "data": {
      "text/plain": [
       "['nazwa-0', 'nazwa-1', 'nazwa-2', 'nazwa-3', 'nazwa-4']"
      ]
     },
     "execution_count": 19,
     "metadata": {},
     "output_type": "execute_result"
    }
   ],
   "source": [
    "# Generujemy listę nazw z indeksami\n",
    "[\"nazwa-{}\".format(i) for i in range(5)]"
   ]
  },
  {
   "cell_type": "code",
   "execution_count": null,
   "metadata": {
    "collapsed": false
   },
   "outputs": [],
   "source": [
    "# ... ale tylko parzystymi (i zerem) ...\n",
    "[\"nazwa-{}\".format(i) for i in range(5) if i % 2 == 0]"
   ]
  },
  {
   "cell_type": "code",
   "execution_count": null,
   "metadata": {
    "collapsed": false
   },
   "outputs": [],
   "source": [
    "# ... a może zbór...\n",
    "{\"nazwa-{}\".format(i) for i in range(5) if i % 2 == 0}"
   ]
  },
  {
   "cell_type": "code",
   "execution_count": 21,
   "metadata": {
    "collapsed": false
   },
   "outputs": [
    {
     "data": {
      "text/plain": [
       "{'nazwa-0': 0, 'nazwa-2': 4, 'nazwa-4': 16}"
      ]
     },
     "execution_count": 21,
     "metadata": {},
     "output_type": "execute_result"
    }
   ],
   "source": [
    "# ... lub słownik...\n",
    "{\"nazwa-{}\".format(i):i*i for i in range(5) if i % 2 == 0}"
   ]
  }
 ],
 "metadata": {
  "kernelspec": {
   "display_name": "Python [default]",
   "language": "python",
   "name": "python2"
  },
  "language_info": {
   "codemirror_mode": {
    "name": "ipython",
    "version": 2
   },
   "file_extension": ".py",
   "mimetype": "text/x-python",
   "name": "python",
   "nbconvert_exporter": "python",
   "pygments_lexer": "ipython2",
   "version": "2.7.12"
  }
 },
 "nbformat": 4,
 "nbformat_minor": 0
}
