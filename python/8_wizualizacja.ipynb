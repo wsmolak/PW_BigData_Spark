{
 "cells": [
  {
   "cell_type": "markdown",
   "metadata": {},
   "source": [
    "![](imgs/logo.png)\n",
    "\n",
    "# Przetwarzanie Big Data z użyciem Apache Spark\n",
    "\n",
    "Autor notebooka: Jakub Nowacki.\n",
    "\n",
    "## Wizualizacja w Python\n",
    "\n",
    "Python posiada mnogość pakietów do wizualizacji, które mają różne zalety w różnych zastosowaniach m. in.:\n",
    "* [Matplotlib](http://matplotlib.org/)\n",
    "* [Pandas](http://pandas.pydata.org/pandas-docs/stable/visualization.html)\n",
    "* [Altair](https://altair-viz.github.io/)\n",
    "* [Bokeh](http://bokeh.pydata.org/)\n",
    "* [Seaborn](http://seaborn.pydata.org/)\n",
    "* [Lightning](http://lightning-viz.org/)\n",
    "* [Plotly](https://plot.ly/)\n",
    "* [HoloViews](http://holoviews.org/)\n",
    "* [VisPy](http://vispy.org/)\n",
    "* [pygg](https://github.com/sirrice/pygg)\n",
    "\n",
    "W tym notebooku skupimy się na trzech bibliotekach\n",
    "* [Matplotlib](http://matplotlib.org/)\n",
    "* [Pandas](http://pandas.pydata.org/pandas-docs/stable/visualization.html)\n",
    "* [Altair](https://altair-viz.github.io/)"
   ]
  },
  {
   "cell_type": "markdown",
   "metadata": {},
   "source": [
    "## Matplotlib\n",
    "\n",
    "Jedna z najstarszych bibliotek stricte Pythonowych do wizualizacji; wcześniej głównie używano zewnętrznych programów jak [gnuplot](http://www.gnuplot.info/).\n",
    "\n",
    "Biblioteka była inspirowana narzędziami graficznymi MATLAB i gnuplot, ale z nieco swieższym podejściem. Napisana jest głównie z myślą o dwuwymiarowych wizualizacjach ale jest też prosty moduł do wizualizacji trójwymiarowej.\n",
    "\n",
    "Jest parę metod tworzenia wykresów z użyciem Matplotlib jednak najbardziej podstawowym jest `pyplot`, który często importuje się z aliasem `plt`:"
   ]
  },
  {
   "cell_type": "code",
   "execution_count": null,
   "metadata": {
    "collapsed": true
   },
   "outputs": [],
   "source": [
    "import matplotlib.pyplot as plt\n",
    "# wyrażenie Jupyter, powoduje, że grafika będzie wklejona do notebooka\n",
    "%matplotlib inline "
   ]
  },
  {
   "cell_type": "markdown",
   "metadata": {},
   "source": [
    "Dane do narysowania w Matplotlib można przekazać jako wiele rodzajów kolekcji (iterable), niemniej podstawowym obiektem danych jest `ndarray` z Numpy. "
   ]
  },
  {
   "cell_type": "code",
   "execution_count": null,
   "metadata": {
    "collapsed": false
   },
   "outputs": [],
   "source": [
    "import numpy as np \n",
    "x = np.linspace(0, 10, 100)\n",
    "y = np.sin(x)\n",
    "x, y"
   ]
  },
  {
   "cell_type": "markdown",
   "metadata": {},
   "source": [
    "Podstawowym narzędziem do rysowania jest komenda `plot`:"
   ]
  },
  {
   "cell_type": "code",
   "execution_count": null,
   "metadata": {
    "collapsed": false
   },
   "outputs": [],
   "source": [
    "plt.plot(x, y)"
   ]
  },
  {
   "cell_type": "markdown",
   "metadata": {},
   "source": [
    "Powyższy rysunek składa się tak naprawdę z kilku elementów:\n",
    "* `figure` - obiekt z osiami, może zawierać wiele rysunków\n",
    "* `axis` - osie danych w których dana krzywa jest osadzona\n",
    "* `line` - linia na wykresie; w osiach mogą znajdować się też inne rzeczy jak poligony, punkty itp\n",
    "W notebooku figure i osie tworzone są dla jednego rysunku automatycznie, więc jeden rysunek definiowany jest w jednej komórce."
   ]
  },
  {
   "cell_type": "markdown",
   "metadata": {},
   "source": [
    "Możemy łatwo dodać nową serię danych:"
   ]
  },
  {
   "cell_type": "code",
   "execution_count": null,
   "metadata": {
    "collapsed": false
   },
   "outputs": [],
   "source": [
    "y2 = np.cos(x)\n",
    "plt.plot(x, y)\n",
    "plt.plot(x, y2)"
   ]
  },
  {
   "cell_type": "markdown",
   "metadata": {},
   "source": [
    "Jak widać serie danych tworzą się automatycznie z kolejnymi kolorami. Niemniej, możemy zdefiniować styl linii używając trzeciego argumenty w postaci tekstu; więcej informacji dostępne w [dokumentacji](http://matplotlib.org/1.5.3/api/pyplot_api.html#matplotlib.pyplot.plot)"
   ]
  },
  {
   "cell_type": "code",
   "execution_count": null,
   "metadata": {
    "collapsed": false
   },
   "outputs": [],
   "source": [
    "plt.plot(x, y, 'r')\n",
    "plt.plot(x, y2, 'b*')"
   ]
  },
  {
   "cell_type": "markdown",
   "metadata": {},
   "source": [
    "Do wykresu możemy dodać jeszcze elementy opisujące:"
   ]
  },
  {
   "cell_type": "code",
   "execution_count": null,
   "metadata": {
    "collapsed": false
   },
   "outputs": [],
   "source": [
    "plt.plot(x, y, 'r')\n",
    "plt.plot(x, y2, 'b*')\n",
    "plt.title('Sinus i cosinus')\n",
    "plt.legend(['sin(x)', 'cos(x)']) \n",
    "plt.xlabel('x')\n",
    "plt.ylabel('y')"
   ]
  },
  {
   "cell_type": "markdown",
   "metadata": {},
   "source": [
    "Można też tworzyć różne podwykresy:"
   ]
  },
  {
   "cell_type": "code",
   "execution_count": null,
   "metadata": {
    "collapsed": false
   },
   "outputs": [],
   "source": [
    "plt.subplot(211)\n",
    "plt.plot(x, y)\n",
    "plt.subplot(212)\n",
    "plt.plot(x, y2)"
   ]
  },
  {
   "cell_type": "markdown",
   "metadata": {},
   "source": [
    "### Zadanie\n",
    "Dodaj do powyższego wykresu: tytuł, opisy osi, legendy i zmień typ linii."
   ]
  },
  {
   "cell_type": "markdown",
   "metadata": {},
   "source": [
    "Dostępne są również inne typy wykresów jak wykres punktowy (scatter plot):"
   ]
  },
  {
   "cell_type": "code",
   "execution_count": null,
   "metadata": {
    "collapsed": false
   },
   "outputs": [],
   "source": [
    "x = np.random.rand(100)\n",
    "y = np.random.rand(100)\n",
    "kolor = np.ones(100)\n",
    "kolor[y > 0.5] = 2 \n",
    "plt.scatter(x,y, c=kolor)"
   ]
  },
  {
   "cell_type": "markdown",
   "metadata": {},
   "source": [
    "Czy histogram:"
   ]
  },
  {
   "cell_type": "code",
   "execution_count": null,
   "metadata": {
    "collapsed": false
   },
   "outputs": [],
   "source": [
    "v = np.random.normal(size=1000)\n",
    "plt.hist(v, bins=40)"
   ]
  },
  {
   "cell_type": "markdown",
   "metadata": {},
   "source": [
    "## Pandas\n",
    "\n",
    "Matplotlib jest dość niskopoziomową biblioteką w której wiele rzeczy należy zrobić samemu, łącznie z zarządzaniem danymi. Pandas pomaga w zarządzaniu danymi i można dane użyć bezpośrednio w Matplotlib:"
   ]
  },
  {
   "cell_type": "code",
   "execution_count": null,
   "metadata": {
    "collapsed": false
   },
   "outputs": [],
   "source": [
    "import pandas as pd\n",
    "\n",
    "df = pd.DataFrame(np.random.randn(10,4), columns=list('ABCD'))\n",
    "df"
   ]
  },
  {
   "cell_type": "code",
   "execution_count": null,
   "metadata": {
    "collapsed": false
   },
   "outputs": [],
   "source": [
    "plt.scatter(df['A'], df['B'], c=df['C'], s=(1+df['D'])**2*100)"
   ]
  },
  {
   "cell_type": "markdown",
   "metadata": {},
   "source": [
    "Lepiej jednak wykorzystać wbudowane narzędzia Pandas do wykresów. Rysowanie odbywa się za pomocą funkcji DataFame `plot`: "
   ]
  },
  {
   "cell_type": "code",
   "execution_count": null,
   "metadata": {
    "collapsed": false
   },
   "outputs": [],
   "source": [
    "df.plot()"
   ]
  },
  {
   "cell_type": "code",
   "execution_count": null,
   "metadata": {
    "collapsed": false
   },
   "outputs": [],
   "source": [
    "df.plot(kind='bar')"
   ]
  },
  {
   "cell_type": "code",
   "execution_count": null,
   "metadata": {
    "collapsed": false
   },
   "outputs": [],
   "source": [
    "df.plot.scatter('A', 'B', c='C', s=(1+df.D)**2*100, colormap='Greens')"
   ]
  },
  {
   "cell_type": "code",
   "execution_count": null,
   "metadata": {
    "collapsed": false
   },
   "outputs": [],
   "source": [
    "df.plot.box()"
   ]
  },
  {
   "cell_type": "markdown",
   "metadata": {},
   "source": [
    "Można też łatwo wyświetlać agregaty, np.:"
   ]
  },
  {
   "cell_type": "code",
   "execution_count": null,
   "metadata": {
    "collapsed": false
   },
   "outputs": [],
   "source": [
    "df.sum().plot.bar()"
   ]
  },
  {
   "cell_type": "code",
   "execution_count": null,
   "metadata": {
    "collapsed": false
   },
   "outputs": [],
   "source": [
    "df2 = df.copy()\n",
    "df2['E'] = pd.cut(df2.B, [-5, -1, 1, 5], labels=['nisko', 'srednio', 'wysoko'])\n",
    "df2.groupby('E').mean().plot.bar()"
   ]
  },
  {
   "cell_type": "markdown",
   "metadata": {},
   "source": [
    "Dostępne są równierz narzędzia do bardziej rozbudowanych wykresów w module `plotting`:"
   ]
  },
  {
   "cell_type": "code",
   "execution_count": null,
   "metadata": {
    "collapsed": false
   },
   "outputs": [],
   "source": [
    "from pandas.tools.plotting import scatter_matrix\n",
    "scatter_matrix(df)"
   ]
  },
  {
   "cell_type": "code",
   "execution_count": null,
   "metadata": {
    "collapsed": false
   },
   "outputs": [],
   "source": [
    "# Dodatkowe parametry jak rozmiar i wykres na diagonalnej\n",
    "scatter_matrix(df, figsize=(6, 6), diagonal='kde')"
   ]
  },
  {
   "cell_type": "markdown",
   "metadata": {},
   "source": [
    "### Zadanie\n",
    "\n",
    "Zilustrować DataFrame `samochody` z notebooka Pandas wybranymi wykresami."
   ]
  },
  {
   "cell_type": "markdown",
   "metadata": {},
   "source": [
    "## Altair\n",
    "\n",
    "Altair prezentuje deklaratywne podejście do wykresów w oparciu o bibliotekę [Vega-lite](http://vega.github.io/vega-lite) (JavaScript), zdejmując jeszcze więcej obowiązków z urzytkownika. Podstawowym modelem danych jest Pandas DataFrame. \n",
    "\n",
    "**Uwaga!** Altair nie jest jeszcze obecny w standardowej dystrybucji Anaconda, ale można go łatwo zainstalować używając komendy:\n",
    "```\n",
    "conda install altair --channel conda-forge\n",
    "```\n",
    "\n",
    "Podstawową formę wykresu importujemy jako `Chart`:"
   ]
  },
  {
   "cell_type": "code",
   "execution_count": null,
   "metadata": {
    "collapsed": false
   },
   "outputs": [],
   "source": [
    "from altair import Chart"
   ]
  },
  {
   "cell_type": "markdown",
   "metadata": {},
   "source": [
    "Obiekt wykresu inicjalizujemy danymi, wymieramy typ wykresu i enkodujemy jego wartości używając nazw kolumn jak poniżej:"
   ]
  },
  {
   "cell_type": "code",
   "execution_count": null,
   "metadata": {
    "collapsed": false
   },
   "outputs": [],
   "source": [
    "Chart(df).mark_circle().encode(\n",
    "    x = 'A',\n",
    "    y = 'B',\n",
    "    color='C',\n",
    "    size='D'\n",
    ")"
   ]
  },
  {
   "cell_type": "markdown",
   "metadata": {},
   "source": [
    "Możemy zmienić typ wykresu bardzo prosto:"
   ]
  },
  {
   "cell_type": "code",
   "execution_count": null,
   "metadata": {
    "collapsed": false
   },
   "outputs": [],
   "source": [
    "Chart(df).mark_point().encode(\n",
    "    x = 'A',\n",
    "    y = 'B',\n",
    "    color='C',\n",
    "    size='D'\n",
    ")"
   ]
  },
  {
   "cell_type": "markdown",
   "metadata": {},
   "source": [
    "Lub na coś bardziej egzotycznego; zauważ inny zestaw danych:"
   ]
  },
  {
   "cell_type": "code",
   "execution_count": null,
   "metadata": {
    "collapsed": false
   },
   "outputs": [],
   "source": [
    "Chart(df2).mark_text().encode(\n",
    "    x = 'A',\n",
    "    y = 'B',\n",
    "    color='E',\n",
    "    text='E'\n",
    ")"
   ]
  },
  {
   "cell_type": "markdown",
   "metadata": {},
   "source": [
    "Altair jest dość elastyczny, więc np łatwo możemy narysować równierz wykres jednowymiarowy:"
   ]
  },
  {
   "cell_type": "code",
   "execution_count": null,
   "metadata": {
    "collapsed": false
   },
   "outputs": [],
   "source": [
    "Chart(df).mark_point().encode(\n",
    "    x = 'A',\n",
    "    size='D'\n",
    ")"
   ]
  },
  {
   "cell_type": "markdown",
   "metadata": {},
   "source": [
    "Oraz zmienić jego typ na coś bardziej nam pasującego:"
   ]
  },
  {
   "cell_type": "code",
   "execution_count": null,
   "metadata": {
    "collapsed": false
   },
   "outputs": [],
   "source": [
    "Chart(df).mark_tick().encode(\n",
    "    x = 'A'\n",
    ")"
   ]
  },
  {
   "cell_type": "markdown",
   "metadata": {},
   "source": [
    "Altair ma też wbudowane agregaty, np średnią:"
   ]
  },
  {
   "cell_type": "code",
   "execution_count": null,
   "metadata": {
    "collapsed": false
   },
   "outputs": [],
   "source": [
    "Chart(df2).mark_point().encode(\n",
    "    x = 'E',\n",
    "    y = 'average(A)'\n",
    ")"
   ]
  },
  {
   "cell_type": "markdown",
   "metadata": {},
   "source": [
    "Znowu, nie do końca o to chodziło, więc można łatwo zmienić typ wykresu:"
   ]
  },
  {
   "cell_type": "code",
   "execution_count": null,
   "metadata": {
    "collapsed": false
   },
   "outputs": [],
   "source": [
    "Chart(df2).mark_bar().encode(\n",
    "    x = 'E',\n",
    "    y = 'average(A)'\n",
    ")"
   ]
  },
  {
   "cell_type": "markdown",
   "metadata": {},
   "source": [
    "Warto pamiętać, ze Altair lubi dane w postaci długiej tabeli, ze zmiennymi opisującymi. Zatem warto czasami przerobić nasz DataFrame:"
   ]
  },
  {
   "cell_type": "code",
   "execution_count": null,
   "metadata": {
    "collapsed": false
   },
   "outputs": [],
   "source": [
    "df"
   ]
  },
  {
   "cell_type": "markdown",
   "metadata": {},
   "source": [
    "Na długą formę:"
   ]
  },
  {
   "cell_type": "code",
   "execution_count": null,
   "metadata": {
    "collapsed": false
   },
   "outputs": [],
   "source": [
    "dfm = pd.melt(df.reset_index(), id_vars=['index'])\n",
    "dfm"
   ]
  },
  {
   "cell_type": "markdown",
   "metadata": {},
   "source": [
    "Używając formy długiej możemy łatwo zbudować wykres szeregów czasowych z wieloma seriami:"
   ]
  },
  {
   "cell_type": "code",
   "execution_count": null,
   "metadata": {
    "collapsed": false
   },
   "outputs": [],
   "source": [
    "Chart(dfm).mark_line().encode(\n",
    "    color = 'variable',\n",
    "    x = 'index',\n",
    "    y = 'value'\n",
    ")"
   ]
  },
  {
   "cell_type": "markdown",
   "metadata": {},
   "source": [
    "### Zadanie\n",
    "\n",
    "Zilustrować DataFrame `samochody` z notebooka Pandas wybranymi wykresami."
   ]
  }
 ],
 "metadata": {
  "anaconda-cloud": {},
  "kernelspec": {
   "display_name": "Python [default]",
   "language": "python",
   "name": "python3"
  },
  "language_info": {
   "codemirror_mode": {
    "name": "ipython",
    "version": 3
   },
   "file_extension": ".py",
   "mimetype": "text/x-python",
   "name": "python",
   "nbconvert_exporter": "python",
   "pygments_lexer": "ipython3",
   "version": "3.5.2"
  }
 },
 "nbformat": 4,
 "nbformat_minor": 1
}
