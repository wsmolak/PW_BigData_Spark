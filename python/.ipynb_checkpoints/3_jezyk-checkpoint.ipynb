{
 "cells": [
  {
   "cell_type": "markdown",
   "metadata": {},
   "source": [
    "![](imgs/logo.png)\n",
    "\n",
    "# Przetwarzanie Big Data z użyciem Apache Spark\n",
    "\n",
    "Autor notebooka: Jakub Nowacki.\n",
    "\n",
    "## Język\n",
    "\n",
    "Ogólna struktura i użycie [języka Python](https://www.python.org/). Inspirowane tutorialem [Learn Python in 10 minutes](https://www.stavros.io/tutorials/python/)."
   ]
  },
  {
   "cell_type": "markdown",
   "metadata": {},
   "source": [
    "## Zmienne\n",
    "\n",
    "Jako, że Python jest dynamicznie typowany, zmienne definiujemy bardzo prosto:"
   ]
  },
  {
   "cell_type": "code",
   "execution_count": 4,
   "metadata": {
    "collapsed": false
   },
   "outputs": [
    {
     "data": {
      "text/plain": [
       "7"
      ]
     },
     "execution_count": 4,
     "metadata": {},
     "output_type": "execute_result"
    }
   ],
   "source": [
    "zmienna = 2\n",
    "zmienna += 5\n",
    "print(\"Zmienna ma warto\")"
   ]
  },
  {
   "cell_type": "code",
   "execution_count": null,
   "metadata": {
    "collapsed": false
   },
   "outputs": [],
   "source": [
    "zmienna -= 13\n",
    "zmienna"
   ]
  },
  {
   "cell_type": "code",
   "execution_count": null,
   "metadata": {
    "collapsed": false
   },
   "outputs": [],
   "source": [
    "# Komentarz w jednej lini\n",
    "# Teraz zmienna tekstowa\n",
    "tekst = \"Hello\"\n",
    "tekst += \" world.\"\n",
    "# Tylko Python 2\n",
    "print tekst\n",
    "# Python 2(.7) i 3\n",
    "print(tekst)\n",
    "# albo w notebookach\n",
    "tekst"
   ]
  },
  {
   "cell_type": "code",
   "execution_count": null,
   "metadata": {
    "collapsed": false
   },
   "outputs": [],
   "source": [
    "\"\"\"\n",
    "Komentarz w\n",
    "wie-\n",
    "lu\n",
    "linia-\n",
    "ch...\n",
    "Zamiana zmiennych, bo można\n",
    "\"\"\"\n",
    "tekst, zmienna = zmienna, tekst\n",
    "tekst, zmienna"
   ]
  },
  {
   "cell_type": "markdown",
   "metadata": {},
   "source": [
    "## Typy\n",
    "\n",
    "Python jest dynamicznie typowany, jak widać powyżej, niemniej ma typy. Podstawowe typy w Pythonie to (do rozpoznawania typów używamy komendy *type*):"
   ]
  },
  {
   "cell_type": "code",
   "execution_count": null,
   "metadata": {
    "collapsed": false
   },
   "outputs": [],
   "source": [
    "print(type(1))\n",
    "print(type(1.))\n",
    "print(type(\"1\"))\n",
    "print(type(u\"s\")) # W pythonie 3 str to unicode\n",
    "print(type(1l)) # W Pythonie 3 jest tylko int który ma zakres taki jak long\n",
    "print(type(1+2j))\n",
    "print(type(True))\n",
    "print(type(None))"
   ]
  },
  {
   "cell_type": "markdown",
   "metadata": {},
   "source": [
    "Ponadto Python ma typy złożone:"
   ]
  },
  {
   "cell_type": "code",
   "execution_count": null,
   "metadata": {
    "collapsed": false
   },
   "outputs": [],
   "source": [
    "print(type([1, \"dwa\", 3.0, 4l]))\n",
    "print(type((1, \"dwa\", 3.0, 4l)))\n",
    "print(type({1, \"dwa\", 3.0, 4l}))\n",
    "print(type({1: \"dwa\", 3.0: 4l}))"
   ]
  },
  {
   "cell_type": "markdown",
   "metadata": {},
   "source": [
    "Można też wymuszać typy, np:"
   ]
  },
  {
   "cell_type": "code",
   "execution_count": null,
   "metadata": {
    "collapsed": false
   },
   "outputs": [],
   "source": [
    "i = int(1.2)\n",
    "print(i, type(i))\n",
    "i = int('1')\n",
    "print(i, type(i))\n",
    "i = float('1')\n",
    "print(i, type(i))\n",
    "i = float('1.2')\n",
    "print(i, type(i))\n",
    "# ... ale już nie ...\n",
    "i = int('1.2')\n",
    "print(i, type(i))"
   ]
  },
  {
   "cell_type": "markdown",
   "metadata": {},
   "source": [
    "## Kontrola przepływu\n",
    "\n",
    "Jak wiele języków Python posiada wyrażenia warunkowe *if ... else ...*, jak i pętle *while ...* i *for ...*"
   ]
  },
  {
   "cell_type": "code",
   "execution_count": null,
   "metadata": {
    "collapsed": false
   },
   "outputs": [],
   "source": [
    "zakres = range(10)\n",
    "print(zakres)\n",
    "\n",
    "for numer in zakres:\n",
    "    # Sprawdź czy numer jest na liście\n",
    "    if numer in (3, 4, 7, 9):\n",
    "        # \"Break\" kończy pętle\n",
    "        break\n",
    "    else:\n",
    "        # \"Continue\" zaczyna kolejną iteracje\n",
    "        continue\n",
    "else:\n",
    "    # \"else\" jest opcjonalne i wykonywane tylko jak nie pojawi się \"break\".\n",
    "    pass # Nic nie rób\n",
    "\n",
    "if zakres[1] == 2:\n",
    "    print \"Drugi element listy to 2\"\n",
    "elif zakres[1] == 3:\n",
    "    print \"Drugi element listy to 3\"\n",
    "else:\n",
    "    print \"Nie wiem\"\n",
    "\n",
    "i = 0\n",
    "while i in zakres:\n",
    "    print(i)\n",
    "    i += 1"
   ]
  },
  {
   "cell_type": "markdown",
   "metadata": {},
   "source": [
    "## Funkcje\n",
    "\n",
    "Jak większość języków Python posiada funkcje. Podstawowa definicja funkcji to:"
   ]
  },
  {
   "cell_type": "code",
   "execution_count": null,
   "metadata": {
    "collapsed": false
   },
   "outputs": [],
   "source": [
    "def funkcja(argument, opcjonalny=2):\n",
    "    print(u\"Funkcja ma argument {} (opcjonalny: {})\".format(argument, opcjonalny))\n",
    "\n",
    "funkcja(u\"mój argument\")\n",
    "funkcja(1)\n",
    "funkcja(1.0, \"op\")"
   ]
  },
  {
   "cell_type": "markdown",
   "metadata": {},
   "source": [
    "Dostępne są też funkcje anonimowe, tzw. lambdy:"
   ]
  },
  {
   "cell_type": "code",
   "execution_count": null,
   "metadata": {
    "collapsed": false
   },
   "outputs": [],
   "source": [
    "l = lambda x: x+1\n",
    "print(l(1))\n",
    "print(l(1l))\n",
    "print(l(1+1j))\n",
    "print(l(1.2))\n",
    "# ... ale już nie ...\n",
    "print(l('1'))"
   ]
  },
  {
   "cell_type": "markdown",
   "metadata": {},
   "source": [
    "Można też przekazywać funkcje jako argumenty:"
   ]
  },
  {
   "cell_type": "code",
   "execution_count": null,
   "metadata": {
    "collapsed": false
   },
   "outputs": [],
   "source": [
    "def funkcja_w_funkcji(wartosc, fun):\n",
    "    print(\"Wynik funkcji to {}\".format(fun(wartosc)))\n",
    "\n",
    "funkcja_w_funkcji(1, lambda x: x+1)\n",
    "funkcja_w_funkcji(1, lambda x: x+1j)\n",
    "funkcja_w_funkcji(1, lambda x: float(x))"
   ]
  },
  {
   "cell_type": "markdown",
   "metadata": {},
   "source": [
    "W funkcjach można używać zmiennych globalnych jak pokazujemy poniżej:"
   ]
  },
  {
   "cell_type": "code",
   "execution_count": null,
   "metadata": {
    "collapsed": false
   },
   "outputs": [],
   "source": [
    "globalna = 1\n",
    "\n",
    "def funkcja_1():\n",
    "    print(\"Zmienna globalna to {}\".format(globalna))\n",
    "\n",
    "funkcja_1() \n",
    "    \n",
    "def funkcja_2():\n",
    "    global globalna\n",
    "    print(\"Zmienna globalna to {}\".format(globalna))\n",
    "    # Zmieniamy zmienna globalną\n",
    "    globalna = 2\n",
    "\n",
    "funkcja_2()\n",
    "print(\"Ile? {}\".format(globalna))\n",
    "\n",
    "def funkcja_3():\n",
    "    print(\"Zmienna globalna to {}\".format(globalna))\n",
    "    # Zmieniamy zmienna globalną\n",
    "    globalna = 2\n",
    "\n",
    "funkcja_3()\n",
    "print(\"Ile? {}\".format(globalna))"
   ]
  },
  {
   "cell_type": "markdown",
   "metadata": {},
   "source": [
    "## Operacje na tekście\n",
    "\n",
    "Python zawiera dość bogaty zakres operacji na tekscie. Poniżej przedstawione są podstawowe metody typu *str*:"
   ]
  },
  {
   "cell_type": "code",
   "execution_count": null,
   "metadata": {
    "collapsed": false
   },
   "outputs": [],
   "source": [
    "s = \"tekst   \"\n",
    "print(s.capitalize())\n",
    "print(s.lower())\n",
    "print(s.upper())\n",
    "print(s.count(\"t\"))\n",
    "print(s.encode('utf-8'))\n",
    "print(s.startswith('t'))\n",
    "print(s.endswith('t'))\n",
    "print(s.find('k'))\n",
    "print(len(s), len(s.strip()))\n",
    "print(s.isalnum())\n",
    "print(s.isdigit())\n",
    "print(s.islower())\n",
    "print(s.isspace())\n",
    "print(s.isupper())\n",
    "print(s.join(['1','2','3']))"
   ]
  },
  {
   "cell_type": "markdown",
   "metadata": {},
   "source": [
    "## Klasy\n",
    "\n",
    "Python posiada klasy i dziedziczenie. Klasę definiujemy jak poniżej:"
   ]
  },
  {
   "cell_type": "code",
   "execution_count": null,
   "metadata": {
    "collapsed": false
   },
   "outputs": [],
   "source": [
    "class MojaKlasa(object):\n",
    "    statyczna = 1\n",
    "\n",
    "    def __init__(self, w):\n",
    "        self.klasowa = w\n",
    "        \n",
    "    def suma(self, cos):\n",
    "        return self.statyczna + self.klasowa + cos\n",
    "\n",
    "c1 = MojaKlasa(4)\n",
    "c2 = MojaKlasa(33)\n",
    "\n",
    "\n",
    "print(c1)\n",
    "print(c2)\n",
    "print(c1.statyczna)\n",
    "print(c2.statyczna)\n",
    "print(c1.klasowa)\n",
    "print(c2.klasowa)\n",
    "print(c1.suma(1))\n",
    "print(c2.suma(1))"
   ]
  },
  {
   "cell_type": "markdown",
   "metadata": {},
   "source": [
    "## Wyjątki\n",
    "\n",
    "Jak coś pójdzie nie tak, Python najczęściej rzuca wyjątkiem. Wyjątki to klasy. Możemy obsługiwać wyjątki jak poniżej:"
   ]
  },
  {
   "cell_type": "code",
   "execution_count": null,
   "metadata": {
    "collapsed": false
   },
   "outputs": [],
   "source": [
    "try:\n",
    "    1/0\n",
    "except ZeroDivisionError:\n",
    "    print(u\"Przez zero?!?\")\n",
    "else:\n",
    "    # Nie było wyjątku\n",
    "    pass\n",
    "finally:\n",
    "    print(u\"Tu znajdziemy się niezależnie od wyniku\")"
   ]
  },
  {
   "cell_type": "markdown",
   "metadata": {},
   "source": [
    "## Importowanie\n",
    "\n",
    "Python zawiera bardzo dużo przydatnych bibliotek, w tym bardzo rozbudowaną [bibliotekę standardową](https://docs.python.org/2/library/index.html). Biblioteki można importować jak poniżej:"
   ]
  },
  {
   "cell_type": "code",
   "execution_count": null,
   "metadata": {
    "collapsed": false
   },
   "outputs": [],
   "source": [
    "# Cała biblioteka\n",
    "import re \n",
    "re.findall('\\d', \"1a32vs\")"
   ]
  },
  {
   "cell_type": "code",
   "execution_count": null,
   "metadata": {
    "collapsed": false
   },
   "outputs": [],
   "source": [
    "# Pojedyncze elementy\n",
    "from re import findall \n",
    "findall('\\d', \"1a32vs\")"
   ]
  }
 ],
 "metadata": {
  "kernelspec": {
   "display_name": "Python [default]",
   "language": "python",
   "name": "python2"
  },
  "language_info": {
   "codemirror_mode": {
    "name": "ipython",
    "version": 2
   },
   "file_extension": ".py",
   "mimetype": "text/x-python",
   "name": "python",
   "nbconvert_exporter": "python",
   "pygments_lexer": "ipython2",
   "version": "2.7.12"
  }
 },
 "nbformat": 4,
 "nbformat_minor": 0
}
