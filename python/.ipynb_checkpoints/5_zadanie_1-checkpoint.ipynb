{
 "cells": [
  {
   "cell_type": "markdown",
   "metadata": {},
   "source": [
    "![](imgs/logo.png)\n",
    "\n",
    "# Przetwarzanie Big Data z użyciem Apache Spark\n",
    "\n",
    "Autor notebooka: Jakub Nowacki.\n",
    "\n",
    "## Zadanie 1\n",
    "\n",
    "Pobierz **The Dunwich Horror** *H. P. Lovecraft* z [tego adresu](http://www.gutenberg.org/cache/epub/50133/pg50133.txt) w [Projekcie Gutenberg](https://www.gutenberg.org/).\n",
    "\n",
    "1. Przeczytaj plik używając Pythona; zobacz [przyjazną dokumentację](https://docs.python.org/2/tutorial/inputoutput.html))\n",
    "1. Policz unikalne słowa w utworze (podpowiedź: *split* i *lower* może się przydać)\n",
    "1. ★ Policz unikalne litery w utworze\n",
    "1. ★ Pobierz plik bezpośrednio z serwera (podpowiedź: [urllib2](https://docs.python.org/2/library/urllib2.html?highlight=urllib#module-urllib2) lub [requests](http://docs.python-requests.org/en/master/) mogą się przydać)"
   ]
  },
  {
   "cell_type": "code",
   "execution_count": null,
   "metadata": {
    "collapsed": true
   },
   "outputs": [],
   "source": []
  }
 ],
 "metadata": {
  "kernelspec": {
   "display_name": "Python [default]",
   "language": "python",
   "name": "python2"
  },
  "language_info": {
   "codemirror_mode": {
    "name": "ipython",
    "version": 2
   },
   "file_extension": ".py",
   "mimetype": "text/x-python",
   "name": "python",
   "nbconvert_exporter": "python",
   "pygments_lexer": "ipython2",
   "version": "2.7.12"
  }
 },
 "nbformat": 4,
 "nbformat_minor": 1
}
