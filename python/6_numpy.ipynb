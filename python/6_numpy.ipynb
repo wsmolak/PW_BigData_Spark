{
 "cells": [
  {
   "cell_type": "markdown",
   "metadata": {},
   "source": [
    "![](imgs/logo.png)\n",
    "\n",
    "# Przetwarzanie Big Data z użyciem Apache Spark\n",
    "\n",
    "Autor notebooka: Jakub Nowacki.\n",
    "\n",
    "## NumPy\n",
    "\n",
    "[NumPy](http://www.numpy.org/) jest podstawowym pakietem (dodatkowym) w Pythonie do obliczeń naukowych. Integruje on niskopoziomowe biblioteki takie jak BLAS i LAPACK lub ATLAS. Podstawowe właściwości NumPy to :\n",
    "* potężny N-wymiarowy obiekt tablicy danych\n",
    "* rozbudowane funkcje (\n",
    "* narzędzia do integracji z codem napisanym w C/C++ i Fortranie\n",
    "* narzędzia do algebry liniowej, transformaty Fouriera czy generator liczb losowych\n",
    "\n",
    "Numpy importujemy używając nazwy `numpy`, najlepiej w całości jako pakiet. Często stosowany jest alias `np`."
   ]
  },
  {
   "cell_type": "code",
   "execution_count": 1,
   "metadata": {
    "collapsed": false
   },
   "outputs": [],
   "source": [
    "import numpy as np"
   ]
  },
  {
   "cell_type": "markdown",
   "metadata": {},
   "source": [
    "## Tablica\n",
    "\n",
    "Podstawowym obiektem w Numpy jest tablica zwana `ndarray` od ang. *N-dimensional array*. Talbicę można stworzyć z kolekcji za pomocą funkcji `ndarray` lub jej aliasu `array`:"
   ]
  },
  {
   "cell_type": "code",
   "execution_count": 8,
   "metadata": {
    "collapsed": false
   },
   "outputs": [
    {
     "name": "stdout",
     "output_type": "stream",
     "text": [
      "[1 2 3]\n",
      "[3 4]\n",
      "[1 2 3 4]\n"
     ]
    }
   ],
   "source": [
    "n1 = np.array([1,2,3])\n",
    "print(n1)\n",
    "n2 = np.array([[1,2],[3,4]])\n",
    "print(n2[1])\n",
    "print(n2.flatten())\n",
    "# ... itd"
   ]
  },
  {
   "cell_type": "markdown",
   "metadata": {},
   "source": [
    "Każda komenda ma poniższe właściwości:"
   ]
  },
  {
   "cell_type": "code",
   "execution_count": 9,
   "metadata": {
    "collapsed": false
   },
   "outputs": [
    {
     "name": "stdout",
     "output_type": "stream",
     "text": [
      "Wymiar: n1: 1, n2: 2\n",
      "Kształt: n1: (3,), n2: (2, 2)\n",
      "Rozmiar: n1: 3, n2: 4\n",
      "Typ: n1: int64, n2: int64\n",
      "Rozmiar elementu (w bajtach): n1: 8, n2: 8\n",
      "Wskaźnik do danych: n1: \u0001\u0000\u0000\u0000\u0000\u0000\u0000\u0000\u0002\u0000\u0000\u0000\u0000\u0000\u0000\u0000\u0003\u0000\u0000\u0000\u0000\u0000\u0000\u0000, n2: \u0001\u0000\u0000\u0000\u0000\u0000\u0000\u0000\u0002\u0000\u0000\u0000\u0000\u0000\u0000\u0000\u0003\u0000\u0000\u0000\u0000\u0000\u0000\u0000\u0004\u0000\u0000\u0000\u0000\u0000\u0000\u0000\n"
     ]
    }
   ],
   "source": [
    "print('Wymiar: n1: {}, n2: {}'.format(n1.ndim, n2.ndim))\n",
    "print('Kształt: n1: {}, n2: {}'.format(n1.shape, n2.shape))\n",
    "print('Rozmiar: n1: {}, n2: {}'.format(n1.size, n2.size))\n",
    "print('Typ: n1: {}, n2: {}'.format(n1.dtype, n2.dtype))\n",
    "print('Rozmiar elementu (w bajtach): n1: {}, n2: {}'.format(n1.itemsize, n2.itemsize))\n",
    "print('Wskaźnik do danych: n1: {}, n2: {}'.format(n1.data, n2.data))"
   ]
  },
  {
   "cell_type": "markdown",
   "metadata": {},
   "source": [
    "W przeciwieństwie do kolekcji, tablice mogą mieć tylko jeden typ elementu, choć moze być złożony; zobacz [ten link](https://docs.scipy.org/doc/numpy/reference/arrays.dtypes.html)."
   ]
  },
  {
   "cell_type": "code",
   "execution_count": 10,
   "metadata": {
    "collapsed": false
   },
   "outputs": [
    {
     "name": "stdout",
     "output_type": "stream",
     "text": [
      "Tablica: [1], typ: int64\n",
      "Tablica: [ 1.], typ: float64\n",
      "Tablica: [ 0.+1.j], typ: complex128\n",
      "Tablica: ['1'], typ: |S1\n"
     ]
    }
   ],
   "source": [
    "for v in [1, 1., 1j]:\n",
    "    a = np.array([v])\n",
    "    print('Tablica: {}, typ: {}'.format(a, a.dtype))\n",
    "# Można też wymusić typ przy tworzeniu tablicy\n",
    "a = np.array([1], dtype=str)\n",
    "print('Tablica: {}, typ: {}'.format(a, a.dtype))"
   ]
  },
  {
   "cell_type": "markdown",
   "metadata": {},
   "source": [
    "Są też ogólne metody tworzenia tablic o specyficznych właściwościach:"
   ]
  },
  {
   "cell_type": "code",
   "execution_count": 11,
   "metadata": {
    "collapsed": false
   },
   "outputs": [
    {
     "name": "stdout",
     "output_type": "stream",
     "text": [
      "Zakres:\n",
      "[1 2 3 4 5 6 7 8 9]\n",
      "Zera:\n",
      "[[ 0.  0.  0.]\n",
      " [ 0.  0.  0.]]\n",
      "Jedynki:\n",
      "[[ 1.  1.]\n",
      " [ 1.  1.]\n",
      " [ 1.  1.]]\n",
      "Pusta:\n",
      "[[  6.91606062e-310   4.39633841e-317   3.25218909e-317   6.91606129e-310\n",
      "    6.91602529e-310   6.91602527e-310   3.16202013e-322]\n",
      " [  3.16202013e-322   0.00000000e+000  -3.13486983e-294   1.20090504e+175\n",
      "    4.71677816e-309   1.20090504e+175   4.71677816e-309]]\n",
      "Losowa:\n",
      "[[ 0.96771247  0.87549192]\n",
      " [ 0.51442253  0.6851072 ]]\n"
     ]
    }
   ],
   "source": [
    "print('Zakres:\\n{}'.format(np.arange(1,10)))\n",
    "print('Zera:\\n{}'.format(np.zeros((2,3))))\n",
    "print('Jedynki:\\n{}'.format(np.ones((3,2))))\n",
    "print('Pusta:\\n{}'.format(np.empty((2,7)))) # Bez inicjalizacji\n",
    "print('Losowa:\\n{}'.format(np.random.rand(2,2)))\n"
   ]
  },
  {
   "cell_type": "markdown",
   "metadata": {},
   "source": [
    "Pobieranie wartości z tablic:"
   ]
  },
  {
   "cell_type": "code",
   "execution_count": 15,
   "metadata": {
    "collapsed": false
   },
   "outputs": [
    {
     "name": "stdout",
     "output_type": "stream",
     "text": [
      "(2, 4)\n",
      "4\n",
      "[3 4]\n",
      "[2 4]\n",
      "[3]\n",
      "[[ True False]\n",
      " [False  True]]\n"
     ]
    }
   ],
   "source": [
    "# Jak w kolekcjach\n",
    "print(n1[1], n2[1][1])\n",
    "# ... ale jest też skrót\n",
    "print(n2[1,1])\n",
    "# Przecięcia podobnie w kolekcjach\n",
    "print(n2[1,:])\n",
    "print(n2[:,1])\n",
    "print(n2[1,:1])\n",
    "print(n2%3 ==1)"
   ]
  },
  {
   "cell_type": "markdown",
   "metadata": {},
   "source": [
    "Operacje w tablicach wykonywane są na poszczególnych elementach, np. jak pomnożymy dwie tablice pomnożone zostaną tylko elementy na tych samych pozycjach przez siebie."
   ]
  },
  {
   "cell_type": "code",
   "execution_count": 16,
   "metadata": {
    "collapsed": false
   },
   "outputs": [
    {
     "name": "stdout",
     "output_type": "stream",
     "text": [
      "a = \n",
      "[[81 69 77]\n",
      " [12 76 10]]\n",
      "2*a = \n",
      "[[162 138 154]\n",
      " [ 24 152  20]]\n",
      "a**2 = \n",
      "[[6561 4761 5929]\n",
      " [ 144 5776  100]]\n",
      "a*a = \n",
      "[[6561 4761 5929]\n",
      " [ 144 5776  100]]\n"
     ]
    }
   ],
   "source": [
    "a = np.random.randint(100,size=(2,3))\n",
    "print('a = \\n{}'.format(a))\n",
    "print('2*a = \\n{}'.format(2*a))\n",
    "print('a**2 = \\n{}'.format(a**2))\n",
    "print('a*a = \\n{}'.format(a*a))"
   ]
  },
  {
   "cell_type": "markdown",
   "metadata": {},
   "source": [
    "## Macierze\n",
    "\n",
    "Numpy ma rownierz typ macierzy `matrix`. Jest on bardzo podobny do tablicy ale podstawowe operacje wykonywane są w sposób macierzowy a nie tablicowy."
   ]
  },
  {
   "cell_type": "code",
   "execution_count": null,
   "metadata": {
    "collapsed": false
   },
   "outputs": [],
   "source": [
    "m = np.matrix([[1,2], [3,4]])\n",
    "mm = np.matrix([[5,6], [7,8]])\n",
    "\n",
    "print('m*mm = \\n{}'.format(m*mm))\n",
    "print('m**2 = \\n {}'.format(m**2))\n",
    "print('m*2 = \\n ={}'.format(m*2))\n",
    "\n",
    "d = np.diag([3,4])\n",
    "print('d = \\n {}'.format(d))\n",
    "print('d*m = \\n {}'.format(d*m))"
   ]
  },
  {
   "cell_type": "markdown",
   "metadata": {
    "collapsed": true
   },
   "source": [
    "Niemniej, tablice można używać podobnie, ale do mnożenia trzeba wykorzystywać funkcje `dot`:"
   ]
  },
  {
   "cell_type": "code",
   "execution_count": null,
   "metadata": {
    "collapsed": false
   },
   "outputs": [],
   "source": [
    "a = np.array([[1,2], [3,4]])\n",
    "aa = np.array([[5,6], [7,8]])\n",
    "\n",
    "print('a*aa = \\n{}'.format(a*aa))\n",
    "print('a.dot(aa) = \\n{}'.format(a.dot(aa)))\n",
    "print('a**2 = \\n {}'.format(a**2))\n",
    "print('a*2 = \\n ={}'.format(a*2))"
   ]
  },
  {
   "cell_type": "markdown",
   "metadata": {},
   "source": [
    "Dodatkowo, operacje algebry liniowej można wykonywać zarówno na tablicach jak i macierzach, np:"
   ]
  },
  {
   "cell_type": "code",
   "execution_count": null,
   "metadata": {
    "collapsed": false
   },
   "outputs": [],
   "source": [
    "print('det(m) = {}'.format(np.linalg.det(m)))\n",
    "print('det(a) = {}'.format(np.linalg.det(a)))"
   ]
  },
  {
   "cell_type": "markdown",
   "metadata": {},
   "source": [
    "## Zadanie\n",
    "Mamy liczbę trzycyfrową. Jeżeli od liczby dziesiątek odejmiemy liczbę jedności otrzymamy 6. Jeżeli do liczby dziesiątek dodamy liczbę jedności otrzymamy 10.\n",
    "\n",
    "* znajdź wszystkie liczby trzycyfrowe spełniające ten warunek\n",
    "* znajdź liczby trzycyfrowe podzielne przez 3\n",
    "\n",
    "[Podpowiedź](https://pl.wikipedia.org/wiki/Uk%C5%82ad_r%C3%B3wna%C5%84_liniowych):\n",
    "$$ Ax=B $$\n",
    "$$ x = A^{-1}B $$"
   ]
  },
  {
   "cell_type": "code",
   "execution_count": 18,
   "metadata": {
    "collapsed": false
   },
   "outputs": [
    {
     "data": {
      "text/plain": [
       "matrix([[ 1, -1],\n",
       "        [ 1,  1]])"
      ]
     },
     "execution_count": 18,
     "metadata": {},
     "output_type": "execute_result"
    }
   ],
   "source": [
    "A = np.matrix([[1,-1],[1,1]])\n",
    "A\n"
   ]
  },
  {
   "cell_type": "code",
   "execution_count": 19,
   "metadata": {
    "collapsed": false
   },
   "outputs": [
    {
     "data": {
      "text/plain": [
       "matrix([[ 6],\n",
       "        [10]])"
      ]
     },
     "execution_count": 19,
     "metadata": {},
     "output_type": "execute_result"
    }
   ],
   "source": [
    "B = np.matrix([6,10]).T\n",
    "B"
   ]
  },
  {
   "cell_type": "code",
   "execution_count": 22,
   "metadata": {
    "collapsed": false
   },
   "outputs": [
    {
     "data": {
      "text/plain": [
       "matrix([[ 8.],\n",
       "        [ 2.]])"
      ]
     },
     "execution_count": 22,
     "metadata": {},
     "output_type": "execute_result"
    }
   ],
   "source": [
    "x = A**(-1)*B\n",
    "x"
   ]
  },
  {
   "cell_type": "code",
   "execution_count": 26,
   "metadata": {
    "collapsed": false
   },
   "outputs": [
    {
     "name": "stdout",
     "output_type": "stream",
     "text": [
      "128\n",
      "228\n",
      "328\n",
      "428\n",
      "528\n",
      "628\n",
      "728\n",
      "828\n",
      "928\n"
     ]
    }
   ],
   "source": [
    "for i in range(1,10):\n",
    "    print('{}{}{}'.format(i,int(x[1,0]),int(x[0,0])))"
   ]
  },
  {
   "cell_type": "code",
   "execution_count": 28,
   "metadata": {
    "collapsed": false
   },
   "outputs": [
    {
     "data": {
      "text/plain": [
       "array([ 128.,  228.,  328.,  428.,  528.,  628.,  728.,  828.,  928.])"
      ]
     },
     "execution_count": 28,
     "metadata": {},
     "output_type": "execute_result"
    }
   ],
   "source": [
    "res = np.arange(1,10)*100 + x[1,0]*10 + x[0,0]\n",
    "res"
   ]
  },
  {
   "cell_type": "code",
   "execution_count": 29,
   "metadata": {
    "collapsed": false
   },
   "outputs": [
    {
     "data": {
      "text/plain": [
       "array([ 228.,  528.,  828.])"
      ]
     },
     "execution_count": 29,
     "metadata": {},
     "output_type": "execute_result"
    }
   ],
   "source": [
    "res[res % 3 ==0]"
   ]
  },
  {
   "cell_type": "code",
   "execution_count": null,
   "metadata": {
    "collapsed": true
   },
   "outputs": [],
   "source": []
  }
 ],
 "metadata": {
  "anaconda-cloud": {},
  "kernelspec": {
   "display_name": "Python [conda root]",
   "language": "python",
   "name": "conda-root-py"
  },
  "language_info": {
   "codemirror_mode": {
    "name": "ipython",
    "version": 2
   },
   "file_extension": ".py",
   "mimetype": "text/x-python",
   "name": "python",
   "nbconvert_exporter": "python",
   "pygments_lexer": "ipython2",
   "version": "2.7.12"
  }
 },
 "nbformat": 4,
 "nbformat_minor": 0
}
