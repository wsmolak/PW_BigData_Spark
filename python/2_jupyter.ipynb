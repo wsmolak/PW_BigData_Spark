{
 "cells": [
  {
   "cell_type": "markdown",
   "metadata": {},
   "source": [
    "![](imgs/logo.png)\n",
    "\n",
    "# Przetwarzanie Big Data z użyciem Apache Spark\n",
    "\n",
    "Autor notebooka: Jakub Nowacki.\n",
    "\n",
    "## Jupyter\n",
    "\n",
    "Ten notebook jest szybkim wstępem do narzędza [Jupyter Notebook](http://jupyter.org/) (vel IPython Notebook) które będziemy używać.\n"
   ]
  },
  {
   "cell_type": "markdown",
   "metadata": {},
   "source": [
    "## Kod\n",
    "\n",
    "Naciśnij `[shift]+[enter]` żeby uruchomic komórkę (cell)."
   ]
  },
  {
   "cell_type": "code",
   "execution_count": 1,
   "metadata": {
    "collapsed": false
   },
   "outputs": [
    {
     "data": {
      "text/plain": [
       "11"
      ]
     },
     "execution_count": 1,
     "metadata": {},
     "output_type": "execute_result"
    }
   ],
   "source": [
    "2 + 9"
   ]
  },
  {
   "cell_type": "code",
   "execution_count": 2,
   "metadata": {
    "collapsed": false
   },
   "outputs": [
    {
     "name": "stdout",
     "output_type": "stream",
     "text": [
      "I have a CAT. A wonderful animal, indeed!\n",
      "I have a PYTHON. A wonderful animal, indeed!\n",
      "I have a ELEPHANT. A wonderful animal, indeed!\n"
     ]
    }
   ],
   "source": [
    "pets = [\"cat\", \"python\", \"elephant\"]\n",
    "\n",
    "for pet in pets:\n",
    "    print(\"I have a {}. A wonderful animal, indeed!\".format(pet.upper()))"
   ]
  },
  {
   "cell_type": "code",
   "execution_count": null,
   "metadata": {
    "collapsed": false
   },
   "outputs": [],
   "source": [
    "[len(pet) for pet in pets]"
   ]
  },
  {
   "cell_type": "markdown",
   "metadata": {},
   "source": [
    "## Markdown\n",
    "\n",
    "**Markdown** to [język](https://en.wikipedia.org/wiki/Markup_language), który pozwala nam na edycję dokumentu, jak widać tu.\n",
    "\n",
    "Zawiera:\n",
    "\n",
    "* listy,\n",
    "* czcionki:\n",
    "    * *wojtek*,\n",
    "    * *pochyłą*,\n",
    "    * **pogrubioną**,\n",
    "    * ~~przekreśloną~~,\n",
    "    * `stałoszerokościowa`,\n",
    "* [linki](http://www.sages.pl/).\n",
    "\n",
    "\n",
    "Ponadto, zawiera możliwość wklejania wyrażeń w $\\LaTeX$ jak np. $\\sqrt{2} = 1.41\\ldots$ lub:\n",
    "\n",
    "$$\\sum_{k=1}^\\infty \\frac{(-1)^k}{2k-1} = 1 - \\tfrac{1}{3} + \\tfrac{1}{5} + \\ldots = \\frac{\\pi}{4} $$\n",
    "\n",
    "Oraz, oczywiście kodu:\n",
    "\n",
    "```\n",
    "var list = [\"a\", \"list\", \"in\", \"JavaScript\", \"ES6\"];\n",
    "list\n",
    "  .map((x) => x.length)\n",
    "  .reduce((x, y) => x + y);\n",
    "\n",
    "```\n"
   ]
  },
  {
   "cell_type": "markdown",
   "metadata": {},
   "source": [
    "## Automatyczne dopełnianie kodu"
   ]
  },
  {
   "cell_type": "code",
   "execution_count": 8,
   "metadata": {
    "collapsed": true
   },
   "outputs": [],
   "source": [
    "from numpy import random"
   ]
  },
  {
   "cell_type": "code",
   "execution_count": 21,
   "metadata": {
    "collapsed": false
   },
   "outputs": [
    {
     "name": "stdout",
     "output_type": "stream",
     "text": [
      "7\n"
     ]
    }
   ],
   "source": [
    "w=random.randint(2,15)\n",
    "print(w)"
   ]
  },
  {
   "cell_type": "code",
   "execution_count": null,
   "metadata": {
    "collapsed": true
   },
   "outputs": [],
   "source": [
    "w=random.randint"
   ]
  },
  {
   "cell_type": "markdown",
   "metadata": {},
   "source": [
    " Zacznij pisać `random.r` i naciśnij `tab`. "
   ]
  },
  {
   "cell_type": "code",
   "execution_count": null,
   "metadata": {
    "collapsed": true
   },
   "outputs": [],
   "source": [
    "random.randn?"
   ]
  },
  {
   "cell_type": "markdown",
   "metadata": {},
   "source": [
    "## IPython magic\n",
    "\n",
    "Komórki zaczynające się od `%%cośtam` są specjalne. Przykładowo, możemy mierzyć szybkość wykonania:"
   ]
  },
  {
   "cell_type": "code",
   "execution_count": 26,
   "metadata": {
    "collapsed": false
   },
   "outputs": [
    {
     "name": "stdout",
     "output_type": "stream",
     "text": [
      "10 loops, best of 3: 47.5 ms per loop\n"
     ]
    }
   ],
   "source": [
    "%%timeit\n",
    "acc = 0\n",
    "for x in range(1000000):\n",
    "    acc += 1"
   ]
  },
  {
   "cell_type": "code",
   "execution_count": 24,
   "metadata": {
    "collapsed": false
   },
   "outputs": [
    {
     "name": "stdout",
     "output_type": "stream",
     "text": [
      "1 loop, best of 3: 1.36 s per loop\n"
     ]
    }
   ],
   "source": [
    "%%timeit\n",
    "acc = 0\n",
    "for x in range(1000000):\n",
    "    acc += x**5 - 3 * x**2"
   ]
  },
  {
   "cell_type": "markdown",
   "metadata": {},
   "source": [
    "## Wiersz poleceń\n",
    "\n",
    "Tylko dla systemów *nix (Linux, Mac OS X)"
   ]
  },
  {
   "cell_type": "code",
   "execution_count": 27,
   "metadata": {
    "collapsed": false
   },
   "outputs": [
    {
     "name": "stdout",
     "output_type": "stream",
     "text": [
      "1_hello_world.py  3_jezyk.ipynb     5_zadanie_1.ipynb\r\n",
      "2_jupyter.ipynb   4_kolekcje.ipynb  imgs\r\n"
     ]
    }
   ],
   "source": [
    "!ls"
   ]
  },
  {
   "cell_type": "code",
   "execution_count": 32,
   "metadata": {
    "collapsed": false
   },
   "outputs": [
    {
     "name": "stdout",
     "output_type": "stream",
     "text": [
      "2_jupyter.ipynb\n",
      "3_jezyk.ipynb\n"
     ]
    }
   ],
   "source": [
    "files = !ls\n",
    "for f in files:\n",
    "    if f[2] == \"j\":\n",
    "        print(f)"
   ]
  },
  {
   "cell_type": "markdown",
   "metadata": {},
   "source": [
    "## HTML and JavaScript"
   ]
  },
  {
   "cell_type": "code",
   "execution_count": 33,
   "metadata": {
    "collapsed": true
   },
   "outputs": [],
   "source": [
    "from IPython.display import Javascript, HTML"
   ]
  },
  {
   "cell_type": "code",
   "execution_count": 34,
   "metadata": {
    "collapsed": false
   },
   "outputs": [
    {
     "data": {
      "application/javascript": [
       "alert('It is JavaScript!')"
      ],
      "text/plain": [
       "<IPython.core.display.Javascript object>"
      ]
     },
     "execution_count": 34,
     "metadata": {},
     "output_type": "execute_result"
    }
   ],
   "source": [
    "Javascript(\"alert('It is JavaScript!')\")"
   ]
  },
  {
   "cell_type": "code",
   "execution_count": 35,
   "metadata": {
    "collapsed": false
   },
   "outputs": [
    {
     "data": {
      "text/html": [
       "We can <i>generate</i> <code>html</code> code <b>directly</b>!"
      ],
      "text/plain": [
       "<IPython.core.display.HTML object>"
      ]
     },
     "execution_count": 35,
     "metadata": {},
     "output_type": "execute_result"
    }
   ],
   "source": [
    "HTML(\"We can <i>generate</i> <code>html</code> code <b>directly</b>!\")"
   ]
  },
  {
   "cell_type": "markdown",
   "metadata": {},
   "source": [
    "## Wykresy"
   ]
  },
  {
   "cell_type": "code",
   "execution_count": null,
   "metadata": {
    "collapsed": true
   },
   "outputs": [],
   "source": [
    "# wykresy pojawią się w notebooku\n",
    "%matplotlib inline\n",
    "\n",
    "# biblioteka do wykresy\n",
    "import matplotlib.pyplot as plt\n",
    "\n",
    "# biblioteka numeryczna\n",
    "import numpy as np"
   ]
  },
  {
   "cell_type": "code",
   "execution_count": null,
   "metadata": {
    "collapsed": false
   },
   "outputs": [],
   "source": [
    "X = np.linspace(-5, 5, 100)  # vector z 100 równo odległymi wartościami od -5 do 5\n",
    "Y = np.sin(X)                # sinus wszystkich wartości X\n",
    "plt.plot(X, Y)               # wykres liniowy"
   ]
  },
  {
   "cell_type": "markdown",
   "metadata": {},
   "source": [
    "## Wyświetlanie różnych rzeczy"
   ]
  },
  {
   "cell_type": "code",
   "execution_count": 37,
   "metadata": {
    "collapsed": true
   },
   "outputs": [],
   "source": [
    "from IPython import display"
   ]
  },
  {
   "cell_type": "code",
   "execution_count": 38,
   "metadata": {
    "collapsed": false
   },
   "outputs": [
    {
     "data": {
      "text/html": [
       "<img src=\"http://imgs.xkcd.com/comics/python.png\"/>"
      ],
      "text/plain": [
       "<IPython.core.display.Image object>"
      ]
     },
     "execution_count": 38,
     "metadata": {},
     "output_type": "execute_result"
    }
   ],
   "source": [
    "display.Image(url=\"http://imgs.xkcd.com/comics/python.png\")"
   ]
  },
  {
   "cell_type": "code",
   "execution_count": 39,
   "metadata": {
    "collapsed": false
   },
   "outputs": [
    {
     "data": {
      "image/jpeg": "[encoded data removed]",
      "text/html": [
       "\n",
       "        <iframe\n",
       "            width=\"400\"\n",
       "            height=\"300\"\n",
       "            src=\"https://www.youtube.com/embed/H6dLGQw9yFQ\"\n",
       "            frameborder=\"0\"\n",
       "            allowfullscreen\n",
       "        ></iframe>\n",
       "        "
      ],
      "text/plain": [
       "<IPython.lib.display.YouTubeVideo at 0x7fd890528d50>"
      ]
     },
     "execution_count": 39,
     "metadata": {},
     "output_type": "execute_result"
    }
   ],
   "source": [
    "display.YouTubeVideo(\"H6dLGQw9yFQ\")"
   ]
  },
  {
   "cell_type": "code",
   "execution_count": 40,
   "metadata": {
    "collapsed": false
   },
   "outputs": [
    {
     "data": {
      "text/latex": [
       "$\\lim_{x \\to 0} (1+x)^{1/x} = e$"
      ],
      "text/plain": [
       "<IPython.core.display.Latex object>"
      ]
     },
     "execution_count": 40,
     "metadata": {},
     "output_type": "execute_result"
    }
   ],
   "source": [
    "display.Latex(r\"$\\lim_{x \\to 0} (1+x)^{1/x} = e$\")"
   ]
  },
  {
   "cell_type": "markdown",
   "metadata": {
    "collapsed": true
   },
   "source": [
    "## Inne\n",
    "\n",
    "* Nie krępuj się notować w swoim notatniku.\n",
    "* W notatnikach będą ćwiczenia. Ćwiczenia z gwiazdką (★) są dodatkowe: możesz robić je ale nie musisz."
   ]
  }
 ],
 "metadata": {
  "anaconda-cloud": {},
  "kernelspec": {
   "display_name": "Python [default]",
   "language": "python",
   "name": "python2"
  },
  "language_info": {
   "codemirror_mode": {
    "name": "ipython",
    "version": 2
   },
   "file_extension": ".py",
   "mimetype": "text/x-python",
   "name": "python",
   "nbconvert_exporter": "python",
   "pygments_lexer": "ipython2",
   "version": "2.7.12"
  }
 },
 "nbformat": 4,
 "nbformat_minor": 0
}
