{
 "cells": [
  {
   "cell_type": "markdown",
   "metadata": {},
   "source": [
    "![](imgs/logo.png)\n",
    "\n",
    "# Przetwarzanie Big Data z użyciem Apache Spark\n",
    "\n",
    "Autor notebooka: Jakub Nowacki.\n",
    "\n",
    "## MapReduce"
   ]
  },
  {
   "cell_type": "markdown",
   "metadata": {},
   "source": [
    "### Map, reduce (i filter) in Python\n",
    "\n",
    "Nazwa **MapReduce** pochodzi od funkcji *map* i *reduce*.  \n",
    "\n",
    "*Map* i *reduce* (czasami nazywany *fold*) są typowe dla *programowania funkcyjnego*. "
   ]
  },
  {
   "cell_type": "code",
   "execution_count": 2,
   "metadata": {
    "collapsed": true
   },
   "outputs": [],
   "source": [
    "# Typowa definicja funkcji w Python\n",
    "def squared(x):\n",
    "    return x**2"
   ]
  },
  {
   "cell_type": "code",
   "execution_count": 3,
   "metadata": {
    "collapsed": false
   },
   "outputs": [
    {
     "data": {
      "text/plain": [
       "<function __main__.squared>"
      ]
     },
     "execution_count": 3,
     "metadata": {},
     "output_type": "execute_result"
    }
   ],
   "source": [
    "squared"
   ]
  },
  {
   "cell_type": "code",
   "execution_count": 4,
   "metadata": {
    "collapsed": false
   },
   "outputs": [
    {
     "data": {
      "text/plain": [
       "144"
      ]
     },
     "execution_count": 4,
     "metadata": {},
     "output_type": "execute_result"
    }
   ],
   "source": [
    "squared(12)"
   ]
  },
  {
   "cell_type": "code",
   "execution_count": 5,
   "metadata": {
    "collapsed": false
   },
   "outputs": [
    {
     "data": {
      "text/plain": [
       "<function __main__.<lambda>>"
      ]
     },
     "execution_count": 5,
     "metadata": {},
     "output_type": "execute_result"
    }
   ],
   "source": [
    "# funkcja anonimowa zwana też lambda\n",
    "lambda x: x**2"
   ]
  },
  {
   "cell_type": "code",
   "execution_count": 6,
   "metadata": {
    "collapsed": true
   },
   "outputs": [],
   "source": [
    "# Referencje do lambdy można przypisać do zmiennej\n",
    "squared_bis = lambda x: x**2"
   ]
  },
  {
   "cell_type": "code",
   "execution_count": 7,
   "metadata": {
    "collapsed": false
   },
   "outputs": [
    {
     "data": {
      "text/plain": [
       "144"
      ]
     },
     "execution_count": 7,
     "metadata": {},
     "output_type": "execute_result"
    }
   ],
   "source": [
    "squared_bis(12)"
   ]
  },
  {
   "cell_type": "code",
   "execution_count": 8,
   "metadata": {
    "collapsed": false
   },
   "outputs": [
    {
     "data": {
      "text/plain": [
       "[1, 4, 9, 16, 25]"
      ]
     },
     "execution_count": 8,
     "metadata": {},
     "output_type": "execute_result"
    }
   ],
   "source": [
    "# map - wykonaj funkcje na wszystkich elementach kolekcji (iterable)\n",
    "# map(function, iterable)\n",
    "map(squared, [1, 2, 3, 4, 5])"
   ]
  },
  {
   "cell_type": "code",
   "execution_count": 9,
   "metadata": {
    "collapsed": false
   },
   "outputs": [
    {
     "data": {
      "text/plain": [
       "[1, 4, 9, 16, 25]"
      ]
     },
     "execution_count": 9,
     "metadata": {},
     "output_type": "execute_result"
    }
   ],
   "source": [
    "# map w Python 3 zwraca iterator; żeby otrzymać listę trzeba wykonać poniższe\n",
    "list(map(squared, [1, 2, 3, 4, 5]))"
   ]
  },
  {
   "cell_type": "code",
   "execution_count": null,
   "metadata": {
    "collapsed": false
   },
   "outputs": [],
   "source": [
    "# W Python 3 reduce przesunięte zostało do functools\n",
    "#from functools import reduce \n",
    "\n",
    "# reduce - redukuje kolekcje do jednego elementu za pomocą funkcji (np. suma, )\n",
    "# reduce(function, iterable, accumulator=0)\n",
    "reduce(lambda x, y: x + y, [1, 2, 3, 4, 5])"
   ]
  },
  {
   "cell_type": "code",
   "execution_count": null,
   "metadata": {
    "collapsed": false
   },
   "outputs": [],
   "source": [
    "# filter - filtruje kolekcje używając funkcji filtrującej zwracającej wartość boolowską\n",
    "# filter(function, iterable)\n",
    "filter(lambda x: x % 2 == 1, [1, 2, 3, 4, 5])"
   ]
  },
  {
   "cell_type": "code",
   "execution_count": null,
   "metadata": {
    "collapsed": false
   },
   "outputs": [],
   "source": [
    "# Podobnie, w Python 3 dostajemy iterator; należy użyć listy aby otrzymać kolekcję\n",
    "list(filter(lambda x: x % 2 == 1, [1, 2, 3, 4, 5]))"
   ]
  },
  {
   "cell_type": "markdown",
   "metadata": {},
   "source": [
    "### Zadania\n",
    "\n",
    "Używająć `map`, `filter` i `reduce`, otrzymaj:\n",
    "\n",
    "* Iloczyn `[1, 2, 3, 4, 5]`.\n",
    "* Długość każdego słowa w liście `[\"Python\", \"Spark\", \"Big\", \"Data\", \"ML\", \"scikit-learn\"]`.\n",
    "* (★) Sumę wszystkich liter w słowach z powyższej listy nie zawierających litery `\"i\"`."
   ]
  },
  {
   "cell_type": "code",
   "execution_count": null,
   "metadata": {
    "collapsed": true
   },
   "outputs": [],
   "source": [
    "# Przy okazji\n",
    "x = range(1000000)"
   ]
  },
  {
   "cell_type": "code",
   "execution_count": null,
   "metadata": {
    "collapsed": false
   },
   "outputs": [],
   "source": [
    "%%timeit\n",
    "y = filter(lambda x: x % 2 == 1, x)"
   ]
  },
  {
   "cell_type": "code",
   "execution_count": null,
   "metadata": {
    "collapsed": false
   },
   "outputs": [],
   "source": [
    "%%timeit\n",
    "y = [each for each in x if each % 2 == 1]"
   ]
  },
  {
   "cell_type": "markdown",
   "metadata": {},
   "source": [
    "## MapReduce in Hadoop\n",
    "\n",
    "W Hadoop MapReduce realizowane jest z użyciem par klucz-wartość. Zobacz poniższy przykład:\n",
    "![](imgs/MapReduce_example.png)"
   ]
  },
  {
   "cell_type": "code",
   "execution_count": null,
   "metadata": {
    "collapsed": false
   },
   "outputs": [],
   "source": [
    "import sys\n",
    "from StringIO import StringIO\n",
    "# Python 3\n",
    "#from io import StringIO\n",
    "import contextlib\n",
    "\n",
    "# Funkcja pomocnicza przechwytująca strumień wyjściowy\n",
    "@contextlib.contextmanager\n",
    "def stdoutIO(stdout=None):\n",
    "    old = sys.stdout\n",
    "    if stdout is None:\n",
    "        stdout = StringIO()\n",
    "    sys.stdout = stdout\n",
    "    yield stdout\n",
    "    sys.stdout = old\n",
    "\n",
    "# Linie wejściowe do przetworzenia\n",
    "lines = ['123199901', '567200806', '645200811', '989199933', '452199904', '224200822']\n",
    "\n",
    "# Mapper wyciągający rok i liczbę\n",
    "def mapper(lines):\n",
    "    for line in lines:\n",
    "        key = int(line[3:7])\n",
    "        value = int(line[7:])\n",
    "        print(\"{0}<>{1}\".format(key, value))\n",
    "\n",
    "# Reducer liczący sumę\n",
    "def reducer(lines):\n",
    "    lastKey = None\n",
    "    reduce_sum = 0\n",
    "    for line in lines: \n",
    "        key, value = line.split(\"<>\")\n",
    "        if lastKey is None:\n",
    "            lastKey = key\n",
    "        if key != lastKey:\n",
    "            print(\"{0},{1}\".format(lastKey, reduce_sum))\n",
    "            reduce_sum = 0\n",
    "\n",
    "        reduce_sum += int(value)\n",
    "        lastKey = key\n",
    "    print(\"{0},{1}\".format(lastKey, reduce_sum))\n",
    "    \n",
    "# Przebieg MapReduce \n",
    "# Input\n",
    "print(\"Input: {}\".format(lines))\n",
    "# Map\n",
    "with stdoutIO() as mapper_out:\n",
    "    mapper(lines)\n",
    "shuffled = mapper_out.getvalue().strip().split('\\n')\n",
    "print(\"Mapper out: {}\".format(shuffled))\n",
    "# Shuffle\n",
    "shuffled.sort()\n",
    "print(\"Shuffeled mapper out: {}\".format(shuffled))\n",
    "# Reduce\n",
    "with stdoutIO() as reducer_out:\n",
    "    reducer(shuffled)\n",
    "# Output\n",
    "output = reducer_out.getvalue().strip().split('\\n')\n",
    "print(\"Output: {}\".format(output))"
   ]
  },
  {
   "cell_type": "markdown",
   "metadata": {},
   "source": [
    "\n",
    "\n",
    "## Podstawy Spark"
   ]
  },
  {
   "cell_type": "code",
   "execution_count": null,
   "metadata": {
    "collapsed": true
   },
   "outputs": [],
   "source": [
    "import pyspark"
   ]
  },
  {
   "cell_type": "code",
   "execution_count": null,
   "metadata": {
    "collapsed": false
   },
   "outputs": [],
   "source": [
    "sc = pyspark.SparkContext(appName=\"sparkMapReduce\")"
   ]
  },
  {
   "cell_type": "code",
   "execution_count": null,
   "metadata": {
    "collapsed": true
   },
   "outputs": [],
   "source": [
    "# RDD - Resilient Distributed Datasets, rozpraszanie danych w Spark\n",
    "rdd = sc.parallelize(range(10))"
   ]
  },
  {
   "cell_type": "code",
   "execution_count": null,
   "metadata": {
    "collapsed": false
   },
   "outputs": [],
   "source": [
    "# Obiekt a nie właściwe dane\n",
    "rdd"
   ]
  },
  {
   "cell_type": "code",
   "execution_count": null,
   "metadata": {
    "collapsed": false
   },
   "outputs": [],
   "source": [
    "# zwraca wszystkie elementy; należy używać z rozwagą\n",
    "rdd.collect()"
   ]
  },
  {
   "cell_type": "code",
   "execution_count": null,
   "metadata": {
    "collapsed": false
   },
   "outputs": [],
   "source": [
    "# zwraca liczbę elementów\n",
    "rdd.count()"
   ]
  },
  {
   "cell_type": "code",
   "execution_count": null,
   "metadata": {
    "collapsed": false
   },
   "outputs": [],
   "source": [
    "# zwraca pierwszy\n",
    "rdd.first()"
   ]
  },
  {
   "cell_type": "code",
   "execution_count": null,
   "metadata": {
    "collapsed": false
   },
   "outputs": [],
   "source": [
    "# zwraca 5 pierwszych elementów\n",
    "rdd.take(5)"
   ]
  },
  {
   "cell_type": "code",
   "execution_count": null,
   "metadata": {
    "collapsed": false
   },
   "outputs": [],
   "source": [
    "# zwraca 5 elementów z najwyższą wartością\n",
    "rdd.top(5)"
   ]
  },
  {
   "cell_type": "code",
   "execution_count": null,
   "metadata": {
    "collapsed": false
   },
   "outputs": [],
   "source": [
    "# bierze próbkę losową 3 elementów (bez zwracania próbek)\n",
    "rdd.takeSample(False, 3)"
   ]
  },
  {
   "cell_type": "code",
   "execution_count": null,
   "metadata": {
    "collapsed": false
   },
   "outputs": [],
   "source": [
    "# operacje można łączyć w łańcuch\n",
    "rdd.filter(lambda x: x % 2 == 0).collect()"
   ]
  },
  {
   "cell_type": "code",
   "execution_count": null,
   "metadata": {
    "collapsed": false
   },
   "outputs": [],
   "source": [
    "# suma wszystkich elementów\n",
    "rdd.reduce(lambda x, y: x + y)"
   ]
  },
  {
   "cell_type": "code",
   "execution_count": null,
   "metadata": {
    "collapsed": false
   },
   "outputs": [],
   "source": [
    "# alternatywnie możemy wykorzystać operator\n",
    "from operator import add\n",
    "rdd.reduce(add)"
   ]
  },
  {
   "cell_type": "code",
   "execution_count": null,
   "metadata": {
    "collapsed": true
   },
   "outputs": [],
   "source": [
    "# kolejny przykład z liczeniem słów\n",
    "animals = sc.parallelize([\"cat\", \"python\", \"cat\", \"snake\", \"snake\"])"
   ]
  },
  {
   "cell_type": "code",
   "execution_count": null,
   "metadata": {
    "collapsed": false
   },
   "outputs": [],
   "source": [
    "# mapa do pary klucz-wartość\n",
    "animal_kv = animals.map(lambda x: (x, 1))"
   ]
  },
  {
   "cell_type": "code",
   "execution_count": null,
   "metadata": {
    "collapsed": false
   },
   "outputs": [],
   "source": [
    "animal_kv.collect()"
   ]
  },
  {
   "cell_type": "code",
   "execution_count": null,
   "metadata": {
    "collapsed": false
   },
   "outputs": [],
   "source": [
    "# redukujemy parami wszystkie wartości dla danego klucza\n",
    "animal_kv \\\n",
    "  .reduceByKey(add)  \\\n",
    "  .collect()"
   ]
  },
  {
   "cell_type": "markdown",
   "metadata": {},
   "source": [
    "## Text processing\n",
    "\n",
    "Będziemy analizować [\"The Tragedy of Titus Andronicus\" by William Shakespeare](http://www.gutenberg.org/cache/epub/1106/pg1106.txt) z Project Gutenberg.\n",
    "\n",
    "Zbiór nie jest Big Data ale ilustruje koncepcję przetwarzania w Spark."
   ]
  },
  {
   "cell_type": "code",
   "execution_count": null,
   "metadata": {
    "collapsed": false
   },
   "outputs": [],
   "source": [
    "lines = sc.textFile(\"data/titus_andronicus.txt\")"
   ]
  },
  {
   "cell_type": "code",
   "execution_count": null,
   "metadata": {
    "collapsed": false
   },
   "outputs": [],
   "source": [
    "# liczba linii\n",
    "lines.count()"
   ]
  },
  {
   "cell_type": "code",
   "execution_count": null,
   "metadata": {
    "collapsed": false
   },
   "outputs": [],
   "source": [
    "lines.take(5)"
   ]
  },
  {
   "cell_type": "code",
   "execution_count": null,
   "metadata": {
    "collapsed": false
   },
   "outputs": [],
   "source": [
    "# zmieniamy linie w kolekcje słów\n",
    "words = lines.flatMap(lambda x: x.split())"
   ]
  },
  {
   "cell_type": "code",
   "execution_count": null,
   "metadata": {
    "collapsed": false
   },
   "outputs": [],
   "source": [
    "words.take(5)"
   ]
  },
  {
   "cell_type": "code",
   "execution_count": null,
   "metadata": {
    "collapsed": false
   },
   "outputs": [],
   "source": [
    "# liczba słów\n",
    "words.count()"
   ]
  },
  {
   "cell_type": "markdown",
   "metadata": {},
   "source": [
    "### Zadanie\n",
    "\n",
    "* Co się stanie jak użyjemy `map` zamiast `flatMap`?"
   ]
  },
  {
   "cell_type": "code",
   "execution_count": null,
   "metadata": {
    "collapsed": false
   },
   "outputs": [],
   "source": [
    "# Liczymy słowa tylko z pierwszą wielką literą\n",
    "capitalized = words \\\n",
    "  .filter(lambda x: x[0].isupper()) \\"
   ]
  },
  {
   "cell_type": "code",
   "execution_count": null,
   "metadata": {
    "collapsed": false
   },
   "outputs": [],
   "source": [
    "capitalized.take(5)"
   ]
  },
  {
   "cell_type": "code",
   "execution_count": null,
   "metadata": {
    "collapsed": false
   },
   "outputs": [],
   "source": [
    "capitalized.distinct().take(10)"
   ]
  },
  {
   "cell_type": "code",
   "execution_count": null,
   "metadata": {
    "collapsed": false
   },
   "outputs": [],
   "source": [
    "capitalized \\\n",
    "  .map(lambda x: (x, 1)) \\\n",
    "  .reduceByKey(add) \\\n",
    "  .top(10, lambda x: x[1])  # możemy wybrać wartość z pary klucz-wartość jako element sortujący"
   ]
  },
  {
   "cell_type": "markdown",
   "metadata": {},
   "source": [
    "### Zadania\n",
    "\n",
    "* Wypisz 5 linii zaczynających się od \"Titus\" lub \"Marcus\" (usuwając spacje jeżeli potrzeba).\n",
    "* Wypisz 20 najpopularniejszych słów z samymi WIELKIMI LITERAMI.\n",
    "* ★ Jaka jestczęstotliwość wyrazów w dziele?\n",
    "\n",
    "### (Python) hints"
   ]
  },
  {
   "cell_type": "code",
   "execution_count": null,
   "metadata": {
    "collapsed": false
   },
   "outputs": [],
   "source": [
    "\"  some string with whitespaces \\t  \".strip()"
   ]
  },
  {
   "cell_type": "code",
   "execution_count": null,
   "metadata": {
    "collapsed": false
   },
   "outputs": [],
   "source": [
    "\"Jake likes his dog.\".startswith(\"Anne\")"
   ]
  },
  {
   "cell_type": "code",
   "execution_count": null,
   "metadata": {
    "collapsed": false
   },
   "outputs": [],
   "source": [
    "\"Jake likes his dog.\".startswith(\"Jake\")"
   ]
  },
  {
   "cell_type": "code",
   "execution_count": null,
   "metadata": {
    "collapsed": false
   },
   "outputs": [],
   "source": [
    "\"Anne\" or \"Jake\"  # Nie rób: string.startswith(a or b)"
   ]
  },
  {
   "cell_type": "code",
   "execution_count": null,
   "metadata": {
    "collapsed": false
   },
   "outputs": [],
   "source": [
    "\"abc,-\".replace(\",\", \"\")"
   ]
  },
  {
   "cell_type": "code",
   "execution_count": null,
   "metadata": {
    "collapsed": false
   },
   "outputs": [],
   "source": [
    "\"abc,-\".replace(\",\", \"\").replace(\"-\", \"\")"
   ]
  },
  {
   "cell_type": "code",
   "execution_count": null,
   "metadata": {
    "collapsed": false
   },
   "outputs": [],
   "source": [
    "# Wyrażenia regularne w pythonie\n",
    "import re\n",
    "re.findall(\"[\\w]+\", \"Titus Andronicus Roman-legion\")"
   ]
  }
 ],
 "metadata": {
  "anaconda-cloud": {},
  "kernelspec": {
   "display_name": "Python [default]",
   "language": "python",
   "name": "python2"
  },
  "language_info": {
   "codemirror_mode": {
    "name": "ipython",
    "version": 2
   },
   "file_extension": ".py",
   "mimetype": "text/x-python",
   "name": "python",
   "nbconvert_exporter": "python",
   "pygments_lexer": "ipython2",
   "version": "2.7.12"
  }
 },
 "nbformat": 4,
 "nbformat_minor": 0
}
