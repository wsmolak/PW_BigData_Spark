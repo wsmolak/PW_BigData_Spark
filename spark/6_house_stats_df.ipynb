{
 "cells": [
  {
   "cell_type": "markdown",
   "metadata": {},
   "source": [
    "![](imgs/logo.png)\n",
    "\n",
    "# Przetwarzanie Big Data z użyciem Apache Spark\n",
    "\n",
    "Autor notebooka: Jakub Nowacki.\n",
    "\n",
    "\n",
    "## Spark SQL - statystyki z użyciem metod DataFrame \n",
    "\n",
    "W katalogu `data/` znajduje się plik `rollingsales_bronx.csv`.\n",
    "\n",
    "Poniżej analizujemy dane statystyczne domów: liczność, średnie powierzchnie, lata i ceny, grupując po dzielnicy i typie."
   ]
  },
  {
   "cell_type": "code",
   "execution_count": 1,
   "metadata": {
    "collapsed": false
   },
   "outputs": [],
   "source": [
    "import pyspark\n",
    "import pyspark.sql.functions as func\n",
    "import pyspark.sql.types as types\n",
    "sc = pyspark.SparkContext(appName='HouseStatsDF')\n",
    "sqlContext = pyspark.sql.SQLContext(sc)"
   ]
  },
  {
   "cell_type": "code",
   "execution_count": 2,
   "metadata": {
    "collapsed": false
   },
   "outputs": [],
   "source": [
    "import re\n",
    "\n",
    "# Użycie Row to jedna z metod tworzenia DataFrame z danych; nie wymaga dodatkowego schematu\n",
    "# zobacz dokumentację: http://spark.apache.org/docs/latest/api/python/pyspark.sql.html\n",
    "def from_csv(line):\n",
    "    # Stałe podane są tylko dla czytelności\n",
    "    HOOD_COLUMN = 1\n",
    "    TYPE_COLUMN = 2;\n",
    "    LAND_AREA_COLUMN = 14;\n",
    "    GROSS_AREA_COLUMN = 15;\n",
    "    YEAR_COLUMN = 16;\n",
    "    PRICE_COLUMN = 19;\n",
    "    # Dzielimy linię na kolumny i przypisujemy do kluczy w słowniku\n",
    "    c = line.split(',')\n",
    "    row = dict()\n",
    "    row['hood'] = c[HOOD_COLUMN];\n",
    "    row['type'] = c[TYPE_COLUMN];\n",
    "    row['landArea'] = int(re.sub(r'[^\\d]', '', c[LAND_AREA_COLUMN]));\n",
    "    row['grossArea'] = int(re.sub(r'[^\\d]', '', c[GROSS_AREA_COLUMN]));\n",
    "    row['year'] = int(re.sub(r'[^\\d]', '', c[YEAR_COLUMN]));\n",
    "    row['price'] = int(re.sub(r'[^\\d]', '', c[PRICE_COLUMN]));\n",
    "    # Zwracamy obiekt Row\n",
    "    return pyspark.Row(**row)"
   ]
  },
  {
   "cell_type": "code",
   "execution_count": 3,
   "metadata": {
    "collapsed": false
   },
   "outputs": [
    {
     "name": "stdout",
     "output_type": "stream",
     "text": [
      "root\n",
      " |-- grossArea: long (nullable = true)\n",
      " |-- hood: string (nullable = true)\n",
      " |-- landArea: long (nullable = true)\n",
      " |-- price: long (nullable = true)\n",
      " |-- type: string (nullable = true)\n",
      " |-- year: long (nullable = true)\n",
      "\n",
      "+---------+--------------------+--------+------+--------------------+----+\n",
      "|grossArea|                hood|landArea| price|                type|year|\n",
      "+---------+--------------------+--------+------+--------------------+----+\n",
      "|     2048|BATHGATE         ...|    1842|355000|01  ONE FAMILY HO...|1901|\n",
      "|     1290|BATHGATE         ...|    1103|474819|01  ONE FAMILY HO...|1910|\n",
      "|     1344|BATHGATE         ...|    1986|210000|01  ONE FAMILY HO...|1899|\n",
      "|     1431|BATHGATE         ...|    2329|343116|01  ONE FAMILY HO...|1901|\n",
      "|     4452|BATHGATE         ...|    1855|     0|02  TWO FAMILY HO...|1931|\n",
      "|     2400|BATHGATE         ...|    2000|316500|02  TWO FAMILY HO...|1993|\n",
      "|     2394|BATHGATE         ...|    2498|390000|02  TWO FAMILY HO...|1995|\n",
      "|     1542|BATHGATE         ...|    1542|207000|02  TWO FAMILY HO...|1899|\n",
      "|     2340|BATHGATE         ...|    1819|     0|02  TWO FAMILY HO...|1998|\n",
      "|     1296|BATHGATE         ...|    1667|369000|02  TWO FAMILY HO...|1910|\n",
      "|     5881|BATHGATE         ...|    5000|308000|02  TWO FAMILY HO...|1910|\n",
      "|     1512|BATHGATE         ...|    2483|     0|02  TWO FAMILY HO...|1901|\n",
      "|     3382|BATHGATE         ...|    1562|443776|02  TWO FAMILY HO...|2004|\n",
      "|     2655|BATHGATE         ...|     885|     0|02  TWO FAMILY HO...|1931|\n",
      "|     3854|BATHGATE         ...|    2022|     0|03  THREE FAMILY ...|1899|\n",
      "|     3290|BATHGATE         ...|    3525|440000|03  THREE FAMILY ...|1899|\n",
      "|     2916|BATHGATE         ...|    1216|662115|03  THREE FAMILY ...|2004|\n",
      "|     2280|BATHGATE         ...|    3742|     0|03  THREE FAMILY ...|1910|\n",
      "|     2640|BATHGATE         ...|    1505|460000|03  THREE FAMILY ...|1901|\n",
      "|     2640|BATHGATE         ...|    1505|190000|03  THREE FAMILY ...|1901|\n",
      "+---------+--------------------+--------+------+--------------------+----+\n",
      "only showing top 20 rows\n",
      "\n"
     ]
    }
   ],
   "source": [
    "# Używamy powyższą metodę generującą obiekty Row do przeczytania CSV linia po linii\n",
    "# Zauważ, że tworzymy zwykłe RDD\n",
    "sales_rdd = sc.textFile('data/rollingsales_bronx.csv').map(lambda line: from_csv(line))\n",
    "# Z RDD złożonego z obiektów Row możemy bezpośrednio stworzyć DataFrame bez dodatkowego schematu\n",
    "sales = sales_rdd.toDF()\n",
    "sales.printSchema()\n",
    "sales.show()"
   ]
  },
  {
   "cell_type": "code",
   "execution_count": 4,
   "metadata": {
    "collapsed": false
   },
   "outputs": [
    {
     "name": "stdout",
     "output_type": "stream",
     "text": [
      "+--------------------+--------------------+-----+------------------+------------------+------------------+\n",
      "|                hood|                type|count|       avgLandArea|           avgYear|          avgPrice|\n",
      "+--------------------+--------------------+-----+------------------+------------------+------------------+\n",
      "|BATHGATE         ...|01  ONE FAMILY HO...|    4|            1815.0|           1902.75|         345733.75|\n",
      "|BATHGATE         ...|02  TWO FAMILY HO...|   10|            2131.1|            1947.2|          203427.6|\n",
      "|BATHGATE         ...|03  THREE FAMILY ...|    6|            2252.5|            1919.0| 292019.1666666667|\n",
      "|BATHGATE         ...|05  TAX CLASS 1 V...|    1|            2099.0|               0.0|           40730.0|\n",
      "|BATHGATE         ...|07  RENTALS - WAL...|    6|3161.6666666666665|            1924.5| 424286.1666666667|\n",
      "|BATHGATE         ...|10  COOPS - ELEVA...|    1|               0.0|               0.0|               4.0|\n",
      "|BATHGATE         ...|14  RENTALS - 4-1...|    3|1798.3333333333333|            1931.0|               0.0|\n",
      "|BATHGATE         ...|22  STORE BUILDIN...|    3| 8805.666666666666|            1936.0|155384.66666666666|\n",
      "|BATHGATE         ...|27  FACTORIES    ...|    1|            1578.0|            1997.0|               0.0|\n",
      "|BATHGATE         ...|29  COMMERCIAL GA...|    7|  9901.57142857143| 1101.857142857143| 605714.2857142857|\n",
      "|BATHGATE         ...|30  WAREHOUSES   ...|    1|            9180.0|            1931.0|         9733979.0|\n",
      "|BATHGATE         ...|31  COMMERCIAL VA...|    4|           82420.0|               0.0|          909638.5|\n",
      "|BATHGATE         ...|41  TAX CLASS 4 -...|    4|            4827.0|           1457.75|          307500.0|\n",
      "|BAYCHESTER       ...|01  ONE FAMILY HO...|  106| 2707.622641509434|1941.8490566037735|175829.80188679244|\n",
      "|BAYCHESTER       ...|02  TWO FAMILY HO...|  119|2780.8487394957983|1961.0756302521008|214003.38655462186|\n",
      "|BAYCHESTER       ...|03  THREE FAMILY ...|   32|        2763.03125|         1978.8125|        244380.875|\n",
      "|BAYCHESTER       ...|04  TAX CLASS 1 C...|    4|               0.0|            2008.0|          282164.0|\n",
      "|BAYCHESTER       ...|05  TAX CLASS 1 V...|   10|            3322.1|             402.4|          134508.5|\n",
      "|BAYCHESTER       ...|06  TAX CLASS 1 -...|    4|           2360.25|            1800.0|            2500.0|\n",
      "|BAYCHESTER       ...|07  RENTALS - WAL...|    6| 8903.333333333334|1990.3333333333333| 83333.33333333333|\n",
      "+--------------------+--------------------+-----+------------------+------------------+------------------+\n",
      "only showing top 20 rows\n",
      "\n"
     ]
    }
   ],
   "source": [
    "a1 = sales.groupBy('hood', 'type') \\\n",
    "    .agg(func.count('type').alias('count'),\n",
    "         func.avg('landArea').alias('avgLandArea'),\n",
    "         func.avg('year').alias('avgYear'),\n",
    "         func.avg('price').alias('avgPrice')) \\\n",
    "    .orderBy('hood', 'type')\n",
    "a1.show()"
   ]
  },
  {
   "cell_type": "markdown",
   "metadata": {},
   "source": [
    "## Zadania\n",
    "\n",
    "* Popraw wyniki usuwając błędne dane.\n",
    "* Zastosuj odpowiednią prezentację dany w zależności od typu.\n",
    "* Policz średnie dla domów z XX w. tylko dla grup zawierających więcej niż 10 domów.\n",
    "* ★ Policz średnie tylko dla 10 najbogatszych dzielnic."
   ]
  },
  {
   "cell_type": "code",
   "execution_count": 25,
   "metadata": {
    "collapsed": false
   },
   "outputs": [
    {
     "name": "stdout",
     "output_type": "stream",
     "text": [
      "+--------------------+--------------------+-----+-----------+-------+---------+\n",
      "|                hood|                type|count|avgLandArea|avgYear| avgPrice|\n",
      "+--------------------+--------------------+-----+-----------+-------+---------+\n",
      "|BAYCHESTER       ...|03  THREE FAMILY ...|   17|    2522.65|   1975|460011.06|\n",
      "|BAYCHESTER       ...|02  TWO FAMILY HO...|   74|    2781.46|   1954|344140.58|\n",
      "|BAYCHESTER       ...|01  ONE FAMILY HO...|   77|    2854.49|   1941|242051.42|\n",
      "|SCHUYLERVILLE/PEL...|03  THREE FAMILY ...|   14|    3263.86|   1928|414714.29|\n",
      "|SCHUYLERVILLE/PEL...|02  TWO FAMILY HO...|   57|    3137.93|   1938|387447.02|\n",
      "|SCHUYLERVILLE/PEL...|01  ONE FAMILY HO...|   36|    2751.03|   1927|344840.61|\n",
      "+--------------------+--------------------+-----+-----------+-------+---------+\n",
      "\n"
     ]
    }
   ],
   "source": [
    "a1 = sales.where('landArea > 0 AND price > 0 AND year > 1500') \\\n",
    "    .where(sales.hood.like('%BAY%')) \\\n",
    "    .groupBy('hood', 'type') \\\n",
    "    .agg(func.count('type').alias('count'),\n",
    "         func.avg('landArea').cast(types.DecimalType(16,2)).alias('avgLandArea'),\n",
    "         func.avg('year').cast('integer').alias('avgYear'),\n",
    "         func.avg('price').cast(types.DecimalType(16,2)).alias('avgPrice')) \\\n",
    "    .where('count >10') \\\n",
    "    .orderBy('hood', func.col('type').desc())\n",
    "a1.show()"
   ]
  },
  {
   "cell_type": "code",
   "execution_count": null,
   "metadata": {
    "collapsed": true
   },
   "outputs": [],
   "source": []
  }
 ],
 "metadata": {
  "anaconda-cloud": {},
  "kernelspec": {
   "display_name": "Python [conda root]",
   "language": "python",
   "name": "conda-root-py"
  },
  "language_info": {
   "codemirror_mode": {
    "name": "ipython",
    "version": 2
   },
   "file_extension": ".py",
   "mimetype": "text/x-python",
   "name": "python",
   "nbconvert_exporter": "python",
   "pygments_lexer": "ipython2",
   "version": "2.7.12"
  }
 },
 "nbformat": 4,
 "nbformat_minor": 0
}
