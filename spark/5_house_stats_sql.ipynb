{
 "cells": [
  {
   "cell_type": "markdown",
   "metadata": {},
   "source": [
    "![](imgs/logo.png)\n",
    "\n",
    "# Przetwarzanie Big Data z użyciem Apache Spark\n",
    "\n",
    "Autor notebooka: Jakub Nowacki.\n",
    "\n",
    "\n",
    "## Spark SQL - statystyki z użyciem SQL \n",
    "\n",
    "W katalogu `data/` znajduje się plik `rollingsales_bronx.json`.\n",
    "\n",
    "Poniżej analizujemy dane statystyczne domów: liczność, średnie powierzchnie, lata i ceny, grupując po dzielnicy i typie."
   ]
  },
  {
   "cell_type": "code",
   "execution_count": 1,
   "metadata": {
    "collapsed": false
   },
   "outputs": [],
   "source": [
    "import pyspark\n",
    "import pyspark.sql.functions as func\n",
    "sc = pyspark.SparkContext(appName='HouseStatsSQL')\n",
    "sqlContext = pyspark.sql.SQLContext(sc)"
   ]
  },
  {
   "cell_type": "code",
   "execution_count": 6,
   "metadata": {
    "collapsed": false
   },
   "outputs": [
    {
     "name": "stdout",
     "output_type": "stream",
     "text": [
      "root\n",
      " |-- grossArea: long (nullable = true)\n",
      " |-- hood: string (nullable = true)\n",
      " |-- landArea: long (nullable = true)\n",
      " |-- price: long (nullable = true)\n",
      " |-- type: string (nullable = true)\n",
      " |-- year: long (nullable = true)\n",
      "\n",
      "+---------+--------------------+--------+------+--------------------+----+\n",
      "|grossArea|                hood|landArea| price|                type|year|\n",
      "+---------+--------------------+--------+------+--------------------+----+\n",
      "|     2048|BATHGATE         ...|    1842|355000|01  ONE FAMILY HO...|1901|\n",
      "|     1290|BATHGATE         ...|    1103|474819|01  ONE FAMILY HO...|1910|\n",
      "|     1344|BATHGATE         ...|    1986|210000|01  ONE FAMILY HO...|1899|\n",
      "|     1431|BATHGATE         ...|    2329|343116|01  ONE FAMILY HO...|1901|\n",
      "|     4452|BATHGATE         ...|    1855|     0|02  TWO FAMILY HO...|1931|\n",
      "|     2400|BATHGATE         ...|    2000|316500|02  TWO FAMILY HO...|1993|\n",
      "|     2394|BATHGATE         ...|    2498|390000|02  TWO FAMILY HO...|1995|\n",
      "|     1542|BATHGATE         ...|    1542|207000|02  TWO FAMILY HO...|1899|\n",
      "|     2340|BATHGATE         ...|    1819|     0|02  TWO FAMILY HO...|1998|\n",
      "|     1296|BATHGATE         ...|    1667|369000|02  TWO FAMILY HO...|1910|\n",
      "|     5881|BATHGATE         ...|    5000|308000|02  TWO FAMILY HO...|1910|\n",
      "|     1512|BATHGATE         ...|    2483|     0|02  TWO FAMILY HO...|1901|\n",
      "|     3382|BATHGATE         ...|    1562|443776|02  TWO FAMILY HO...|2004|\n",
      "|     2655|BATHGATE         ...|     885|     0|02  TWO FAMILY HO...|1931|\n",
      "|     3854|BATHGATE         ...|    2022|     0|03  THREE FAMILY ...|1899|\n",
      "|     3290|BATHGATE         ...|    3525|440000|03  THREE FAMILY ...|1899|\n",
      "|     2916|BATHGATE         ...|    1216|662115|03  THREE FAMILY ...|2004|\n",
      "|     2280|BATHGATE         ...|    3742|     0|03  THREE FAMILY ...|1910|\n",
      "|     2640|BATHGATE         ...|    1505|460000|03  THREE FAMILY ...|1901|\n",
      "|     2640|BATHGATE         ...|    1505|190000|03  THREE FAMILY ...|1901|\n",
      "+---------+--------------------+--------+------+--------------------+----+\n",
      "only showing top 20 rows\n",
      "\n"
     ]
    }
   ],
   "source": [
    "# Czytanie danych\n",
    "sales = sqlContext.read.json('data/rollingsales_bronx.json')\n",
    "# Nie zapomnij zarejestrować tabeli\n",
    "sales.registerTempTable('sales')\n",
    "sales.printSchema()\n",
    "sales.show()"
   ]
  },
  {
   "cell_type": "code",
   "execution_count": 7,
   "metadata": {
    "collapsed": false
   },
   "outputs": [
    {
     "name": "stdout",
     "output_type": "stream",
     "text": [
      "+--------------------+--------------------+-----+------------------+------------------+------------------+\n",
      "|                hood|                type|count|       avgLandArea|           avgYear|          avgPrice|\n",
      "+--------------------+--------------------+-----+------------------+------------------+------------------+\n",
      "|BATHGATE         ...|01  ONE FAMILY HO...|    4|            1815.0|           1902.75|         345733.75|\n",
      "|BATHGATE         ...|02  TWO FAMILY HO...|   10|            2131.1|            1947.2|          203427.6|\n",
      "|BATHGATE         ...|03  THREE FAMILY ...|    6|            2252.5|            1919.0| 292019.1666666667|\n",
      "|BATHGATE         ...|05  TAX CLASS 1 V...|    1|            2099.0|               0.0|           40730.0|\n",
      "|BATHGATE         ...|07  RENTALS - WAL...|    6|3161.6666666666665|            1924.5| 424286.1666666667|\n",
      "|BATHGATE         ...|10  COOPS - ELEVA...|    1|               0.0|               0.0|               4.0|\n",
      "|BATHGATE         ...|14  RENTALS - 4-1...|    3|1798.3333333333333|            1931.0|               0.0|\n",
      "|BATHGATE         ...|22  STORE BUILDIN...|    3| 8805.666666666666|            1936.0|155384.66666666666|\n",
      "|BATHGATE         ...|27  FACTORIES    ...|    1|            1578.0|            1997.0|               0.0|\n",
      "|BATHGATE         ...|29  COMMERCIAL GA...|    7|  9901.57142857143| 1101.857142857143| 605714.2857142857|\n",
      "|BATHGATE         ...|30  WAREHOUSES   ...|    1|            9180.0|            1931.0|         9733979.0|\n",
      "|BATHGATE         ...|31  COMMERCIAL VA...|    4|           82420.0|               0.0|          909638.5|\n",
      "|BATHGATE         ...|41  TAX CLASS 4 -...|    4|            4827.0|           1457.75|          307500.0|\n",
      "|BAYCHESTER       ...|01  ONE FAMILY HO...|  106| 2707.622641509434|1941.8490566037735|175829.80188679244|\n",
      "|BAYCHESTER       ...|02  TWO FAMILY HO...|  119|2780.8487394957983|1961.0756302521008|214003.38655462186|\n",
      "|BAYCHESTER       ...|03  THREE FAMILY ...|   32|        2763.03125|         1978.8125|        244380.875|\n",
      "|BAYCHESTER       ...|04  TAX CLASS 1 C...|    4|               0.0|            2008.0|          282164.0|\n",
      "|BAYCHESTER       ...|05  TAX CLASS 1 V...|   10|            3322.1|             402.4|          134508.5|\n",
      "|BAYCHESTER       ...|06  TAX CLASS 1 -...|    4|           2360.25|            1800.0|            2500.0|\n",
      "|BAYCHESTER       ...|07  RENTALS - WAL...|    6| 8903.333333333334|1990.3333333333333| 83333.33333333333|\n",
      "+--------------------+--------------------+-----+------------------+------------------+------------------+\n",
      "only showing top 20 rows\n",
      "\n"
     ]
    }
   ],
   "source": [
    "query = \"\"\"\n",
    "SELECT \n",
    "    hood,\n",
    "    type,\n",
    "    COUNT(*) as count,\n",
    "    AVG(landArea) as avgLandArea,\n",
    "    AVG(year) as avgYear,\n",
    "    AVG(price) as avgPrice\n",
    "FROM sales\n",
    "GROUP BY hood, type\n",
    "ORDER BY hood, type\n",
    "\"\"\"\n",
    "a1 = sqlContext.sql(query)\n",
    "a1.show()"
   ]
  },
  {
   "cell_type": "markdown",
   "metadata": {},
   "source": [
    "## Zadania\n",
    "\n",
    "* Popraw wyniki usuwając błędne dane.\n",
    "* Zastosuj odpowiednią prezentację dany w zależności od typu.\n",
    "* Policz średnie dla domów z XX w. tylko dla grup zawierających więcej niż 10 domów.\n",
    "* ★ Policz średnie tylko dla 10 najbogatszych dzielnic."
   ]
  },
  {
   "cell_type": "code",
   "execution_count": 19,
   "metadata": {
    "collapsed": false
   },
   "outputs": [
    {
     "name": "stdout",
     "output_type": "stream",
     "text": [
      "+--------------------+--------------------+-----+-----------+-------+----------+\n",
      "|                hood|                type|count|avgLandArea|avgYear|  avgPrice|\n",
      "+--------------------+--------------------+-----+-----------+-------+----------+\n",
      "|BAYCHESTER       ...|01  ONE FAMILY HO...|   76|    2852.88|   1940| 237717.00|\n",
      "|BAYCHESTER       ...|02  TWO FAMILY HO...|   67|    2795.90|   1948| 332438.84|\n",
      "|BAYCHESTER       ...|03  THREE FAMILY ...|   11|    2572.27|   1958| 408090.91|\n",
      "|BEDFORD PARK/NORW...|01  ONE FAMILY HO...|   11|    2839.09|   1909| 541681.82|\n",
      "|BEDFORD PARK/NORW...|02  TWO FAMILY HO...|   21|    2443.67|   1914| 354427.71|\n",
      "|BEDFORD PARK/NORW...|07  RENTALS - WAL...|   21|    8995.29|   1922|3907523.81|\n",
      "|BEDFORD PARK/NORW...|08  RENTALS - ELE...|   13|   10067.77|   1931|3668538.46|\n",
      "|BELMONT          ...|02  TWO FAMILY HO...|   18|    2724.94|   1915| 296362.00|\n",
      "|BRONXDALE        ...|01  ONE FAMILY HO...|   37|    2143.81|   1945| 239997.59|\n",
      "|BRONXDALE        ...|02  TWO FAMILY HO...|   41|    2486.93|   1940| 319214.80|\n",
      "|CASTLE HILL/UNION...|01  ONE FAMILY HO...|   13|    2494.31|   1949| 252455.38|\n",
      "|CASTLE HILL/UNION...|02  TWO FAMILY HO...|   42|    2632.10|   1945| 325260.14|\n",
      "|CITY ISLAND      ...|01  ONE FAMILY HO...|   20|    4183.00|   1932| 305786.00|\n",
      "|COUNTRY CLUB     ...|01  ONE FAMILY HO...|   40|    2809.85|   1942| 389514.10|\n",
      "|COUNTRY CLUB     ...|02  TWO FAMILY HO...|   25|    3502.40|   1942| 419281.40|\n",
      "|EAST TREMONT     ...|02  TWO FAMILY HO...|   11|    2321.36|   1921| 318790.91|\n",
      "|EAST TREMONT     ...|03  THREE FAMILY ...|   12|    2455.42|   1944| 314229.75|\n",
      "|FIELDSTON        ...|01  ONE FAMILY HO...|   12|   18210.33|   1922| 977499.17|\n",
      "|FORDHAM          ...|02  TWO FAMILY HO...|   11|    2231.55|   1918| 288136.36|\n",
      "|FORDHAM          ...|07  RENTALS - WAL...|   22|    6657.91|   1921|2315263.64|\n",
      "+--------------------+--------------------+-----+-----------+-------+----------+\n",
      "only showing top 20 rows\n",
      "\n"
     ]
    }
   ],
   "source": [
    "query = \"\"\"\n",
    "SELECT \n",
    "    hood,\n",
    "    type,\n",
    "    COUNT(*) as count,\n",
    "    CAST(AVG(landArea) AS DECIMAL(36,2)) as avgLandArea,\n",
    "    CAST(AVG(year) AS INT) as avgYear,\n",
    "    CAST(AVG(price) AS DECIMAL(36,2)) as avgPrice\n",
    "FROM sales\n",
    "WHERE \n",
    "    year > 1900 AND year < 2001 AND landArea <> 0 AND price <> 0\n",
    "GROUP BY hood, type\n",
    "HAVING (count > 10)\n",
    "ORDER BY hood, type\n",
    "\"\"\"\n",
    "a1 = sqlContext.sql(query)\n",
    "a1.show()"
   ]
  },
  {
   "cell_type": "code",
   "execution_count": 24,
   "metadata": {
    "collapsed": false
   },
   "outputs": [
    {
     "name": "stdout",
     "output_type": "stream",
     "text": [
      "+--------------------+----------+\n",
      "|                hood|  avgPrice|\n",
      "+--------------------+----------+\n",
      "|HIGHBRIDGE/MORRIS...|4667409.98|\n",
      "|MOUNT HOPE/MOUNT ...|3506842.44|\n",
      "|MOTT HAVEN/PORT M...|3322260.41|\n",
      "|PELHAM PARKWAY SO...|2442798.89|\n",
      "|CO-OP CITY       ...|2286666.67|\n",
      "|FORDHAM          ...|2062679.20|\n",
      "|BEDFORD PARK/NORW...|1879474.22|\n",
      "|MELROSE/CONCOURSE...|1730579.11|\n",
      "|KINGSBRIDGE/JEROM...|1569162.40|\n",
      "|FIELDSTON        ...|1538845.38|\n",
      "+--------------------+----------+\n",
      "\n"
     ]
    }
   ],
   "source": [
    "query = \"\"\" \n",
    "SELECT \n",
    "    hood,\n",
    "    CAST(AVG(price) AS DECIMAL(36,2)) as avgPrice\n",
    "FROM sales\n",
    "WHERE \n",
    "    year > 1900 AND year < 2001 AND landArea <> 0 AND price <> 0\n",
    "GROUP BY hood\n",
    "ORDER BY avgPrice desc\n",
    "LIMIT 10\n",
    "\"\"\"\n",
    "a1 = sqlContext.sql(query)\n",
    "a1.show()"
   ]
  },
  {
   "cell_type": "code",
   "execution_count": null,
   "metadata": {
    "collapsed": true
   },
   "outputs": [],
   "source": []
  }
 ],
 "metadata": {
  "anaconda-cloud": {},
  "kernelspec": {
   "display_name": "Python [conda root]",
   "language": "python",
   "name": "conda-root-py"
  },
  "language_info": {
   "codemirror_mode": {
    "name": "ipython",
    "version": 2
   },
   "file_extension": ".py",
   "mimetype": "text/x-python",
   "name": "python",
   "nbconvert_exporter": "python",
   "pygments_lexer": "ipython2",
   "version": "2.7.12"
  }
 },
 "nbformat": 4,
 "nbformat_minor": 0
}
