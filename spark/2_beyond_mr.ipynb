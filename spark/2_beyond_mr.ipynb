{
 "cells": [
  {
   "cell_type": "markdown",
   "metadata": {},
   "source": [
    "![](imgs/logo.png)\n",
    "\n",
    "# Przetwarzanie Big Data z użyciem Apache Spark\n",
    "\n",
    "Autor notebooka: Jakub Nowacki.\n",
    "\n",
    "## Więcej niż MapReduce"
   ]
  },
  {
   "cell_type": "code",
   "execution_count": 3,
   "metadata": {
    "collapsed": false
   },
   "outputs": [],
   "source": [
    "import pyspark\n",
    "sc = pyspark.SparkContext(appName=\"beyondMapReduce\")"
   ]
  },
  {
   "cell_type": "markdown",
   "metadata": {},
   "source": [
    "## Akumulatory\n",
    "\n",
    "Akumulatory to zmienne tylko do zapisu dla workerów, które służą do zliczania wystąpień."
   ]
  },
  {
   "cell_type": "code",
   "execution_count": 3,
   "metadata": {
    "collapsed": false
   },
   "outputs": [],
   "source": [
    "acc = sc.accumulator(0)"
   ]
  },
  {
   "cell_type": "code",
   "execution_count": 4,
   "metadata": {
    "collapsed": false
   },
   "outputs": [],
   "source": [
    "rdd = sc.textFile(\"data/titus_andronicus.txt\")"
   ]
  },
  {
   "cell_type": "code",
   "execution_count": 5,
   "metadata": {
    "collapsed": true
   },
   "outputs": [],
   "source": [
    "rdd.foreach(lambda x: acc.add(1))"
   ]
  },
  {
   "cell_type": "code",
   "execution_count": 6,
   "metadata": {
    "collapsed": false
   },
   "outputs": [
    {
     "data": {
      "text/plain": [
       "3255"
      ]
     },
     "execution_count": 6,
     "metadata": {},
     "output_type": "execute_result"
    }
   ],
   "source": [
    "# Wartość dostępna jest jako\n",
    "acc.value"
   ]
  },
  {
   "cell_type": "code",
   "execution_count": 7,
   "metadata": {
    "collapsed": true
   },
   "outputs": [],
   "source": [
    "# Akumulatory można opakowywać w funkję, jeżeli zachodzi taka potrzeba\n",
    "def function_with_acc(x):\n",
    "    acc.add(1)"
   ]
  },
  {
   "cell_type": "code",
   "execution_count": 8,
   "metadata": {
    "collapsed": true
   },
   "outputs": [],
   "source": [
    "rdd.foreach(function_with_acc)"
   ]
  },
  {
   "cell_type": "code",
   "execution_count": 9,
   "metadata": {
    "collapsed": false
   },
   "outputs": [
    {
     "data": {
      "text/plain": [
       "6510"
      ]
     },
     "execution_count": 9,
     "metadata": {},
     "output_type": "execute_result"
    }
   ],
   "source": [
    "acc.value"
   ]
  },
  {
   "cell_type": "code",
   "execution_count": 10,
   "metadata": {
    "collapsed": true
   },
   "outputs": [],
   "source": [
    "# Zainicjujmy kolejny akumulator\n",
    "acc2 = sc.accumulator(0)"
   ]
  },
  {
   "cell_type": "code",
   "execution_count": 14,
   "metadata": {
    "collapsed": true
   },
   "outputs": [],
   "source": [
    "# ... i związaną funkcję\n",
    "def split_and_countspaces(x):\n",
    "    acc2.add(x.count(\" \"))\n",
    "    return x.split()"
   ]
  },
  {
   "cell_type": "code",
   "execution_count": 15,
   "metadata": {
    "collapsed": true
   },
   "outputs": [],
   "source": [
    "words = rdd.flatMap(split_and_countspaces)"
   ]
  },
  {
   "cell_type": "markdown",
   "metadata": {},
   "source": [
    "### Exercise \n",
    "\n",
    "* Jaka jest wartość `acc2`?\n",
    "* Pobierz 15 wyrazów: jaka jest teraz wartość `acc2`?\n",
    "* Pobierz jeszcze raz i sprawdź wartość.\n",
    "* Użyj `words.cache()`, pobierz 15 wyrazów i sprawdź `acc2.value`.\n",
    "* Weż pierwsze 15 wyrazów i sprawdź `acc2.value`."
   ]
  },
  {
   "cell_type": "markdown",
   "metadata": {},
   "source": [
    "## Broadcasts\n",
    "\n",
    "Zmienne tylko do odczytu pozwalające przekazywać argumenty do zadań. "
   ]
  },
  {
   "cell_type": "code",
   "execution_count": 21,
   "metadata": {
    "collapsed": true
   },
   "outputs": [],
   "source": [
    "# Zmiennych tych używa się do przekazywania argumentów; wartości te mogą być dość duże\n",
    "br = sc.broadcast([\"Marcus\", \"Titus\", \"hate\", \"die\"])"
   ]
  },
  {
   "cell_type": "code",
   "execution_count": 22,
   "metadata": {
    "collapsed": false
   },
   "outputs": [
    {
     "data": {
      "text/plain": [
       "['Marcus', 'Titus', 'hate', 'die']"
      ]
     },
     "execution_count": 22,
     "metadata": {},
     "output_type": "execute_result"
    }
   ],
   "source": [
    "br.value"
   ]
  },
  {
   "cell_type": "code",
   "execution_count": 23,
   "metadata": {
    "collapsed": true
   },
   "outputs": [],
   "source": [
    "def line_of_love(line):\n",
    "    t = 0\n",
    "    for word in br.value:\n",
    "        if word in line:\n",
    "            t += 1\n",
    "    return t > 1"
   ]
  },
  {
   "cell_type": "code",
   "execution_count": 24,
   "metadata": {
    "collapsed": false
   },
   "outputs": [
    {
     "data": {
      "text/plain": [
       "[u'    Let Marcus, Lucius, or thyself, old Titus,',\n",
       " u\"  TITUS. Marcus, my brother! 'Tis sad Titus calls.\"]"
      ]
     },
     "execution_count": 24,
     "metadata": {},
     "output_type": "execute_result"
    }
   ],
   "source": [
    "rdd.filter(line_of_love).take(5)"
   ]
  },
  {
   "cell_type": "code",
   "execution_count": 25,
   "metadata": {
    "collapsed": false
   },
   "outputs": [
    {
     "data": {
      "text/plain": [
       "[u'    Let Marcus, Lucius, or thyself, old Titus,',\n",
       " u\"  TITUS. Marcus, my brother! 'Tis sad Titus calls.\"]"
      ]
     },
     "execution_count": 25,
     "metadata": {},
     "output_type": "execute_result"
    }
   ],
   "source": [
    "rdd.filter(line_of_love).takeSample(False, 5)"
   ]
  },
  {
   "cell_type": "markdown",
   "metadata": {},
   "source": [
    "## Operacje na zbiorach"
   ]
  },
  {
   "cell_type": "code",
   "execution_count": null,
   "metadata": {
    "collapsed": true
   },
   "outputs": [],
   "source": [
    "rdd1 = sc.parallelize([\"cat\", \"dog\", \"python\"])\n",
    "rdd2 = sc.parallelize([\"magpie\", \"python\", \"elephant\"])"
   ]
  },
  {
   "cell_type": "code",
   "execution_count": null,
   "metadata": {
    "collapsed": false
   },
   "outputs": [],
   "source": [
    "# Konkatenacja a nie suma zbiorów\n",
    "rdd1.union(rdd2).collect()"
   ]
  },
  {
   "cell_type": "markdown",
   "metadata": {},
   "source": [
    "### Zadanie\n",
    "\n",
    "* Żeby otrzymać prawdziwą sumę zbiorów z `union` użyj `.distinct()`."
   ]
  },
  {
   "cell_type": "code",
   "execution_count": null,
   "metadata": {
    "collapsed": false
   },
   "outputs": [],
   "source": [
    "# Część wspólna zbiorów\n",
    "rdd1.intersection(rdd2).collect()"
   ]
  },
  {
   "cell_type": "markdown",
   "metadata": {},
   "source": [
    "## Złączenie zbiorów\n",
    "\n",
    "Łączenie zbiorów (join) działa podobnie jak w SQL ale odbywa się na parze klucz wartość w formie `(key, value)`."
   ]
  },
  {
   "cell_type": "code",
   "execution_count": 3,
   "metadata": {
    "collapsed": false
   },
   "outputs": [],
   "source": [
    "species = sc.parallelize([(\"Max\", \"dog\"), (\"Sasha\", \"cat\"), (\"Alice\", \"snake\")])\n",
    "ages = sc.parallelize([(\"Alice\", 3), (\"Max\", 11), (\"Ulrich\", 2), (\"Karl\", 31)])"
   ]
  },
  {
   "cell_type": "code",
   "execution_count": 8,
   "metadata": {
    "collapsed": false
   },
   "outputs": [
    {
     "data": {
      "text/plain": [
       "['snake', 'dog']"
      ]
     },
     "execution_count": 8,
     "metadata": {},
     "output_type": "execute_result"
    }
   ],
   "source": [
    "# inner join\n",
    "#species.join(ages) \\\n",
    "#  .collect()\n",
    "    \n",
    "species.join(ages).map(lambda v: v[1][0]).distinct().collect()"
   ]
  },
  {
   "cell_type": "markdown",
   "metadata": {},
   "source": [
    "### Zadanie\n",
    "\n",
    "* Wypisz zbiór wierząt ze znanym wiekiem."
   ]
  },
  {
   "cell_type": "code",
   "execution_count": null,
   "metadata": {
    "collapsed": false
   },
   "outputs": [],
   "source": [
    "# Podpowiedź\n",
    "z = (\"a\", (\"b\", \"c\"))\n",
    "print(z[1])\n",
    "print(z[1][0])"
   ]
  },
  {
   "cell_type": "code",
   "execution_count": null,
   "metadata": {
    "collapsed": false
   },
   "outputs": [],
   "source": [
    "# left outer join\n",
    "species.leftOuterJoin(ages) \\\n",
    "  .collect()"
   ]
  },
  {
   "cell_type": "code",
   "execution_count": null,
   "metadata": {
    "collapsed": false
   },
   "outputs": [],
   "source": [
    "# right outer join\n",
    "species.rightOuterJoin(ages) \\\n",
    "  .collect()"
   ]
  },
  {
   "cell_type": "code",
   "execution_count": null,
   "metadata": {
    "collapsed": false
   },
   "outputs": [],
   "source": [
    "# full outer join\n",
    "species.fullOuterJoin(ages) \\\n",
    "  .collect()"
   ]
  },
  {
   "cell_type": "code",
   "execution_count": null,
   "metadata": {
    "collapsed": false
   },
   "outputs": [],
   "source": [
    "# iloczyn kartezjański\n",
    "species.cartesian(ages) \\\n",
    "  .collect()"
   ]
  },
  {
   "cell_type": "markdown",
   "metadata": {},
   "source": [
    "### Zadanie\n",
    "\n",
    "* ★ Zamień produkt kartezjański w wewnętrzne złączenie (inner join).\n",
    "* ★ Wypisz wszystkie możliwe pary zwierząt, np. `[(\"Max\", \"Alice\"), ... (\"Ulrich\", \"Karl\")]`."
   ]
  },
  {
   "cell_type": "markdown",
   "metadata": {},
   "source": [
    "## Grupowanie (po kluczu)"
   ]
  },
  {
   "cell_type": "code",
   "execution_count": 4,
   "metadata": {
    "collapsed": false
   },
   "outputs": [],
   "source": [
    "cities = sc.parallelize([\"Paris, France\", \"Lyon, France\", \"Warsaw, Poland\", \"London, United Kingdom\"])"
   ]
  },
  {
   "cell_type": "code",
   "execution_count": 5,
   "metadata": {
    "collapsed": false
   },
   "outputs": [
    {
     "data": {
      "text/plain": [
       "[('United Kingdom', ['London, United Kingdom']),\n",
       " ('Poland', ['Warsaw, Poland']),\n",
       " ('France', ['Paris, France', 'Lyon, France'])]"
      ]
     },
     "execution_count": 5,
     "metadata": {},
     "output_type": "execute_result"
    }
   ],
   "source": [
    "cities \\\n",
    "  .groupBy(lambda x: x.split(\", \")[1]) \\\n",
    "  .map(lambda x: (x[0], list(x[1]))) \\\n",
    "  .collect()"
   ]
  },
  {
   "cell_type": "markdown",
   "metadata": {},
   "source": [
    "### Zadanie\n",
    "\n",
    "* Zamiast `.map(lambda x: (x[0], list(x[1])))` użyj `.mapValues(some_function)`. "
   ]
  },
  {
   "cell_type": "code",
   "execution_count": 6,
   "metadata": {
    "collapsed": false
   },
   "outputs": [
    {
     "data": {
      "text/plain": [
       "[('a', 9), ('b', 4)]"
      ]
     },
     "execution_count": 6,
     "metadata": {},
     "output_type": "execute_result"
    }
   ],
   "source": [
    "# Podpowiedź\n",
    "sc.parallelize([(\"a\", 3), (\"b\", -2)]) \\\n",
    "  .mapValues(lambda x: x*x) \\\n",
    "  .collect()"
   ]
  },
  {
   "cell_type": "markdown",
   "metadata": {},
   "source": [
    "### Więcej zadań\n",
    "\n",
    "Wracamy do Titus Andronicus:\n",
    "\n",
    "* Wyczyść dane przez usuniecie niechcianych znaków\n",
    "* Policz i wyświetl 20 najczęstrzych:\n",
    "    * słów zaczynających się zawsze wielką literą,\n",
    "    * słów nigdy nie zaczynających się od wielkiej litery.\n",
    "* Policz częstotliwość (i.e. $p_{word}=n_{word}/n$ wszystkich słów (ignorując wielkość liter).\n",
    "* Pobierz słownik z [tej strony](http://www.math.sjsu.edu/~foster/dictionary.txt); policz ile słów ze słownika występuje w dziele (słownik ma tylko wyrazy o małych literach).\n",
    "* ★ Pobierz dzieło nie napisane przez Shakespeare [Gutenberg Project](http://www.gutenberg.org/); znajdź słowa charakterystyczne dla Shakespeare'a, tj. które nie występują w innym dziele.\n",
    "* ★ Dla wszystkich słów w lini policz\n",
    "\n",
    "$$\\frac{p_{pair}}{p_{word1}p_{word2}} = \\frac{n_{pair} n}{n_{word1}n_{word2}},$$\n",
    "\n",
    "tylko dla par występujących więcej niż 5 razy; pokaż 20 najwyższych wartości."
   ]
  },
  {
   "cell_type": "code",
   "execution_count": 7,
   "metadata": {
    "collapsed": true
   },
   "outputs": [],
   "source": [
    "lines = sc.textFile(\"data/titus_andronicus.txt\")"
   ]
  },
  {
   "cell_type": "code",
   "execution_count": 17,
   "metadata": {
    "collapsed": true
   },
   "outputs": [],
   "source": [
    "import re\n",
    "words = lines.flatMap(lambda l: re.findall('[\\w]+', l)) \\\n",
    "            .map(lambda w: (w, 1))"
   ]
  },
  {
   "cell_type": "code",
   "execution_count": 18,
   "metadata": {
    "collapsed": false
   },
   "outputs": [
    {
     "name": "stdout",
     "output_type": "stream",
     "text": [
      "(2) PythonRDD[42] at RDD at PythonRDD.scala:43 []\n",
      " |  data/titus_andronicus.txt MapPartitionsRDD[9] at textFile at NativeMethodAccessorImpl.java:-2 []\n",
      " |  data/titus_andronicus.txt HadoopRDD[8] at textFile at NativeMethodAccessorImpl.java:-2 []\n"
     ]
    },
    {
     "data": {
      "text/plain": [
       "[(u'This', 1),\n",
       " (u'Etext', 1),\n",
       " (u'file', 1),\n",
       " (u'is', 1),\n",
       " (u'presented', 1),\n",
       " (u'by', 1),\n",
       " (u'Project', 1),\n",
       " (u'Gutenberg', 1),\n",
       " (u'in', 1),\n",
       " (u'cooperation', 1)]"
      ]
     },
     "execution_count": 18,
     "metadata": {},
     "output_type": "execute_result"
    }
   ],
   "source": [
    "print(words.toDebugString())\n",
    "words.take(10)"
   ]
  },
  {
   "cell_type": "code",
   "execution_count": 21,
   "metadata": {
    "collapsed": false
   },
   "outputs": [
    {
     "data": {
      "text/plain": [
       "[(u'the', 633),\n",
       " (u'and', 568),\n",
       " (u'I', 442),\n",
       " (u'to', 427),\n",
       " (u'of', 352),\n",
       " (u'And', 308),\n",
       " (u'my', 273),\n",
       " (u'a', 270),\n",
       " (u'in', 267),\n",
       " (u'with', 257)]"
      ]
     },
     "execution_count": 21,
     "metadata": {},
     "output_type": "execute_result"
    }
   ],
   "source": [
    "count = words.reduceByKey(lambda x,y: x+y).sortByKey()\n",
    "count.top(10, lambda p: p[1])"
   ]
  },
  {
   "cell_type": "code",
   "execution_count": 43,
   "metadata": {
    "collapsed": false
   },
   "outputs": [
    {
     "name": "stdout",
     "output_type": "stream",
     "text": [
      "Set([])\n"
     ]
    }
   ],
   "source": [
    "from sets import Set\n",
    "#słów zaczynających się zawsze wielką literą,\n",
    "startUpper = count.filter(lambda p: p[0].istitle())\n",
    "#startUpper.top(20, lambda p: p[1])\n",
    "lowerSet = Set()\n",
    "count.filter(lambda p: p[0].islower()).foreach(lambda p: lowerSet.add(p[0]))\n",
    "print lowerSet\n",
    "#onlyStartUpper = startUpper.filter(lambda p: )"
   ]
  },
  {
   "cell_type": "code",
   "execution_count": 35,
   "metadata": {
    "collapsed": false
   },
   "outputs": [
    {
     "data": {
      "text/plain": [
       "[(u'the', 633),\n",
       " (u'and', 568),\n",
       " (u'to', 427),\n",
       " (u'of', 352),\n",
       " (u'my', 273),\n",
       " (u'a', 270),\n",
       " (u'in', 267),\n",
       " (u'with', 257),\n",
       " (u'd', 232),\n",
       " (u'you', 230),\n",
       " (u'that', 205),\n",
       " (u's', 197),\n",
       " (u'me', 195),\n",
       " (u'thy', 189),\n",
       " (u'this', 184),\n",
       " (u'for', 172),\n",
       " (u'not', 168),\n",
       " (u'is', 164),\n",
       " (u'thou', 157),\n",
       " (u'his', 156)]"
      ]
     },
     "execution_count": 35,
     "metadata": {},
     "output_type": "execute_result"
    }
   ],
   "source": [
    "#słów nigdy nie zaczynających się od wielkiej litery.\n",
    "out = count.filter(lambda p: p[0].islower())\n",
    "out.top(20, lambda p: p[1])"
   ]
  },
  {
   "cell_type": "code",
   "execution_count": null,
   "metadata": {
    "collapsed": true
   },
   "outputs": [],
   "source": []
  }
 ],
 "metadata": {
  "anaconda-cloud": {},
  "kernelspec": {
   "display_name": "Python [default]",
   "language": "python",
   "name": "python2"
  },
  "language_info": {
   "codemirror_mode": {
    "name": "ipython",
    "version": 2
   },
   "file_extension": ".py",
   "mimetype": "text/x-python",
   "name": "python",
   "nbconvert_exporter": "python",
   "pygments_lexer": "ipython2",
   "version": "2.7.12"
  }
 },
 "nbformat": 4,
 "nbformat_minor": 0
}
