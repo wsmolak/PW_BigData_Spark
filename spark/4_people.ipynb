{
 "cells": [
  {
   "cell_type": "markdown",
   "metadata": {},
   "source": [
    "![](imgs/logo.png)\n",
    "\n",
    "# Przetwarzanie Big Data z użyciem Apache Spark\n",
    "\n",
    "Autor notebooka: Jakub Nowacki.\n",
    "\n",
    "\n",
    "## Podstawy Spark SQL - People"
   ]
  },
  {
   "cell_type": "code",
   "execution_count": 1,
   "metadata": {
    "collapsed": false
   },
   "outputs": [],
   "source": [
    "import pyspark\n",
    "import pyspark.sql.functions as func\n",
    "sc = pyspark.SparkContext(appName='people')\n",
    "sqlContext = pyspark.sql.SQLContext(sc)"
   ]
  },
  {
   "cell_type": "code",
   "execution_count": 2,
   "metadata": {
    "collapsed": true
   },
   "outputs": [],
   "source": [
    "people = sqlContext.read.json('data/people.json')"
   ]
  },
  {
   "cell_type": "code",
   "execution_count": 3,
   "metadata": {
    "collapsed": false
   },
   "outputs": [
    {
     "name": "stdout",
     "output_type": "stream",
     "text": [
      "root\n",
      " |-- age: long (nullable = true)\n",
      " |-- children: long (nullable = true)\n",
      " |-- gender: string (nullable = true)\n",
      " |-- name: string (nullable = true)\n",
      " |-- surname: string (nullable = true)\n",
      "\n"
     ]
    }
   ],
   "source": [
    "people.printSchema()"
   ]
  },
  {
   "cell_type": "code",
   "execution_count": 4,
   "metadata": {
    "collapsed": false
   },
   "outputs": [
    {
     "name": "stdout",
     "output_type": "stream",
     "text": [
      "+---+--------+------+-----+-------+\n",
      "|age|children|gender| name|surname|\n",
      "+---+--------+------+-----+-------+\n",
      "| 25|       2|  male| John|    Doe|\n",
      "| 35|       0|  male| Mike|    Foo|\n",
      "| 65|       1|female|  Liz|    Bar|\n",
      "| 34|       3|female|Emily|    Doe|\n",
      "+---+--------+------+-----+-------+\n",
      "\n"
     ]
    }
   ],
   "source": [
    "people.show()"
   ]
  },
  {
   "cell_type": "markdown",
   "metadata": {},
   "source": [
    "## Używająć SQL\n",
    "\n",
    "Do zapytań na DataFrames możemy użyc standardowego SQLa, dla którego będą one traktowane jak tabele w bazie danych. Pamiętaj, że Spark wspiera składnię ANSI/ISO SQL, więc konstrukcje typowe dla poszczególnych baz danych mogę nie być dostępne."
   ]
  },
  {
   "cell_type": "code",
   "execution_count": 5,
   "metadata": {
    "collapsed": false
   },
   "outputs": [],
   "source": [
    "# Musisz najpierw zarejestrować tabelę zanim ją użyjesz w zapytaniu.\n",
    "# Pamiętaj, że alias może mieć dowolną nazwę; nie jest on zależny od nazwy zmiennej.\n",
    "people.registerTempTable('people')"
   ]
  },
  {
   "cell_type": "code",
   "execution_count": 7,
   "metadata": {
    "collapsed": false
   },
   "outputs": [
    {
     "name": "stdout",
     "output_type": "stream",
     "text": [
      "<class 'pyspark.sql.dataframe.DataFrame'>\n",
      "+---+--------+------+-----+-------+\n",
      "|age|children|gender| name|surname|\n",
      "+---+--------+------+-----+-------+\n",
      "| 25|       2|  male| John|    Doe|\n",
      "| 35|       0|  male| Mike|    Foo|\n",
      "| 34|       3|female|Emily|    Doe|\n",
      "+---+--------+------+-----+-------+\n",
      "\n"
     ]
    }
   ],
   "source": [
    "# Teraz możemy wykonywać zapytania\n",
    "r = sqlContext.sql('SELECT * FROM people where age < 36')\n",
    "# Wynikiem jest nowy DataFrame\n",
    "print(type(r))\n",
    "# Metoda show() drukuje przykład danych\n",
    "r.show()"
   ]
  },
  {
   "cell_type": "code",
   "execution_count": 8,
   "metadata": {
    "collapsed": false
   },
   "outputs": [
    {
     "name": "stdout",
     "output_type": "stream",
     "text": [
      "+-----+---+\n",
      "| name|age|\n",
      "+-----+---+\n",
      "| John| 25|\n",
      "| Mike| 35|\n",
      "|  Liz| 65|\n",
      "|Emily| 34|\n",
      "+-----+---+\n",
      "\n"
     ]
    }
   ],
   "source": [
    "sqlContext.sql('SELECT name, age FROM people').show()"
   ]
  },
  {
   "cell_type": "code",
   "execution_count": 9,
   "metadata": {
    "collapsed": false
   },
   "outputs": [
    {
     "name": "stdout",
     "output_type": "stream",
     "text": [
      "+---+--------+------+-----+-------+\n",
      "|age|children|gender| name|surname|\n",
      "+---+--------+------+-----+-------+\n",
      "| 35|       0|  male| Mike|    Foo|\n",
      "| 65|       1|female|  Liz|    Bar|\n",
      "| 34|       3|female|Emily|    Doe|\n",
      "+---+--------+------+-----+-------+\n",
      "\n"
     ]
    }
   ],
   "source": [
    "sqlContext.sql('SELECT * FROM people WHERE age > 30').show()"
   ]
  },
  {
   "cell_type": "code",
   "execution_count": 10,
   "metadata": {
    "collapsed": false
   },
   "outputs": [
    {
     "name": "stdout",
     "output_type": "stream",
     "text": [
      "+------+-----+-------+------------+\n",
      "|gender|count|avg_age|avg_children|\n",
      "+------+-----+-------+------------+\n",
      "|female|    2|   49.5|         2.0|\n",
      "|  male|    2|   30.0|         1.0|\n",
      "+------+-----+-------+------------+\n",
      "\n"
     ]
    }
   ],
   "source": [
    "# Możesz użyć docstring do dłuższych zapytań\n",
    "query = \"\"\"\n",
    "    SELECT \n",
    "        gender,\n",
    "        count(*) AS count, \n",
    "        avg(age) AS avg_age, \n",
    "        avg(children) AS avg_children \n",
    "    FROM people \n",
    "    GROUP BY gender\n",
    "\"\"\"\n",
    "sqlContext.sql(query).show()"
   ]
  },
  {
   "cell_type": "code",
   "execution_count": 11,
   "metadata": {
    "collapsed": false
   },
   "outputs": [
    {
     "name": "stdout",
     "output_type": "stream",
     "text": [
      "+----+-------+------+\n",
      "|name|surname|maxAge|\n",
      "+----+-------+------+\n",
      "|John|    Doe|    35|\n",
      "+----+-------+------+\n",
      "\n"
     ]
    }
   ],
   "source": [
    "# Czasami trzeba uważać, np. poniższe nie zadziała\n",
    "#sqlContext.sql(\"SELECT name, surname, max(age) as maxAge FROM people WHERE gender = 'male'\").show()\n",
    "# Ale to zadziała poprawnie\n",
    "sqlContext.sql(\"SELECT first(name) AS name, first(surname) AS surname, max(age) as maxAge FROM people WHERE gender = 'male'\").show()"
   ]
  },
  {
   "cell_type": "markdown",
   "metadata": {},
   "source": [
    "## Używanie metod DataFrame\n",
    "\n",
    "Alternatywnie do zapytań SQL, Spark DataFrame posiadają metody podobne do SQL do budowania zapytań. Zaletą w stosunku do SQL jest m.in. to, że większość błędów w zapytaniach wykrywana jest w czasie kompilacji. "
   ]
  },
  {
   "cell_type": "code",
   "execution_count": 15,
   "metadata": {
    "collapsed": false
   },
   "outputs": [
    {
     "name": "stdout",
     "output_type": "stream",
     "text": [
      "+-----+------+\n",
      "| name|gender|\n",
      "+-----+------+\n",
      "| John|  male|\n",
      "| Mike|  male|\n",
      "|  Liz|female|\n",
      "|Emily|female|\n",
      "+-----+------+\n",
      "\n"
     ]
    }
   ],
   "source": [
    "people.select('name', 'gender').show()"
   ]
  },
  {
   "cell_type": "code",
   "execution_count": 17,
   "metadata": {
    "collapsed": false
   },
   "outputs": [
    {
     "name": "stdout",
     "output_type": "stream",
     "text": [
      "+---+--------+------+-----+-------+\n",
      "|age|children|gender| name|surname|\n",
      "+---+--------+------+-----+-------+\n",
      "| 65|       1|female|  Liz|    Bar|\n",
      "| 34|       3|female|Emily|    Doe|\n",
      "+---+--------+------+-----+-------+\n",
      "\n"
     ]
    }
   ],
   "source": [
    "people.where(people.age > 30).where('children <> 0').show()"
   ]
  },
  {
   "cell_type": "code",
   "execution_count": 18,
   "metadata": {
    "collapsed": false
   },
   "outputs": [
    {
     "name": "stdout",
     "output_type": "stream",
     "text": [
      "+------+-------+------------+\n",
      "|gender|avg_age|max_children|\n",
      "+------+-------+------------+\n",
      "|female|   49.5|           3|\n",
      "|  male|   30.0|           2|\n",
      "+------+-------+------------+\n",
      "\n"
     ]
    }
   ],
   "source": [
    "people.groupBy('gender') \\\n",
    "    .agg(\n",
    "        func.avg('age').alias('avg_age'), \n",
    "        func.max('children').alias('max_children')\n",
    "    ).show()\n",
    "    \n"
   ]
  },
  {
   "cell_type": "code",
   "execution_count": 20,
   "metadata": {
    "collapsed": false
   },
   "outputs": [
    {
     "name": "stdout",
     "output_type": "stream",
     "text": [
      "+--------+-----+----+----+----+\n",
      "|children|Emily|John| Liz|Mike|\n",
      "+--------+-----+----+----+----+\n",
      "|       0| null|null|null|35.0|\n",
      "|       1| null|null|65.0|null|\n",
      "|       2| null|25.0|null|null|\n",
      "|       3| 34.0|null|null|null|\n",
      "+--------+-----+----+----+----+\n",
      "\n"
     ]
    }
   ],
   "source": [
    "people.groupBy('children').pivot('name').agg(func.avg('age')).show()"
   ]
  },
  {
   "cell_type": "code",
   "execution_count": 21,
   "metadata": {
    "collapsed": false
   },
   "outputs": [
    {
     "name": "stdout",
     "output_type": "stream",
     "text": [
      "+----+-------+------+\n",
      "|name|surname|maxAge|\n",
      "+----+-------+------+\n",
      "|John|    Doe|    35|\n",
      "+----+-------+------+\n",
      "\n"
     ]
    }
   ],
   "source": [
    "people.where(people.gender == 'male') \\\n",
    "    .select(\n",
    "        func.first('name').alias('name'), \n",
    "        func.first('surname').alias('surname'), \n",
    "        func.max('age').alias('maxAge')) \\\n",
    "    .show()"
   ]
  },
  {
   "cell_type": "code",
   "execution_count": 22,
   "metadata": {
    "collapsed": false
   },
   "outputs": [
    {
     "name": "stderr",
     "output_type": "stream",
     "text": [
      "/opt/anaconda2/lib/python2.7/site-packages/matplotlib/font_manager.py:273: UserWarning: Matplotlib is building the font cache using fc-list. This may take a moment.\n",
      "  warnings.warn('Matplotlib is building the font cache using fc-list. This may take a moment.')\n"
     ]
    },
    {
     "data": {
      "text/html": [
       "<div>\n",
       "<table border=\"1\" class=\"dataframe\">\n",
       "  <thead>\n",
       "    <tr style=\"text-align: right;\">\n",
       "      <th></th>\n",
       "      <th>avg_age</th>\n",
       "      <th>max_children</th>\n",
       "    </tr>\n",
       "    <tr>\n",
       "      <th>gender</th>\n",
       "      <th></th>\n",
       "      <th></th>\n",
       "    </tr>\n",
       "  </thead>\n",
       "  <tbody>\n",
       "    <tr>\n",
       "      <th>female</th>\n",
       "      <td>49.5</td>\n",
       "      <td>3</td>\n",
       "    </tr>\n",
       "    <tr>\n",
       "      <th>male</th>\n",
       "      <td>30.0</td>\n",
       "      <td>2</td>\n",
       "    </tr>\n",
       "  </tbody>\n",
       "</table>\n",
       "</div>"
      ],
      "text/plain": [
       "        avg_age  max_children\n",
       "gender                       \n",
       "female     49.5             3\n",
       "male       30.0             2"
      ]
     },
     "execution_count": 22,
     "metadata": {},
     "output_type": "execute_result"
    },
    {
     "data": {
      "image/png": "[encoded data removed]",
      "text/plain": [
       "<matplotlib.figure.Figure at 0x7f3967d01690>"
      ]
     },
     "metadata": {},
     "output_type": "display_data"
    }
   ],
   "source": [
    "import matplotlib\n",
    "%matplotlib inline\n",
    "\n",
    "# Można otrzymywać data frame Pandas bezpośrednio z DataFrames; pamiętaj jednak o rozmiarze danych...\n",
    "p = people.groupBy('gender').agg(func.avg('age').alias('avg_age'), func.max('children').alias('max_children')) \\\n",
    "        .toPandas().set_index('gender')\n",
    "p.plot(kind='bar', figsize=(14,10))\n",
    "p"
   ]
  },
  {
   "cell_type": "markdown",
   "metadata": {},
   "source": [
    "## Zadania\n",
    "\n",
    "Wypróbuj dostępne metody SQL i DataFrames. Sugestie:\n",
    "\n",
    "* zbadaj dostępne funkcje\n",
    "* spróbuj zapisać DataFrame\n",
    "* spróbuj przekształcić DataFrame do RDD (podpowiedź: RDD zawiera obiekty Row)"
   ]
  },
  {
   "cell_type": "code",
   "execution_count": 27,
   "metadata": {
    "collapsed": false
   },
   "outputs": [
    {
     "data": {
      "text/plain": [
       "1"
      ]
     },
     "execution_count": 27,
     "metadata": {},
     "output_type": "execute_result"
    }
   ],
   "source": [
    "rows = people.rdd.collect()\n",
    "rows[2]['age']\n"
   ]
  },
  {
   "cell_type": "code",
   "execution_count": 29,
   "metadata": {
    "collapsed": false
   },
   "outputs": [
    {
     "data": {
      "text/plain": [
       "1"
      ]
     },
     "execution_count": 29,
     "metadata": {},
     "output_type": "execute_result"
    }
   ],
   "source": [
    "rows[2].children"
   ]
  },
  {
   "cell_type": "code",
   "execution_count": 34,
   "metadata": {
    "collapsed": false
   },
   "outputs": [
    {
     "data": {
      "text/plain": [
       "{'age': 65,\n",
       " 'children': 1,\n",
       " 'gender': u'female',\n",
       " 'name': u'Liz',\n",
       " 'surname': u'Bar'}"
      ]
     },
     "execution_count": 34,
     "metadata": {},
     "output_type": "execute_result"
    }
   ],
   "source": [
    "d =rows[2].asDict()\n",
    "d"
   ]
  },
  {
   "cell_type": "code",
   "execution_count": 38,
   "metadata": {
    "collapsed": false
   },
   "outputs": [
    {
     "name": "stdout",
     "output_type": "stream",
     "text": [
      "(65, 1, u'female', u'Liz', u'Bar')\n"
     ]
    }
   ],
   "source": [
    "def fun2(age,children,gender,name,surname):\n",
    "    print(age,children,gender,name,surname)\n",
    "\n",
    "fun2(**d)\n",
    "    "
   ]
  },
  {
   "cell_type": "code",
   "execution_count": null,
   "metadata": {
    "collapsed": true
   },
   "outputs": [],
   "source": []
  },
  {
   "cell_type": "code",
   "execution_count": null,
   "metadata": {
    "collapsed": true
   },
   "outputs": [],
   "source": []
  }
 ],
 "metadata": {
  "anaconda-cloud": {},
  "kernelspec": {
   "display_name": "Python [conda root]",
   "language": "python",
   "name": "conda-root-py"
  },
  "language_info": {
   "codemirror_mode": {
    "name": "ipython",
    "version": 2
   },
   "file_extension": ".py",
   "mimetype": "text/x-python",
   "name": "python",
   "nbconvert_exporter": "python",
   "pygments_lexer": "ipython2",
   "version": "2.7.12"
  }
 },
 "nbformat": 4,
 "nbformat_minor": 0
}
