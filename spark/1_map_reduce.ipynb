{
 "cells": [
  {
   "cell_type": "markdown",
   "metadata": {},
   "source": [
    "![](imgs/logo.png)\n",
    "\n",
    "# Przetwarzanie Big Data z użyciem Apache Spark\n",
    "\n",
    "Autor notebooka: Jakub Nowacki.\n",
    "\n",
    "## MapReduce"
   ]
  },
  {
   "cell_type": "markdown",
   "metadata": {},
   "source": [
    "### Map, reduce (i filter) in Python\n",
    "\n",
    "Nazwa **MapReduce** pochodzi od funkcji *map* i *reduce*.  \n",
    "\n",
    "*Map* i *reduce* (czasami nazywany *fold*) są typowe dla *programowania funkcyjnego*. "
   ]
  },
  {
   "cell_type": "code",
   "execution_count": null,
   "metadata": {
    "collapsed": true
   },
   "outputs": [],
   "source": [
    "# Typowa definicja funkcji w Python\n",
    "def squared(x):\n",
    "    return x**2"
   ]
  },
  {
   "cell_type": "code",
   "execution_count": null,
   "metadata": {
    "collapsed": false
   },
   "outputs": [],
   "source": [
    "squared"
   ]
  },
  {
   "cell_type": "code",
   "execution_count": null,
   "metadata": {
    "collapsed": false
   },
   "outputs": [],
   "source": [
    "squared(12)"
   ]
  },
  {
   "cell_type": "code",
   "execution_count": null,
   "metadata": {
    "collapsed": false
   },
   "outputs": [],
   "source": [
    "# funkcja anonimowa zwana też lambda\n",
    "lambda x: x**2"
   ]
  },
  {
   "cell_type": "code",
   "execution_count": null,
   "metadata": {
    "collapsed": true
   },
   "outputs": [],
   "source": [
    "# Referencje do lambdy można przypisać do zmiennej\n",
    "squared_bis = lambda x: x**2"
   ]
  },
  {
   "cell_type": "code",
   "execution_count": null,
   "metadata": {
    "collapsed": false
   },
   "outputs": [],
   "source": [
    "squared_bis(12)"
   ]
  },
  {
   "cell_type": "code",
   "execution_count": null,
   "metadata": {
    "collapsed": false
   },
   "outputs": [],
   "source": [
    "# map - wykonaj funkcje na wszystkich elementach kolekcji (iterable)\n",
    "# map(function, iterable)\n",
    "map(squared, [1, 2, 3, 4, 5])"
   ]
  },
  {
   "cell_type": "code",
   "execution_count": null,
   "metadata": {
    "collapsed": false
   },
   "outputs": [],
   "source": [
    "# map w Python 3 zwraca iterator; żeby otrzymać listę trzeba wykonać poniższe\n",
    "list(map(squared, [1, 2, 3, 4, 5]))"
   ]
  },
  {
   "cell_type": "code",
   "execution_count": null,
   "metadata": {
    "collapsed": false
   },
   "outputs": [],
   "source": [
    "# W Python 3 reduce przesunięte zostało do functools\n",
    "#from functools import reduce \n",
    "\n",
    "# reduce - redukuje kolekcje do jednego elementu za pomocą funkcji (np. suma, )\n",
    "# reduce(function, iterable, accumulator=0)\n",
    "reduce(lambda x, y: x + y, [1, 2, 3, 4, 5])"
   ]
  },
  {
   "cell_type": "code",
   "execution_count": null,
   "metadata": {
    "collapsed": false
   },
   "outputs": [],
   "source": [
    "# filter - filtruje kolekcje używając funkcji filtrującej zwracającej wartość boolowską\n",
    "# filter(function, iterable)\n",
    "filter(lambda x: x % 2 == 1, [1, 2, 3, 4, 5])"
   ]
  },
  {
   "cell_type": "code",
   "execution_count": null,
   "metadata": {
    "collapsed": false
   },
   "outputs": [],
   "source": [
    "# Podobnie, w Python 3 dostajemy iterator; należy użyć listy aby otrzymać kolekcję\n",
    "list(filter(lambda x: x % 2 == 1, [1, 2, 3, 4, 5]))"
   ]
  },
  {
   "cell_type": "markdown",
   "metadata": {},
   "source": [
    "### Zadania\n",
    "\n",
    "Używająć `map`, `filter` i `reduce`, otrzymaj:\n",
    "\n",
    "* Iloczyn `[1, 2, 3, 4, 5]`.\n",
    "* Długość każdego słowa w liście `[\"Python\", \"Spark\", \"Big\", \"Data\", \"ML\", \"scikit-learn\"]`.\n",
    "* (★) Sumę wszystkich liter w słowach z powyższej listy nie zawierających litery `\"i\"`."
   ]
  },
  {
   "cell_type": "code",
   "execution_count": null,
   "metadata": {
    "collapsed": false
   },
   "outputs": [],
   "source": [
    "print(reduce(lambda x,y: x*y,[1, 2, 3, 4, 5]))\n",
    "print(list(map(lambda item: len(item),[\"Python\", \"Spark\", \"Big\", \"Data\", \"ML\", \"scikit-learn\"])))\n",
    "print(reduce(lambda x,y: x+y,list(map(lambda item: len(item),filter(lambda x: \"i\" not in x,[\"Python\", \"Spark\", \"Big\", \"Data\", \"ML\", \"scikit-learn\"])))))"
   ]
  },
  {
   "cell_type": "code",
   "execution_count": null,
   "metadata": {
    "collapsed": true
   },
   "outputs": [],
   "source": [
    "# Przy okazji\n",
    "x = range(1000000)"
   ]
  },
  {
   "cell_type": "code",
   "execution_count": null,
   "metadata": {
    "collapsed": false
   },
   "outputs": [],
   "source": [
    "%%timeit\n",
    "y = filter(lambda x: x % 2 == 1, x)"
   ]
  },
  {
   "cell_type": "code",
   "execution_count": null,
   "metadata": {
    "collapsed": false
   },
   "outputs": [],
   "source": [
    "%%timeit\n",
    "y = [each for each in x if each % 2 == 1]"
   ]
  },
  {
   "cell_type": "markdown",
   "metadata": {},
   "source": [
    "## MapReduce in Hadoop\n",
    "\n",
    "W Hadoop MapReduce realizowane jest z użyciem par klucz-wartość. Zobacz poniższy przykład:\n",
    "![](imgs/MapReduce_example.png)"
   ]
  },
  {
   "cell_type": "code",
   "execution_count": null,
   "metadata": {
    "collapsed": false
   },
   "outputs": [],
   "source": [
    "import sys\n",
    "from StringIO import StringIO\n",
    "# Python 3\n",
    "#from io import StringIO\n",
    "import contextlib\n",
    "\n",
    "# Funkcja pomocnicza przechwytująca strumień wyjściowy\n",
    "@contextlib.contextmanager\n",
    "def stdoutIO(stdout=None):\n",
    "    old = sys.stdout\n",
    "    if stdout is None:\n",
    "        stdout = StringIO()\n",
    "    sys.stdout = stdout\n",
    "    yield stdout\n",
    "    sys.stdout = old\n",
    "\n",
    "# Linie wejściowe do przetworzenia\n",
    "lines = ['123199901', '567200806', '645200811', '989199933', '452199904', '224200822']\n",
    "\n",
    "# Mapper wyciągający rok i liczbę\n",
    "def mapper(lines):\n",
    "    for line in lines:\n",
    "        key = int(line[3:7])\n",
    "        value = int(line[7:])\n",
    "        print(\"{0}<>{1}\".format(key, value))\n",
    "\n",
    "# Reducer liczący sumę\n",
    "def reducer(lines):\n",
    "    lastKey = None\n",
    "    reduce_sum = 0\n",
    "    for line in lines: \n",
    "        key, value = line.split(\"<>\")\n",
    "        if lastKey is None:\n",
    "            lastKey = key\n",
    "        if key != lastKey:\n",
    "            print(\"{0},{1}\".format(lastKey, reduce_sum))\n",
    "            reduce_sum = 0\n",
    "\n",
    "        reduce_sum += int(value)\n",
    "        lastKey = key\n",
    "    print(\"{0},{1}\".format(lastKey, reduce_sum))\n",
    "    \n",
    "# Przebieg MapReduce \n",
    "# Input\n",
    "print(\"Input: {}\".format(lines))\n",
    "# Map\n",
    "with stdoutIO() as mapper_out:\n",
    "    mapper(lines)\n",
    "shuffled = mapper_out.getvalue().strip().split('\\n')\n",
    "print(\"Mapper out: {}\".format(shuffled))\n",
    "# Shuffle\n",
    "shuffled.sort()\n",
    "print(\"Shuffeled mapper out: {}\".format(shuffled))\n",
    "# Reduce\n",
    "with stdoutIO() as reducer_out:\n",
    "    reducer(shuffled)\n",
    "# Output\n",
    "output = reducer_out.getvalue().strip().split('\\n')\n",
    "print(\"Output: {}\".format(output))"
   ]
  },
  {
   "cell_type": "markdown",
   "metadata": {},
   "source": [
    "\n",
    "\n",
    "## Podstawy Spark"
   ]
  },
  {
   "cell_type": "code",
   "execution_count": 1,
   "metadata": {
    "collapsed": true
   },
   "outputs": [],
   "source": [
    "import pyspark"
   ]
  },
  {
   "cell_type": "code",
   "execution_count": 2,
   "metadata": {
    "collapsed": false
   },
   "outputs": [],
   "source": [
    "sc = pyspark.SparkContext(master='local[*]',appName=\"sparkMapReduce\")"
   ]
  },
  {
   "cell_type": "code",
   "execution_count": null,
   "metadata": {
    "collapsed": true
   },
   "outputs": [],
   "source": [
    "# RDD - Resilient Distributed Datasets, rozpraszanie danych w Spark\n",
    "rdd = sc.parallelize(range(10))"
   ]
  },
  {
   "cell_type": "code",
   "execution_count": null,
   "metadata": {
    "collapsed": false
   },
   "outputs": [],
   "source": [
    "# Obiekt a nie właściwe dane\n",
    "rdd"
   ]
  },
  {
   "cell_type": "code",
   "execution_count": null,
   "metadata": {
    "collapsed": false
   },
   "outputs": [],
   "source": [
    "# zwraca wszystkie elementy; należy używać z rozwagą\n",
    "rdd.collect()"
   ]
  },
  {
   "cell_type": "code",
   "execution_count": null,
   "metadata": {
    "collapsed": false
   },
   "outputs": [],
   "source": [
    "# zwraca liczbę elementów\n",
    "rdd.count()"
   ]
  },
  {
   "cell_type": "code",
   "execution_count": null,
   "metadata": {
    "collapsed": false
   },
   "outputs": [],
   "source": [
    "# zwraca pierwszy\n",
    "rdd.first()"
   ]
  },
  {
   "cell_type": "code",
   "execution_count": null,
   "metadata": {
    "collapsed": false
   },
   "outputs": [],
   "source": [
    "# zwraca 5 pierwszych elementów\n",
    "rdd.take(5)"
   ]
  },
  {
   "cell_type": "code",
   "execution_count": null,
   "metadata": {
    "collapsed": false
   },
   "outputs": [],
   "source": [
    "# zwraca 5 elementów z najwyższą wartością\n",
    "rdd.top(5)"
   ]
  },
  {
   "cell_type": "code",
   "execution_count": null,
   "metadata": {
    "collapsed": false
   },
   "outputs": [],
   "source": [
    "# bierze próbkę losową 3 elementów (bez zwracania próbek)\n",
    "rdd.takeSample(False, 3)"
   ]
  },
  {
   "cell_type": "code",
   "execution_count": null,
   "metadata": {
    "collapsed": false
   },
   "outputs": [],
   "source": [
    "# operacje można łączyć w łańcuch\n",
    "rdd.filter(lambda x: x % 2 == 0)\\\n",
    "    .map(lambda x: x*x*x)\\\n",
    "    .collect()"
   ]
  },
  {
   "cell_type": "code",
   "execution_count": null,
   "metadata": {
    "collapsed": false
   },
   "outputs": [],
   "source": [
    "# suma wszystkich elementów\n",
    "rdd.reduce(lambda x, y: x + y)"
   ]
  },
  {
   "cell_type": "code",
   "execution_count": null,
   "metadata": {
    "collapsed": false
   },
   "outputs": [],
   "source": [
    "# alternatywnie możemy wykorzystać operator\n",
    "from operator import add\n",
    "rdd.reduce(add)"
   ]
  },
  {
   "cell_type": "code",
   "execution_count": null,
   "metadata": {
    "collapsed": true
   },
   "outputs": [],
   "source": [
    "# kolejny przykład z liczeniem słów\n",
    "animals = sc.parallelize([\"cat\", \"python\", \"cat\", \"snake\", \"snake\"])"
   ]
  },
  {
   "cell_type": "code",
   "execution_count": null,
   "metadata": {
    "collapsed": false
   },
   "outputs": [],
   "source": [
    "# mapa do pary klucz-wartość\n",
    "animal_kv = animals.map(lambda x: (x, 1))"
   ]
  },
  {
   "cell_type": "code",
   "execution_count": null,
   "metadata": {
    "collapsed": false
   },
   "outputs": [],
   "source": [
    "animal_kv.collect()"
   ]
  },
  {
   "cell_type": "code",
   "execution_count": null,
   "metadata": {
    "collapsed": false
   },
   "outputs": [],
   "source": [
    "# redukujemy parami wszystkie wartości dla danego klucza\n",
    "animal_kv \\\n",
    "  .reduceByKey(add)  \\\n",
    "  .collect()"
   ]
  },
  {
   "cell_type": "markdown",
   "metadata": {},
   "source": [
    "## Text processing\n",
    "\n",
    "Będziemy analizować [\"The Tragedy of Titus Andronicus\" by William Shakespeare](http://www.gutenberg.org/cache/epub/1106/pg1106.txt) z Project Gutenberg.\n",
    "\n",
    "Zbiór nie jest Big Data ale ilustruje koncepcję przetwarzania w Spark."
   ]
  },
  {
   "cell_type": "code",
   "execution_count": 7,
   "metadata": {
    "collapsed": false
   },
   "outputs": [],
   "source": [
    "lines = sc.textFile(\"data/titus_andronicus.txt\")"
   ]
  },
  {
   "cell_type": "code",
   "execution_count": 8,
   "metadata": {
    "collapsed": false
   },
   "outputs": [
    {
     "data": {
      "text/plain": [
       "3255"
      ]
     },
     "execution_count": 8,
     "metadata": {},
     "output_type": "execute_result"
    }
   ],
   "source": [
    "# liczba linii\n",
    "lines.count()"
   ]
  },
  {
   "cell_type": "code",
   "execution_count": 9,
   "metadata": {
    "collapsed": false
   },
   "outputs": [
    {
     "data": {
      "text/plain": [
       "[u'',\n",
       " u'This Etext file is presented by Project Gutenberg, in',\n",
       " u'cooperation with World Library, Inc., from their Library of the',\n",
       " u'Future and Shakespeare CDROMS.  Project Gutenberg often releases',\n",
       " u'Etexts that are NOT placed in the Public Domain!!']"
      ]
     },
     "execution_count": 9,
     "metadata": {},
     "output_type": "execute_result"
    }
   ],
   "source": [
    "lines.take(5)"
   ]
  },
  {
   "cell_type": "code",
   "execution_count": 10,
   "metadata": {
    "collapsed": false
   },
   "outputs": [],
   "source": [
    "# zmieniamy linie w kolekcje słów\n",
    "words = lines.flatMap(lambda x: x.split())"
   ]
  },
  {
   "cell_type": "code",
   "execution_count": 11,
   "metadata": {
    "collapsed": false
   },
   "outputs": [
    {
     "data": {
      "text/plain": [
       "[u'This', u'Etext', u'file', u'is', u'presented']"
      ]
     },
     "execution_count": 11,
     "metadata": {},
     "output_type": "execute_result"
    }
   ],
   "source": [
    "words.take(5)"
   ]
  },
  {
   "cell_type": "code",
   "execution_count": 12,
   "metadata": {
    "collapsed": false
   },
   "outputs": [
    {
     "data": {
      "text/plain": [
       "23531"
      ]
     },
     "execution_count": 12,
     "metadata": {},
     "output_type": "execute_result"
    }
   ],
   "source": [
    "# liczba słów\n",
    "words.count()"
   ]
  },
  {
   "cell_type": "markdown",
   "metadata": {},
   "source": [
    "### Zadanie\n",
    "\n",
    "* Co się stanie jak użyjemy `map` zamiast `flatMap`?"
   ]
  },
  {
   "cell_type": "code",
   "execution_count": 13,
   "metadata": {
    "collapsed": false
   },
   "outputs": [],
   "source": [
    "# Liczymy słowa tylko z pierwszą wielką literą\n",
    "capitalized = words \\\n",
    "  .filter(lambda x: x[0].isupper()) \\"
   ]
  },
  {
   "cell_type": "code",
   "execution_count": 14,
   "metadata": {
    "collapsed": false
   },
   "outputs": [
    {
     "data": {
      "text/plain": [
       "[u'This', u'Etext', u'Project', u'Gutenberg,', u'World']"
      ]
     },
     "execution_count": 14,
     "metadata": {},
     "output_type": "execute_result"
    }
   ],
   "source": [
    "capitalized.take(5)"
   ]
  },
  {
   "cell_type": "code",
   "execution_count": 15,
   "metadata": {
    "collapsed": false
   },
   "outputs": [
    {
     "data": {
      "text/plain": [
       "[u'REMEDIES',\n",
       " u'Saturninus',\n",
       " u'GOTHS',\n",
       " u'Soft!',\n",
       " u'Fame,',\n",
       " u'Somewhither',\n",
       " u'Saint',\n",
       " u'Publius,',\n",
       " u'Andronicus',\n",
       " u'Pyramus']"
      ]
     },
     "execution_count": 15,
     "metadata": {},
     "output_type": "execute_result"
    }
   ],
   "source": [
    "capitalized.distinct().take(10)"
   ]
  },
  {
   "cell_type": "code",
   "execution_count": 17,
   "metadata": {
    "collapsed": false
   },
   "outputs": [
    {
     "data": {
      "text/plain": [
       "[(u'I', 390),\n",
       " (u'And', 289),\n",
       " (u'TITUS.', 118),\n",
       " (u'The', 90),\n",
       " (u'To', 85),\n",
       " (u'That', 84),\n",
       " (u'MARCUS.', 65),\n",
       " (u'But', 61),\n",
       " (u'AARON.', 58),\n",
       " (u'For', 55)]"
      ]
     },
     "execution_count": 17,
     "metadata": {},
     "output_type": "execute_result"
    }
   ],
   "source": [
    "from operator import add\n",
    "capitalized \\\n",
    "  .map(lambda x: (x, 1)) \\\n",
    "  .reduceByKey(add) \\\n",
    "  .top(10, lambda x: x[1])  # możemy wybrać wartość z pary klucz-wartość jako element sortujący"
   ]
  },
  {
   "cell_type": "markdown",
   "metadata": {},
   "source": [
    "### Zadania\n",
    "\n",
    "* Wypisz 5 linii zaczynających się od \"Titus\" lub \"Marcus\" (usuwając spacje jeżeli potrzeba).\n",
    "* Wypisz 20 najpopularniejszych słów z samymi WIELKIMI LITERAMI.\n",
    "* ★ Jaka jestczęstotliwość wyrazów w dziele?\n",
    "\n",
    "### (Python) hints"
   ]
  },
  {
   "cell_type": "code",
   "execution_count": 27,
   "metadata": {
    "collapsed": false
   },
   "outputs": [
    {
     "data": {
      "text/plain": [
       "[u'    Titus, unkind, and careless of thine own,',\n",
       " u'    Titus Andronicus, the people of Rome,',\n",
       " u'    Marcus, unknit that sorrow-wreathen knot;']"
      ]
     },
     "execution_count": 27,
     "metadata": {},
     "output_type": "execute_result"
    }
   ],
   "source": [
    "lines.filter(lambda x: x.strip().startswith('Titus') or x.strip().startswith('Marcus')).take(3)"
   ]
  },
  {
   "cell_type": "code",
   "execution_count": 35,
   "metadata": {
    "collapsed": false
   },
   "outputs": [
    {
     "data": {
      "text/plain": [
       "[(u'I', 390),\n",
       " (u'TITUS.', 118),\n",
       " (u'MARCUS.', 65),\n",
       " (u'AARON.', 58),\n",
       " (u'LUCIUS.', 51),\n",
       " (u'SATURNINUS.', 50),\n",
       " (u'TAMORA.', 49),\n",
       " (u'A', 45),\n",
       " (u'DEMETRIUS.', 39),\n",
       " (u'O,', 37),\n",
       " (u'OF', 36),\n",
       " (u'OR', 36),\n",
       " (u'FOR', 32),\n",
       " (u'CHIRON.', 30),\n",
       " (u'O', 30),\n",
       " (u'AND', 27),\n",
       " (u'BY', 27),\n",
       " (u'ARE', 22),\n",
       " (u'IS', 20),\n",
       " (u'ELECTRONIC', 18)]"
      ]
     },
     "execution_count": 35,
     "metadata": {},
     "output_type": "execute_result"
    }
   ],
   "source": [
    "# zmieniamy linie w kolekcje słów\n",
    "words = lines.flatMap(lambda x: x.split())\n",
    "capitalized = words \\\n",
    "  .filter(lambda x: x.isupper()) \\\n",
    "\n",
    "capitalized \\\n",
    "  .map(lambda x: (x, 1)) \\\n",
    "  .reduceByKey(add) \\\n",
    "  .top(20, lambda x: x[1])  # możemy wybrać wartość z pary klucz-wartość jako element sortujący"
   ]
  },
  {
   "cell_type": "code",
   "execution_count": 38,
   "metadata": {
    "collapsed": false
   },
   "outputs": [
    {
     "data": {
      "text/plain": [
       "[(u'the', 633),\n",
       " (u'and', 562),\n",
       " (u'to', 419),\n",
       " (u'I', 390),\n",
       " (u'of', 348),\n",
       " (u'And', 289),\n",
       " (u'my', 273),\n",
       " (u'a', 269),\n",
       " (u'in', 259),\n",
       " (u'with', 256),\n",
       " (u'that', 195),\n",
       " (u'you', 190),\n",
       " (u'thy', 189),\n",
       " (u'for', 172),\n",
       " (u'this', 165),\n",
       " (u'is', 156),\n",
       " (u'his', 154),\n",
       " (u'not', 150),\n",
       " (u'thou', 148),\n",
       " (u'be', 145)]"
      ]
     },
     "execution_count": 38,
     "metadata": {},
     "output_type": "execute_result"
    }
   ],
   "source": [
    "words = lines.flatMap(lambda x: x.split())\n",
    "words \\\n",
    "    .map(lambda x: (x,1)) \\\n",
    "    .reduceByKey(add) \\\n",
    "    .top(20, lambda x: x[1])"
   ]
  },
  {
   "cell_type": "code",
   "execution_count": null,
   "metadata": {
    "collapsed": false
   },
   "outputs": [],
   "source": [
    "\"  some string with whitespaces \\t  \".strip()"
   ]
  },
  {
   "cell_type": "code",
   "execution_count": null,
   "metadata": {
    "collapsed": false
   },
   "outputs": [],
   "source": [
    "\"Jake likes his dog.\".startswith(\"Anne\")"
   ]
  },
  {
   "cell_type": "code",
   "execution_count": 18,
   "metadata": {
    "collapsed": false
   },
   "outputs": [
    {
     "data": {
      "text/plain": [
       "True"
      ]
     },
     "execution_count": 18,
     "metadata": {},
     "output_type": "execute_result"
    }
   ],
   "source": [
    "\"Jake likes his dog.\".startswith(\"Jake\")"
   ]
  },
  {
   "cell_type": "code",
   "execution_count": null,
   "metadata": {
    "collapsed": false
   },
   "outputs": [],
   "source": [
    "\"Anne\" or \"Jake\"  # Nie rób: string.startswith(a or b)"
   ]
  },
  {
   "cell_type": "code",
   "execution_count": null,
   "metadata": {
    "collapsed": false
   },
   "outputs": [],
   "source": [
    "\"abc,-\".replace(\",\", \"\")"
   ]
  },
  {
   "cell_type": "code",
   "execution_count": null,
   "metadata": {
    "collapsed": false
   },
   "outputs": [],
   "source": [
    "\"abc,-\".replace(\",\", \"\").replace(\"-\", \"\")"
   ]
  },
  {
   "cell_type": "code",
   "execution_count": null,
   "metadata": {
    "collapsed": false
   },
   "outputs": [],
   "source": [
    "# Wyrażenia regularne w pythonie\n",
    "import re\n",
    "re.findall(\"[\\w]+\", \"Titus Andronicus Roman-legion\")"
   ]
  }
 ],
 "metadata": {
  "anaconda-cloud": {},
  "kernelspec": {
   "display_name": "Python [default]",
   "language": "python",
   "name": "python2"
  },
  "language_info": {
   "codemirror_mode": {
    "name": "ipython",
    "version": 2
   },
   "file_extension": ".py",
   "mimetype": "text/x-python",
   "name": "python",
   "nbconvert_exporter": "python",
   "pygments_lexer": "ipython2",
   "version": "2.7.12"
  }
 },
 "nbformat": 4,
 "nbformat_minor": 0
}
